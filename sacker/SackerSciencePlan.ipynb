{
 "cells": [
  {
   "cell_type": "markdown",
   "metadata": {},
   "source": [
    "# Science Plan\n",
    "\n",
    "Objective - test hypothesis that weather events can affect the bottom currents that control the bending and rise heights of Hydrothermal plumes \n",
    "\n",
    "## Step One - Find Some Data\n",
    "\n",
    "* Check out the loaded zip file. It contains plume bending data (direction of bending and magnitude of bending), vertical velocity in the plume, a vent temperature data file, and some weather data.  Note these files contain data for two time frames - Oct 2010 and Oct to Dec 2011. \n",
    "    i. BendData*.txt - these two files are the basic bending data - three columns = {direction as angle from north, bending magnitude as angle from vertical, julian date}\n",
    "    ii. Other files are .mat format so Dax or I may need to help with these. I’ll try to load more information on them soon.\n",
    "* I also loaded two powerpoints of talks that came out of the pilot study.  Some of the material is irrelevant.\n",
    "* I don’t have a handy tidal data file -- bottom current and pressure from tides -- but this should exist at least as model data\n",
    "* At Ocean Networks Canada’s NEPTUNE observatory, they had current meters (ADCP) at a regional circulation mooring about 1 km N to NE of the COVIS site that collected data in Oct 2010 and in late 2011 to early 2012. \n",
    "* I did include the weather data I found. This came from the NOAA and National Weather Center’s records.  Feel free to do your own hunt for data!\n",
    "* At some point, you might want the actual grids of COVIS data.  Right now most data is in Matlab’s .mat format and takes a bit of processing to get images, centerlines, and bending data.  But this will be useful to lengthen the data series (COVIS took data in Oct 2010 and form Oct 2011 to some time in late 2014 or early 2015).\n"
   ]
  },
  {
   "cell_type": "markdown",
   "metadata": {},
   "source": [
    "## Relevant PowerPoint Slides\n",
    "\n",
    "Add Important PowerPoint Slides"
   ]
  },
  {
   "cell_type": "code",
   "execution_count": null,
   "metadata": {},
   "outputs": [],
   "source": [
    "import numpy as np\n",
    "import matplotlib.pyplot as plt\n",
    "%matplotlib inline\n",
    "from mpl_toolkits import mplot3d\n",
    "import pandas as pd\n",
    "from datetime import datetime"
   ]
  },
  {
   "cell_type": "markdown",
   "metadata": {},
   "source": [
    "## Step Two - Plot The Data\n",
    "* What patterns do you see?  \n",
    "* What else can you do with this data?\n",
    "* Do the different data sets correlate?\n",
    "\n",
    "**Plume Bending Data**\n",
    "\n",
    "**Time series of direction and magnitude:**\n",
    "For current data, the magnitude would be a speed.  For the plumes, what we have is an angle from the vertical.  So for the other plots, we will need to assume a distance over which that angle applies.\n",
    "\n",
    "2010"
   ]
  },
  {
   "cell_type": "code",
   "execution_count": null,
   "metadata": {},
   "outputs": [],
   "source": [
    "df_BD2010 = pd.read_csv('BendData2010Oct.txt', sep=\"  \", header=None, engine='python')\n",
    "df_BD2010.columns = [\"Direction\", \"Angle from Vertical\", \"Julian Day\"]\n",
    "df_BD2010"
   ]
  },
  {
   "cell_type": "code",
   "execution_count": null,
   "metadata": {},
   "outputs": [],
   "source": [
    "DirPlot2010 = df_BD2010.plot(kind='line',x='Julian Day',y=\"Direction\",color='black')\n",
    "DirPlot2010.set_title(\"Direction of Bending\")\n",
    "DirPlot2010.set_xlabel('Julain Day')\n",
    "DirPlot2010.set_ylabel('Direction (Degrees from North)')"
   ]
  },
  {
   "cell_type": "code",
   "execution_count": null,
   "metadata": {},
   "outputs": [],
   "source": [
    "AFVPlot2010 = df_BD2010.plot(kind='line',x='Julian Day',y=\"Angle from Vertical\",color='black')\n",
    "AFVPlot2010.set_title(\"Bending Angle from Vertical\")\n",
    "AFVPlot2010.set_xlabel('Julain Day')\n",
    "AFVPlot2010.set_ylabel('Angle from Vertical (Degress)')"
   ]
  },
  {
   "cell_type": "code",
   "execution_count": null,
   "metadata": {},
   "outputs": [],
   "source": [
    "DirAFVPlot2010 = df_BD2010.plot(kind='line',x='Julian Day',y=[\"Direction\", \"Angle from Vertical\"],color=['blue','red'])\n",
    "DirAFVPlot2010.set_title(\"Plume Bending Data 2010\")\n",
    "DirAFVPlot2010.set_xlabel('Julain Day')\n",
    "DirAFVPlot2010.set_ylabel('Degress')"
   ]
  },
  {
   "cell_type": "markdown",
   "metadata": {},
   "source": [
    "2011"
   ]
  },
  {
   "cell_type": "code",
   "execution_count": null,
   "metadata": {},
   "outputs": [],
   "source": [
    "df_BD2011 = pd.read_csv('BendData2011OctDec.txt', sep=\"  \", header=None, engine='python')\n",
    "df_BD2011.columns = [\"Direction\", \"Angle from Vertical\", \"Julian Day\"]\n",
    "df_BD2011"
   ]
  },
  {
   "cell_type": "code",
   "execution_count": null,
   "metadata": {},
   "outputs": [],
   "source": [
    "DirPlot2011 = df_BD2011.plot(kind='line',x='Julian Day',y=\"Direction\",color='black')\n",
    "DirPlot2011.set_title(\"Direction of Bending\")\n",
    "DirPlot2011.set_xlabel('Julain Day')\n",
    "DirPlot2011.set_ylabel('Direction (Degrees from North)')"
   ]
  },
  {
   "cell_type": "code",
   "execution_count": null,
   "metadata": {},
   "outputs": [],
   "source": [
    "AFVPlot2011 = df_BD2011.plot(kind='line',x='Julian Day',y=\"Angle from Vertical\",color='black')\n",
    "AFVPlot2011.set_title(\"Bending Angle from Vertical\")\n",
    "AFVPlot2011.set_xlabel('Julain Day')\n",
    "AFVPlot2011.set_ylabel('Angle from Vertical (Degress)')"
   ]
  },
  {
   "cell_type": "code",
   "execution_count": null,
   "metadata": {},
   "outputs": [],
   "source": [
    "DirAFVPlot2011 = df_BD2011.plot(kind='line',x='Julian Day',y=[\"Direction\", \"Angle from Vertical\"],color=['blue','red'])\n",
    "DirAFVPlot2011.set_title(\"Plume Bending Data 2010\")\n",
    "DirAFVPlot2011.set_xlabel('Julain Day')\n",
    "DirAFVPlot2011.set_ylabel('Degress')"
   ]
  },
  {
   "cell_type": "markdown",
   "metadata": {},
   "source": [
    "**Time series of East and North components:**  \n",
    "For current information (direction and speed), this is a straightforward conversion using the standard polar coordinate equations with the direction as the angle and the speed as the range.  Note, however, that all our directions are angles from North (+y axis direction) and that python is likely to define angles relative to the +x or -y axis, so you may need to apply a correction before using polar coordinates.  For plumes, you need the 3D polar coordinates (two angles and a range). The direction is the azimuth or angle in the 2D plane while the bending magnitude is the angle from vertical.  You will need to assume a “unit” height.\n",
    "\n",
    "2010"
   ]
  },
  {
   "cell_type": "code",
   "execution_count": null,
   "metadata": {},
   "outputs": [],
   "source": []
  },
  {
   "cell_type": "markdown",
   "metadata": {},
   "source": [
    "2011"
   ]
  },
  {
   "cell_type": "code",
   "execution_count": null,
   "metadata": {},
   "outputs": [],
   "source": []
  },
  {
   "cell_type": "markdown",
   "metadata": {},
   "source": [
    "Centerline Vertical Flow Rate "
   ]
  },
  {
   "cell_type": "code",
   "execution_count": null,
   "metadata": {},
   "outputs": [],
   "source": [
    "df_CVFR2010 = pd.read_csv('CenterlineVerticalFlowRate2010.csv', sep=\",\", header=None, engine='python', usecols = [6,7,8])\n",
    "df_CVFR2010.columns = [\"Date\", \"Time\", \"Flow Rate\"]\n",
    "df_CVFR2010['Date Time'] = df_CVFR2010['Date'] + ' ' + df_CVFR2010['Time']\n",
    "df_CVFR2010[\"Date Time\"] = pd.to_datetime(df_CVFR2010[\"Date Time\"])\n",
    "df_CVFR2010 = df_CVFR2010.drop([\"Date\", \"Time\"], axis=1)\n",
    "df_CVFR2010 = df_CVFR2010.set_index('Date Time')\n",
    "df_CVFR2010"
   ]
  },
  {
   "cell_type": "code",
   "execution_count": null,
   "metadata": {},
   "outputs": [],
   "source": [
    "CVFRPlot = df_CVFR2010.plot(kind='line',color='black')\n",
    "CVFRPlot.set_title(\"Centerline Vertical Flow Rate\")\n",
    "CVFRPlot.set_xlabel('Date Time')\n",
    "CVFRPlot.set_ylabel('Flow Rate (m/s)')"
   ]
  },
  {
   "cell_type": "markdown",
   "metadata": {},
   "source": [
    "Ras Data"
   ]
  },
  {
   "cell_type": "code",
   "execution_count": null,
   "metadata": {},
   "outputs": [],
   "source": [
    "df_RAS2010 = pd.read_csv('RasData2010.csv', sep=\",\", header=None, engine='python', usecols = [6,7,8])\n",
    "df_RAS2010.columns = [\"Date\", \"Time\", \"Temperature\"]\n",
    "df_RAS2010['Date Time'] = df_RAS2010['Date'] + ' ' + df_RAS2010['Time']\n",
    "df_RAS2010[\"Date Time\"] = pd.to_datetime(df_RAS2010[\"Date Time\"])\n",
    "df_RAS2010 = df_RAS2010.drop([\"Date\", \"Time\"], axis=1)\n",
    "df_RAS2010 = df_RAS2010.set_index('Date Time')\n",
    "df_RAS2010"
   ]
  },
  {
   "cell_type": "code",
   "execution_count": null,
   "metadata": {},
   "outputs": [],
   "source": [
    "RASPlot = df_RAS2010.plot(kind='line',color='black')\n",
    "RASPlot.set_title(\"RAS Temperature\")\n",
    "RASPlot.set_xlabel('Date Time')\n",
    "RASPlot.set_ylabel('Temperature (°C)')"
   ]
  },
  {
   "cell_type": "markdown",
   "metadata": {},
   "source": [
    "**Weather Data**\n",
    "\n",
    "Weather Data 2010 C46036"
   ]
  },
  {
   "cell_type": "code",
   "execution_count": null,
   "metadata": {},
   "outputs": [],
   "source": [
    "df_WD2010C = pd.read_csv('WeatherC2010.csv', sep=\",\", header=None, engine='python', usecols = [6,7,8,9,10,11,12,13,14,15])\n",
    "df_WD2010C.columns = [\"Date\", \"Time\", \"Julian Day\", \"Wave Height\", \"Wind Direction\", \"Wind Speed\", \"Wind Gust Speed\", \"Atmospheric Pressure\",\"Air Temperature\"]\n",
    "df_WD2010C['Date Time'] = df_WD2010C['Date'] + ' ' + df_WD2010C['Time']\n",
    "df_WD2010C[\"Date Time\"] = pd.to_datetime(df_WD2010C[\"Date Time\"])\n",
    "df_WD2010C = df_WD2010C.drop([\"Date\", \"Time\"], axis=1)\n",
    "df_WD2010C = df_WD2010C.set_index('Date Time')\n",
    "df_WD2010C"
   ]
  },
  {
   "cell_type": "code",
   "execution_count": null,
   "metadata": {},
   "outputs": [],
   "source": [
    "WH2010CPlot = df_WD2010C.plot(kind='line',color='black', y='Wave Height')\n",
    "WH2010CPlot.set_title(\"Wave Height 2010 at C46036\")\n",
    "WH2010CPlot.set_xlabel('Date Time')\n",
    "WH2010CPlot.set_ylabel('Wave Height')"
   ]
  },
  {
   "cell_type": "code",
   "execution_count": null,
   "metadata": {},
   "outputs": [],
   "source": [
    "WDir2010CPlot = df_WD2010C.plot(kind='line',color='black', y='Wind Direction')\n",
    "WDir2010CPlot.set_title(\"Wind Direction 2010 at C46036\")\n",
    "WDir2010CPlot.set_xlabel('Date Time')\n",
    "WDir2010CPlot.set_ylabel('Wind Direction')"
   ]
  },
  {
   "cell_type": "code",
   "execution_count": null,
   "metadata": {},
   "outputs": [],
   "source": [
    "WS2010CPlot = df_WD2010C.plot(kind='line',color='black', y='Wind Speed')\n",
    "WS2010CPlot.set_title(\"Wind Speed 2010 at C46036\")\n",
    "WS2010CPlot.set_xlabel('Date Time')\n",
    "WS2010CPlot.set_ylabel('Wind Speed (m/s)')"
   ]
  },
  {
   "cell_type": "code",
   "execution_count": null,
   "metadata": {},
   "outputs": [],
   "source": [
    "WGS2010CPlot = df_WD2010C.plot(kind='line',color='black', y='Wind Gust Speed')\n",
    "WGS2010CPlot.set_title(\"Wind Gust Speed 2010 at C46036\")\n",
    "WGS2010CPlot.set_xlabel('Date Time')\n",
    "WGS2010CPlot.set_ylabel('Wind Gust Speed (m/s)')"
   ]
  },
  {
   "cell_type": "code",
   "execution_count": null,
   "metadata": {},
   "outputs": [],
   "source": [
    "AP2010CPlot = df_WD2010C.plot(kind='line',color='black', y='Atmospheric Pressure')\n",
    "AP2010CPlot.set_title(\"Atmospheric Pressure 2010 at C46036\")\n",
    "AP2010CPlot.set_xlabel('Date Time')\n",
    "AP2010CPlot.set_ylabel('Atmospheric Pressure')"
   ]
  },
  {
   "cell_type": "code",
   "execution_count": null,
   "metadata": {},
   "outputs": [],
   "source": [
    "AT2010CPlot = df_WD2010C.plot(kind='line',color='black', y='Air Temperature')\n",
    "AT2010CPlot.set_title(\"Air Temperature 2010 at C46036\")\n",
    "AT2010CPlot.set_xlabel('Date Time')\n",
    "AT2010CPlot.set_ylabel('Air Temperature')"
   ]
  },
  {
   "cell_type": "markdown",
   "metadata": {},
   "source": [
    "Weather Data 2011 C46036"
   ]
  },
  {
   "cell_type": "code",
   "execution_count": null,
   "metadata": {},
   "outputs": [],
   "source": [
    "df_WD2011C = pd.read_csv('WeatherC2011.csv', sep=\",\", header=None, engine='python', usecols = [6,7,8,9,10,11,12,13,14,15])\n",
    "df_WD2011C.columns = [\"Date\", \"Time\", \"Julian Day\", \"Wave Height\", \"Wind Direction\", \"Wind Speed\", \"Wind Gust Speed\", \"Atmospheric Pressure\",\"Air Temperature\"]\n",
    "df_WD2011C['Date Time'] = df_WD2011C['Date'] + ' ' + df_WD2011C['Time']\n",
    "df_WD2011C[\"Date Time\"] = pd.to_datetime(df_WD2011C[\"Date Time\"])\n",
    "df_WD2011C = df_WD2011C.drop([\"Date\", \"Time\"], axis=1)\n",
    "df_WD2011C = df_WD2011C.set_index('Date Time')\n",
    "df_WD2011C"
   ]
  },
  {
   "cell_type": "code",
   "execution_count": null,
   "metadata": {},
   "outputs": [],
   "source": [
    "WH2011CPlot = df_WD2011C.plot(kind='line',color='black', y='Wave Height')\n",
    "WH2011CPlot.set_title(\"Wave Height 2011 at C46036\")\n",
    "WH2011CPlot.set_xlabel('Date Time')\n",
    "WH2011CPlot.set_ylabel('Wave Height')"
   ]
  },
  {
   "cell_type": "code",
   "execution_count": null,
   "metadata": {},
   "outputs": [],
   "source": [
    "WDir2011CPlot = df_WD2011C.plot(kind='line',color='black', y='Wind Direction')\n",
    "WDir2011CPlot.set_title(\"Wind Direction 2011 at C46036\")\n",
    "WDir2011CPlot.set_xlabel('Date Time')\n",
    "WDir2011CPlot.set_ylabel('Wind Direction')"
   ]
  },
  {
   "cell_type": "code",
   "execution_count": null,
   "metadata": {},
   "outputs": [],
   "source": [
    "WS2011CPlot = df_WD2011C.plot(kind='line',color='black', y='Wind Speed')\n",
    "WS2011CPlot.set_title(\"Wind Speed 2011 at C46036\")\n",
    "WS2011CPlot.set_xlabel('Date Time')\n",
    "WS2011CPlot.set_ylabel('Wind Speed (m/s)')"
   ]
  },
  {
   "cell_type": "code",
   "execution_count": null,
   "metadata": {},
   "outputs": [],
   "source": [
    "WGS2011CPlot = df_WD2011C.plot(kind='line',color='black', y='Wind Gust Speed')\n",
    "WGS2011CPlot.set_title(\"Wind Gust Speed 2011 at C46036\")\n",
    "WGS2011CPlot.set_xlabel('Date Time')\n",
    "WGS2011CPlot.set_ylabel('Wind Gust Speed (m/s)')"
   ]
  },
  {
   "cell_type": "code",
   "execution_count": null,
   "metadata": {},
   "outputs": [],
   "source": [
    "AP2011CPlot = df_WD2011C.plot(kind='line',color='black', y='Atmospheric Pressure')\n",
    "AP2011CPlot.set_title(\"Atmospheric Pressure 2011 at C46036\")\n",
    "AP2011CPlot.set_xlabel('Date Time')\n",
    "AP2011CPlot.set_ylabel('Atmospheric Pressure')"
   ]
  },
  {
   "cell_type": "code",
   "execution_count": null,
   "metadata": {},
   "outputs": [],
   "source": [
    "AT2011CPlot = df_WD2011C.plot(kind='line',color='black', y='Air Temperature')\n",
    "AT2011CPlot.set_title(\"Air Temperature 2011 at C46036\")\n",
    "AT2011CPlot.set_xlabel('Date Time')\n",
    "AT2011CPlot.set_ylabel('Air Temperature')"
   ]
  },
  {
   "cell_type": "markdown",
   "metadata": {},
   "source": [
    "Weather Data 2010 Tillamook"
   ]
  },
  {
   "cell_type": "code",
   "execution_count": null,
   "metadata": {},
   "outputs": [],
   "source": [
    "df_WD2010T = pd.read_csv('WeatherT2010.csv', sep=\",\", header=None, engine='python', usecols = [6,7,8,9,10,11,12,13,14,15])\n",
    "df_WD2010T.columns = [\"Date\", \"Time\", \"Julian Day\", \"Wave Height\", \"Wind Direction\", \"Wind Speed\", \"Wind Gust Speed\", \"Atmospheric Pressure\",\"Air Temperature\"]\n",
    "df_WD2010T['Date Time'] = df_WD2010T['Date'] + ' ' + df_WD2010T['Time']\n",
    "df_WD2010T[\"Date Time\"] = pd.to_datetime(df_WD2010T[\"Date Time\"])\n",
    "df_WD2010T = df_WD2010T.drop([\"Date\", \"Time\"], axis=1)\n",
    "df_WD2010T = df_WD2010T.set_index('Date Time')\n",
    "df_WD2010T"
   ]
  },
  {
   "cell_type": "code",
   "execution_count": null,
   "metadata": {},
   "outputs": [],
   "source": [
    "WDir2010TPlot = df_WD2010T.plot(kind='line',color='black', y='Wind Direction')\n",
    "WDir2010TPlot.set_title(\"Wind Direction 2010 at Tillamook\")\n",
    "WDir2010TPlot.set_xlabel('Date Time')\n",
    "WDir2010TPlot.set_ylabel('Wind Direction')"
   ]
  },
  {
   "cell_type": "code",
   "execution_count": null,
   "metadata": {},
   "outputs": [],
   "source": [
    "WS2010TPlot = df_WD2010T.plot(kind='line',color='black', y='Wind Speed')\n",
    "WS2010TPlot.set_title(\"Wind Speed 2010 at Tillamook\")\n",
    "WS2010TPlot.set_xlabel('Date Time')\n",
    "WS2010TPlot.set_ylabel('Wind Speed (m/s)')"
   ]
  },
  {
   "cell_type": "code",
   "execution_count": null,
   "metadata": {},
   "outputs": [],
   "source": [
    "WGS2010TPlot = df_WD2010T.plot(kind='line',color='black', y='Wind Gust Speed')\n",
    "WGS2010TPlot.set_title(\"Wind Gust Speed 2010 at Tillamook\")\n",
    "WGS2010TPlot.set_xlabel('Date Time')\n",
    "WGS2010TPlot.set_ylabel('Wind Gust Speed (m/s)')"
   ]
  },
  {
   "cell_type": "code",
   "execution_count": null,
   "metadata": {},
   "outputs": [],
   "source": [
    "AT2010TPlot = df_WD2010T.plot(kind='line',color='black', y='Air Temperature')\n",
    "AT2010TPlot.set_title(\"Air Temperature 2010 at Tillamook\")\n",
    "AT2010TPlot.set_xlabel('Date Time')\n",
    "AT2010TPlot.set_ylabel('Air Temperature')"
   ]
  },
  {
   "cell_type": "markdown",
   "metadata": {},
   "source": [
    "Weather Data 2011 Tillamook"
   ]
  },
  {
   "cell_type": "code",
   "execution_count": null,
   "metadata": {},
   "outputs": [],
   "source": [
    "df_WD2011T = pd.read_csv('WeatherT2011.csv', sep=\",\", header=None, engine='python', usecols = [6,7,8,9,10,11,12,13,14,15])\n",
    "df_WD2011T.columns = [\"Date\", \"Time\", \"Julian Day\", \"Wave Height\", \"Wind Direction\", \"Wind Speed\", \"Wind Gust Speed\", \"Atmospheric Pressure\",\"Air Temperature\"]\n",
    "df_WD2011T['Date Time'] = df_WD2011T['Date'] + ' ' + df_WD2011T['Time']\n",
    "df_WD2011T[\"Date Time\"] = pd.to_datetime(df_WD2011T[\"Date Time\"])\n",
    "df_WD2011T = df_WD2011T.drop([\"Date\", \"Time\"], axis=1)\n",
    "df_WD2011T = df_WD2011T.set_index('Date Time')\n",
    "df_WD2011T"
   ]
  },
  {
   "cell_type": "code",
   "execution_count": null,
   "metadata": {},
   "outputs": [],
   "source": [
    "WDir2011TPlot = df_WD2011T.plot(kind='line',color='black', y='Wind Direction')\n",
    "WDir2011TPlot.set_title(\"Wind Direction 2011 at Tillamook\")\n",
    "WDir2011TPlot.set_xlabel('Date Time')\n",
    "WDir2011TPlot.set_ylabel('Wind Direction')"
   ]
  },
  {
   "cell_type": "code",
   "execution_count": null,
   "metadata": {},
   "outputs": [],
   "source": [
    "WS2011TPlot = df_WD2011T.plot(kind='line',color='black', y='Wind Speed')\n",
    "WS2011TPlot.set_title(\"Wind Speed 2011 at Tillamook\")\n",
    "WS2011TPlot.set_xlabel('Date Time')\n",
    "WS2011TPlot.set_ylabel('Wind Speed (m/s)')"
   ]
  },
  {
   "cell_type": "code",
   "execution_count": null,
   "metadata": {},
   "outputs": [],
   "source": [
    "WGS2011TPlot = df_WD2011T.plot(kind='line',color='black', y='Wind Gust Speed')\n",
    "WGS2011TPlot.set_title(\"Wind Gust Speed 2011 at Tillamook\")\n",
    "WGS2011TPlot.set_xlabel('Date Time')\n",
    "WGS2011TPlot.set_ylabel('Wind Gust Speed (m/s)')"
   ]
  },
  {
   "cell_type": "code",
   "execution_count": null,
   "metadata": {},
   "outputs": [],
   "source": [
    "AT2011TPlot = df_WD2011T.plot(kind='line',color='black', y='Air Temperature')\n",
    "AT2011TPlot.set_title(\"Air Temperature 2011 at Tillamook\")\n",
    "AT2011TPlot.set_xlabel('Date Time')\n",
    "AT2011TPlot.set_ylabel('Air Temperature')"
   ]
  },
  {
   "cell_type": "markdown",
   "metadata": {},
   "source": [
    "## Step Three - Statistical Tests\n",
    "\n",
    "* Correlation between variables - compare changes in direction or magnitude between COVIS plume bending and weather data (or current data at the regional circulation mooring.\n",
    "\n",
    "* Extract periodicities - Will need to use Lomb-Spargle method.  We will have to look up documentation.  In the meantime, might be useful to look up python modules for power spectrum and play with some data.  Will need to be gap-free for standard method.  Can try synthetic data (add a bunch of sines and cosines at different frequencies and see how they come out of power spectrum).\n"
   ]
  },
  {
   "cell_type": "code",
   "execution_count": null,
   "metadata": {},
   "outputs": [],
   "source": []
  }
 ],
 "metadata": {
  "kernelspec": {
   "display_name": "Python 3",
   "language": "python",
   "name": "python3"
  },
  "language_info": {
   "codemirror_mode": {
    "name": "ipython",
    "version": 3
   },
   "file_extension": ".py",
   "mimetype": "text/x-python",
   "name": "python",
   "nbconvert_exporter": "python",
   "pygments_lexer": "ipython3",
   "version": "3.7.3"
  }
 },
 "nbformat": 4,
 "nbformat_minor": 4
}
