{
 "cells": [
  {
   "cell_type": "markdown",
   "metadata": {},
   "source": [
    "# Python Basics 2\n",
    "\n",
    "Pandas is a an open source library providing high-performance, easy-to-use data structures and data analysis tools. Pandas is particularly suited to the analysis of _tabular_ data, i.e. data that can can go into a table. In other words, if you can imagine the data in an Excel spreadsheet, then Pandas is the tool for the job.\n",
    "\n",
    "Guidance for this lesson: https://github.com/rabernat/research_computing_2018/blob/master/content/Lectures/pandas.ipynb\n",
    "\n",
    "Mad Pandas help: https://chrisalbon.com\n",
    "\n",
    "Guidance for Git: http://swcarpentry.github.io/git-novice/\n",
    "\n",
    "Documentation for visualizations: https://hvplot.pyviz.org/user_guide/index.html\n"
   ]
  },
  {
   "cell_type": "code",
   "execution_count": null,
   "metadata": {},
   "outputs": [],
   "source": [
    "import numpy as np\n",
    "import pandas as pd\n",
    "import hvplot.pandas\n",
    "from matplotlib import pyplot as plt\n",
    "%matplotlib inline"
   ]
  },
  {
   "cell_type": "markdown",
   "metadata": {},
   "source": [
    "## Basic Math on Arrays\n",
    "\n",
    "The goal of these next few questions are for you to demonstrate the ability to do basic math on arrays. "
   ]
  },
  {
   "cell_type": "code",
   "execution_count": null,
   "metadata": {},
   "outputs": [],
   "source": [
    "#Question 4. Add a cell and use it to create a matrix:\n",
    "\n",
    "matrix = np.array([[1,2,3],\n",
    "                 [4,5,6],\n",
    "                 [7,8,9]])\n",
    "\n",
    "#What command would you use to calculate the mean of this array using numpy? \n",
    "\n",
    "np.mean(matrix)"
   ]
  },
  {
   "cell_type": "markdown",
   "metadata": {},
   "source": [
    "## Pandas Data Structures: Series\n",
    "\n",
    "A Series represents a one-dimensional array of data. The main difference between a Series and numpy array is that a Series has an index. The index contains the labels that we use to access the data."
   ]
  },
  {
   "cell_type": "code",
   "execution_count": null,
   "metadata": {},
   "outputs": [],
   "source": [
    "#Question 7.\n",
    "#1. Add a code cell below that creates the following series:\n",
    "\n",
    "names = (['Aida','Josh','Jordan'])\n",
    "values = ([36,37,2.7])\n",
    "ages = pd.Series(values,index = names)\n",
    "ages"
   ]
  },
  {
   "cell_type": "code",
   "execution_count": null,
   "metadata": {},
   "outputs": [],
   "source": [
    "#2. In the next cell create a bar graph from the series:\n",
    "\n",
    "ages.plot(kind='bar')"
   ]
  },
  {
   "cell_type": "markdown",
   "metadata": {},
   "source": [
    "## Pandas Data Structures: DataFrame\n",
    "\n",
    "There is a lot more to Series, but they are limit to a single \"column\". A more useful Pandas data structure is the DataFrame. A DataFrame is basically a bunch of series that share the same index. It's a lot like a table in a spreadsheet.\n",
    "Below we create a DataFrame."
   ]
  },
  {
   "cell_type": "code",
   "execution_count": null,
   "metadata": {},
   "outputs": [],
   "source": [
    "#Question 8. First we create a dictionary:\n",
    "\n",
    "data = {'age':[36,37,1.7],\n",
    "       'height':[180,155,90],\n",
    "       'weight':[78,np.nan,11.3]}\n",
    "df = pd.DataFrame(data,index = ['Ryan','Chiara','Johnny'])\n",
    "df"
   ]
  },
  {
   "cell_type": "code",
   "execution_count": null,
   "metadata": {},
   "outputs": [],
   "source": [
    "#Question 9. If we make a calculation using columns from the DataFrame, it will keep the same index:\n",
    "\n",
    "df.weight/df.height\n",
    "\n",
    "#What is Ryan's calculated density to three decimal places?"
   ]
  },
  {
   "cell_type": "code",
   "execution_count": null,
   "metadata": {},
   "outputs": [],
   "source": [
    "#Question 10. Create a new index using a boolean series:\n",
    "\n",
    "df['is_adult'] = df.age > 18\n",
    "df\n",
    "\n",
    "#Which of our participants returns a \"False\" in our new DataFrame"
   ]
  },
  {
   "cell_type": "code",
   "execution_count": null,
   "metadata": {},
   "outputs": [],
   "source": [
    "#Modifying Values: \n",
    "#We often want to modify values in a dataframe based on some rule. To modify values, we need to use .loc or .iloc\n",
    "#Question 11. #Here is an example: \n",
    "\n",
    "df.loc['Johnny','height'] = 95\n",
    "df.loc['Ryan','weight'] += 1\n",
    "df"
   ]
  },
  {
   "cell_type": "code",
   "execution_count": null,
   "metadata": {},
   "outputs": [],
   "source": [
    "#If we use the iloc command, what syntax would allow us to similarly change our entry for Johnny's height?\n",
    "\n",
    "df.iloc[2,1] = 100\n",
    "\n",
    "#If we use the iloc command, what could would allow us to similarly add 1 to Ryan's weight? \n",
    "\n",
    "df.iloc[0,2] += 1\n",
    "\n",
    "df"
   ]
  },
  {
   "cell_type": "markdown",
   "metadata": {},
   "source": [
    "## Plotting\n",
    "\n",
    "DataFrames have all kinds of useful plotting built in.  Review the plotting documentation for hvplot (https://hvplot.pyviz.org/user_guide/Introduction.html) and then plot some data from our data frame.  "
   ]
  },
  {
   "cell_type": "code",
   "execution_count": null,
   "metadata": {},
   "outputs": [],
   "source": [
    "#Question 12. Add a new code box and build your first plot:\n",
    "\n",
    "df.hvplot(x = 'age',y = 'height', \n",
    "          kind = 'scatter', grid = True)"
   ]
  },
  {
   "cell_type": "code",
   "execution_count": null,
   "metadata": {},
   "outputs": [],
   "source": [
    "#How does it look? \n",
    "#I think in this case it might be helpful to specify the limits on our x and y axis.\n",
    "#Let's modify our code by adding those limits:\n",
    "\n",
    "df.hvplot(x = 'age',y = 'height', \n",
    "          kind = 'scatter', grid = True,\n",
    "         xlim = (0,40), ylim = (0,200))\n"
   ]
  },
  {
   "cell_type": "code",
   "execution_count": null,
   "metadata": {},
   "outputs": [],
   "source": [
    "#Question 13. Now read the documentation for hvplot and add the variable 'weight' to your plot. \n",
    "\n",
    "df.hvplot(x = 'age',y = ['height','weight'],\n",
    "          kind = 'scatter', grid = True,\n",
    "         xlim = (0,40), ylim = (0,200))\n"
   ]
  },
  {
   "cell_type": "code",
   "execution_count": null,
   "metadata": {},
   "outputs": [],
   "source": [
    "#Question 14. Read the hvplot documentation and create this bar graph and upload your results:\n",
    "\n",
    "df.hvplot(x = 'index',y = ['age','height','is_adult','weight'], c = ['blue','darkorange','red','green'],\n",
    "          kind = 'bar', grid = False,\n",
    "         xlim = (0,40), ylim = (0,200))"
   ]
  },
  {
   "cell_type": "code",
   "execution_count": null,
   "metadata": {},
   "outputs": [],
   "source": []
  }
 ],
 "metadata": {
  "kernelspec": {
   "display_name": "Python 3",
   "language": "python",
   "name": "python3"
  },
  "language_info": {
   "codemirror_mode": {
    "name": "ipython",
    "version": 3
   },
   "file_extension": ".py",
   "mimetype": "text/x-python",
   "name": "python",
   "nbconvert_exporter": "python",
   "pygments_lexer": "ipython3",
   "version": "3.6.6"
  }
 },
 "nbformat": 4,
 "nbformat_minor": 2
}
