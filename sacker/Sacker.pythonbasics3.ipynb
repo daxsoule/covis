{
 "cells": [
  {
   "cell_type": "markdown",
   "metadata": {},
   "source": [
    "# Python Basics 3 - 2D and Gridded Data\n",
    "\n",
    "This third notebook is focused on giving you the tools needed to explore 2D data. Here is a great new resource that has a wide range of techniques available. This contains two parts: First we will review some basics using Jake Vanderplas PythonDataScienceHandbook. Then we will apply what you know to actual COVIS data. "
   ]
  },
  {
   "cell_type": "code",
   "execution_count": null,
   "metadata": {},
   "outputs": [],
   "source": [
    "import numpy as np\n",
    "import matplotlib.pyplot as plt\n",
    "%matplotlib inline\n",
    "from mpl_toolkits import mplot3d\n",
    "import pandas as pd"
   ]
  },
  {
   "cell_type": "markdown",
   "metadata": {},
   "source": [
    "QUESTION 1\n",
    "\n",
    "Problem set up:\n",
    "\n",
    "The purpose of meshgrid function in Python is to create a rectangular grid out of an array of x values and an array of y values.\n",
    "\n",
    "Suppose you want to create a grid where you have a point at each integer value between 0 and 4 in both the x and y directions.\n",
    "\n",
    "To create a rectangular grid, you need every combination of the x and y points.\n",
    "\n",
    "This is going to be 25 points. So if you wanted to create an x and y array for all of these points, you could do the following. Create the following: "
   ]
  },
  {
   "cell_type": "code",
   "execution_count": null,
   "metadata": {},
   "outputs": [],
   "source": [
    "#Please create these two matrices and make a plot that shows each (x, y) pair plotted on a coordinate plain. \n",
    "x = ([[0,1,2,3,4],\n",
    "    [0,1,2,3,4],\n",
    "    [0,1,2,3,4],\n",
    "    [0,1,2,3,4],\n",
    "    [0,1,2,3,4]])\n",
    "print(x)"
   ]
  },
  {
   "cell_type": "code",
   "execution_count": null,
   "metadata": {},
   "outputs": [],
   "source": [
    "y = ([[0,0,0,0,0],\n",
    "    [1,1,1,1,1],\n",
    "    [2,2,2,2,2],\n",
    "    [3,3,3,3,3],\n",
    "    [4,4,4,4,4]])\n",
    "print(y)"
   ]
  },
  {
   "cell_type": "code",
   "execution_count": null,
   "metadata": {},
   "outputs": [],
   "source": [
    "plt.plot(x,y,'o',color='black')"
   ]
  },
  {
   "cell_type": "markdown",
   "metadata": {},
   "source": [
    "Obviously, this gets very tedious especially for large ranges of x and y. Instead, meshgrid can actually generate this for you: all you have to specify are the unique x and y values. Read the documentation for meshgrid in python and then use it to re-create the figure from the first part of the question. \n",
    "\n"
   ]
  },
  {
   "cell_type": "code",
   "execution_count": null,
   "metadata": {},
   "outputs": [],
   "source": [
    "#In your new code, if you have the arrays:\n",
    "\n",
    "xvalues = np.array([0,1,2,3,4]);\n",
    "yvalues = np.array([0,1,2,3,4]);"
   ]
  },
  {
   "cell_type": "code",
   "execution_count": null,
   "metadata": {},
   "outputs": [],
   "source": [
    "#Now, when you call meshgrid, you get the previous output automatically\n",
    "\n",
    "xx,yy = np.meshgrid(xvalues,yvalues)\n",
    "print(xx,yy)"
   ]
  },
  {
   "cell_type": "markdown",
   "metadata": {},
   "source": [
    "QUESTION 2\n",
    "\n",
    "It is pretty common in the Earth Sciences to want to examine measurements that are taken over some spatial area. For our practice problem we need to define values associated with our the spatial grid we created in out first problem. There are a number of ways that we could do that. For this problem lets define a function: "
   ]
  },
  {
   "cell_type": "code",
   "execution_count": null,
   "metadata": {},
   "outputs": [],
   "source": [
    "def f(xvalues,yvalues):\n",
    "    return np.sin(xvalues)**10 + np.cos(10 + yvalues * xvalues)*np.cos(xvalues)\n",
    "\n",
    "#This function will allow us to create a unique z value for each of our xy values. \n",
    "\n",
    "zz = f(xx,yy)\n",
    "print(zz)"
   ]
  },
  {
   "cell_type": "markdown",
   "metadata": {},
   "source": [
    "## Challenge 1.\n",
    "\n",
    "QUESTION 3\n",
    "\n",
    "Now you have three arrays, one with the locations in x, one with locations in y, and one with a unique z value for each xy pair. Think about the shapes of each of these arrays and how you might like this data organized if you were to have it all in a Pandas dataframe.... what would you need to do so that each row of a dataframe had one unique xy pair and its corresponding z value? \n",
    "\n",
    "Use numpy to examine the shapes of your arrays. Find a way to use numpy to flatten each array and then read it into a Pandas data frame with an appropriate column heading. Keep in mind that the shape of each array and how it is oriented will be important to consider when reading it into the dataframe. Now is a good time to investigate what the transpose of a matrix is. \n",
    "\n",
    "What is the numeric value that you would find in the 3rd row 3rd column? "
   ]
  },
  {
   "cell_type": "code",
   "execution_count": null,
   "metadata": {},
   "outputs": [],
   "source": [
    "np.shape(xx)"
   ]
  },
  {
   "cell_type": "code",
   "execution_count": null,
   "metadata": {},
   "outputs": [],
   "source": [
    "np.shape(yy)"
   ]
  },
  {
   "cell_type": "code",
   "execution_count": null,
   "metadata": {},
   "outputs": [],
   "source": [
    "np.shape(zz)"
   ]
  },
  {
   "cell_type": "code",
   "execution_count": null,
   "metadata": {},
   "outputs": [],
   "source": [
    "x2 = xx.flatten()"
   ]
  },
  {
   "cell_type": "code",
   "execution_count": null,
   "metadata": {},
   "outputs": [],
   "source": [
    "y2 = yy.flatten()"
   ]
  },
  {
   "cell_type": "code",
   "execution_count": null,
   "metadata": {},
   "outputs": [],
   "source": [
    "z2 = zz.flatten()"
   ]
  },
  {
   "cell_type": "code",
   "execution_count": null,
   "metadata": {},
   "outputs": [],
   "source": [
    "data = {'x':x2,\n",
    "        'y':y2,\n",
    "       'z':z2}\n",
    "df = pd.DataFrame(data)\n",
    "df"
   ]
  },
  {
   "cell_type": "markdown",
   "metadata": {},
   "source": [
    "## Challenge 2. \n",
    "\n",
    "QUESTION 4\n",
    "\n",
    "Now use Pandas to make a scatter plot of your xy data points and upload the result in a .png format"
   ]
  },
  {
   "cell_type": "code",
   "execution_count": null,
   "metadata": {},
   "outputs": [],
   "source": [
    "df.plot(kind='scatter',x='x',y='y',color='black')\n",
    "plt.show()"
   ]
  },
  {
   "cell_type": "markdown",
   "metadata": {},
   "source": [
    "QUESTION 5\n",
    "\n",
    "Now how could we use color to add information about the z values? Make another scatter plot, and this time color each xy position using the height. \n",
    "\n",
    "To do this successfully you will need to consult the plotting documentation for Pandas and add an argument for that tells Pandas that you want to add color based on the value of z and then what colormap to use."
   ]
  },
  {
   "cell_type": "code",
   "execution_count": null,
   "metadata": {},
   "outputs": [],
   "source": [
    "df.plot.scatter(x='x', y='y', c='z', colormap='viridis');"
   ]
  },
  {
   "cell_type": "markdown",
   "metadata": {},
   "source": [
    "QUESTION 6\n",
    "\n",
    "Making plots in Pandas is often very convenient... however sometimes it is also neessesary to use Matplotlib. \n",
    "\n",
    "Make a contour plot of the z values plotted over the xy space. \n",
    "If you struggle you should consult the Python Data Science Handbook.\n",
    "\n",
    "Keep in mind what datatype you will need to make this plot. "
   ]
  },
  {
   "cell_type": "code",
   "execution_count": null,
   "metadata": {},
   "outputs": [],
   "source": []
  },
  {
   "cell_type": "code",
   "execution_count": null,
   "metadata": {},
   "outputs": [],
   "source": []
  }
 ],
 "metadata": {
  "kernelspec": {
   "display_name": "Python 3",
   "language": "python",
   "name": "python3"
  },
  "language_info": {
   "codemirror_mode": {
    "name": "ipython",
    "version": 3
   },
   "file_extension": ".py",
   "mimetype": "text/x-python",
   "name": "python",
   "nbconvert_exporter": "python",
   "pygments_lexer": "ipython3",
   "version": "3.6.6"
  }
 },
 "nbformat": 4,
 "nbformat_minor": 2
}
