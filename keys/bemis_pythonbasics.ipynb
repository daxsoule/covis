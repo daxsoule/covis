{
 "cells": [
  {
   "cell_type": "markdown",
   "metadata": {},
   "source": [
    "#### Karen's Python Basics Practice Notebook\n",
    "\n",
    "goals: demonstrate that I know a little bitty bit about python!\n"
   ]
  },
  {
   "cell_type": "markdown",
   "metadata": {},
   "source": [
    "1. using code cells and markdown:\n",
    "\n",
    "The above demostrates that I learned enough to create a header anyways. And run the cell. Will see about the rest as we go along."
   ]
  },
  {
   "cell_type": "markdown",
   "metadata": {},
   "source": [
    "2. git tutorials:\n",
    "\n",
    "Lots of fun getting to the sucessful push.  Read the tutorial and watched the videos.  Big problem was becoming a contributor.  Lesser issues with syntax and remembering passwords.\n",
    "\n",
    "basic git sequence: \"git clone <url> to pull in a repository, make changes, \"git status\" to see what's up or down, \"git add .\" stages the changes and \"git commit\" adds them to the local repository, use \"git push\" to send the changes up to the remote repository.\n",
    "    \n",
    "Repositories seem to have two names ... the one listed on the GitHub page and the one the local-to-remote connections uses (usually \"origin\").  Not sure I understand this.\n",
    "    \n",
    "Overall makein\n"
   ]
  },
  {
   "cell_type": "code",
   "execution_count": null,
   "metadata": {},
   "outputs": [],
   "source": []
  }
 ],
 "metadata": {
  "kernelspec": {
   "display_name": "Python 3",
   "language": "python",
   "name": "python3"
  },
  "language_info": {
   "codemirror_mode": {
    "name": "ipython",
    "version": 3
   },
   "file_extension": ".py",
   "mimetype": "text/x-python",
   "name": "python",
   "nbconvert_exporter": "python",
   "pygments_lexer": "ipython3",
   "version": "3.7.3"
  }
 },
 "nbformat": 4,
 "nbformat_minor": 4
}
