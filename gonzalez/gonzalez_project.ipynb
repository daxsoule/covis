{
 "cells": [
  {
   "cell_type": "markdown",
   "metadata": {},
   "source": [
    "# COVIS_Project 3D data modeling & vizualization"
   ]
  },
  {
   "cell_type": "markdown",
   "metadata": {},
   "source": [
    " Step one: Edit your data "
   ]
  },
  {
   "cell_type": "markdown",
   "metadata": {},
   "source": [
    " Step two: Use Pandas to read the edited file into Pandas DataFrame"
   ]
  },
  {
   "cell_type": "markdown",
   "metadata": {},
   "source": [
    " Step three: Use Pandas to make a scatter plott that plost the positions on an xy plane and add color using elevations"
   ]
  },
  {
   "cell_type": "markdown",
   "metadata": {},
   "source": [
    " Step four: Plot the same dtaa using 3D vizualization. Use Matplotlib after taking the data into lists. "
   ]
  },
  {
   "cell_type": "code",
   "execution_count": 1,
   "metadata": {},
   "outputs": [],
   "source": [
    "import numpy as np\n",
    "import pandas as pd\n",
    "import matplotlib.pyplot as pt\n",
    "%matplotlib inline\n",
    "from mpl_toolkits import mplot3d"
   ]
  },
  {
   "cell_type": "code",
   "execution_count": 2,
   "metadata": {},
   "outputs": [],
   "source": [
    "#data = pd.read_csv('actualbathy.csv')\n",
    "#print(data)"
   ]
  },
  {
   "cell_type": "code",
   "execution_count": 3,
   "metadata": {},
   "outputs": [],
   "source": [
    "#data=pd.read_csv('covis_location_bar.csv')\n",
    "#print(data)\n"
   ]
  },
  {
   "cell_type": "code",
   "execution_count": 6,
   "metadata": {},
   "outputs": [
    {
     "name": "stdout",
     "output_type": "stream",
     "text": [
      "       x     y     z\n",
      "0  -0.25 -1.00  5.00\n",
      "1  -7.25  2.50  5.25\n",
      "2  -9.00  3.75  5.50\n",
      "3 -10.00  3.75  5.75\n",
      "4 -10.00  4.00  6.00\n",
      "5  -7.25 -2.25  6.25\n",
      "6  -7.75 -2.75  6.50\n",
      "7  -7.50 -2.75  6.75\n",
      "8  -7.50 -2.50  7.00\n",
      "9 -15.75  4.00  7.25\n"
     ]
    }
   ],
   "source": [
    "data=pd.read_csv('myXYZ.csv')\n",
    "print(data.head(10))"
   ]
  },
  {
   "cell_type": "markdown",
   "metadata": {},
   "source": [
    "data=pd.read_csv('myXYZ_20121022T120038_ver2_050818.csv')\n",
    "data=data.head(50)\n",
    "pt.plot(data[\"XYZ\"], data[\"myXYZ_20121022T120038_ver2_050818\"], color=\"red\", label=\"line graph\")\n",
    "pt.scatter(data[\"XYZ\"], data[\"myXYZ_20121022T120038_ver2_050818\"], color=\"red\", label=\"Scatter\")\n",
    "pt.legend()\n",
    "pr.show()"
   ]
  },
  {
   "cell_type": "code",
   "execution_count": 7,
   "metadata": {},
   "outputs": [
    {
     "data": {
      "text/html": [
       "<div>\n",
       "<style scoped>\n",
       "    .dataframe tbody tr th:only-of-type {\n",
       "        vertical-align: middle;\n",
       "    }\n",
       "\n",
       "    .dataframe tbody tr th {\n",
       "        vertical-align: top;\n",
       "    }\n",
       "\n",
       "    .dataframe thead th {\n",
       "        text-align: right;\n",
       "    }\n",
       "</style>\n",
       "<table border=\"1\" class=\"dataframe\">\n",
       "  <thead>\n",
       "    <tr style=\"text-align: right;\">\n",
       "      <th></th>\n",
       "      <th>East</th>\n",
       "      <th>North</th>\n",
       "      <th>Elevation</th>\n",
       "    </tr>\n",
       "  </thead>\n",
       "  <tbody>\n",
       "    <tr>\n",
       "      <th>0</th>\n",
       "      <td>0</td>\n",
       "      <td>0</td>\n",
       "      <td>0</td>\n",
       "    </tr>\n",
       "    <tr>\n",
       "      <th>1</th>\n",
       "      <td>0</td>\n",
       "      <td>0</td>\n",
       "      <td>4</td>\n",
       "    </tr>\n",
       "  </tbody>\n",
       "</table>\n",
       "</div>"
      ],
      "text/plain": [
       "   East  North  Elevation\n",
       "0     0      0          0\n",
       "1     0      0          4"
      ]
     },
     "execution_count": 7,
     "metadata": {},
     "output_type": "execute_result"
    }
   ],
   "source": [
    "df_locationbar= pd.read_csv('locationbar.csv')\n",
    "df_locationbar"
   ]
  },
  {
   "cell_type": "code",
   "execution_count": 8,
   "metadata": {},
   "outputs": [],
   "source": [
    "#df_locationbar.plot.barh(x='East',y='North',c='Elevation', colormap='inferno');\n"
   ]
  },
  {
   "cell_type": "code",
   "execution_count": 15,
   "metadata": {},
   "outputs": [
    {
     "data": {
      "text/html": [
       "<div>\n",
       "<style scoped>\n",
       "    .dataframe tbody tr th:only-of-type {\n",
       "        vertical-align: middle;\n",
       "    }\n",
       "\n",
       "    .dataframe tbody tr th {\n",
       "        vertical-align: top;\n",
       "    }\n",
       "\n",
       "    .dataframe thead th {\n",
       "        text-align: right;\n",
       "    }\n",
       "</style>\n",
       "<table border=\"1\" class=\"dataframe\">\n",
       "  <thead>\n",
       "    <tr style=\"text-align: right;\">\n",
       "      <th></th>\n",
       "      <th>East</th>\n",
       "      <th>North</th>\n",
       "      <th>Elevation</th>\n",
       "    </tr>\n",
       "  </thead>\n",
       "  <tbody>\n",
       "    <tr>\n",
       "      <th>0</th>\n",
       "      <td>-0.25</td>\n",
       "      <td>-1.00</td>\n",
       "      <td>5.00</td>\n",
       "    </tr>\n",
       "    <tr>\n",
       "      <th>1</th>\n",
       "      <td>-7.25</td>\n",
       "      <td>2.50</td>\n",
       "      <td>5.25</td>\n",
       "    </tr>\n",
       "    <tr>\n",
       "      <th>2</th>\n",
       "      <td>-9.00</td>\n",
       "      <td>3.75</td>\n",
       "      <td>5.50</td>\n",
       "    </tr>\n",
       "    <tr>\n",
       "      <th>3</th>\n",
       "      <td>-10.00</td>\n",
       "      <td>3.75</td>\n",
       "      <td>5.75</td>\n",
       "    </tr>\n",
       "    <tr>\n",
       "      <th>4</th>\n",
       "      <td>-10.00</td>\n",
       "      <td>4.00</td>\n",
       "      <td>6.00</td>\n",
       "    </tr>\n",
       "    <tr>\n",
       "      <th>5</th>\n",
       "      <td>-7.25</td>\n",
       "      <td>-2.25</td>\n",
       "      <td>6.25</td>\n",
       "    </tr>\n",
       "    <tr>\n",
       "      <th>6</th>\n",
       "      <td>-7.75</td>\n",
       "      <td>-2.75</td>\n",
       "      <td>6.50</td>\n",
       "    </tr>\n",
       "    <tr>\n",
       "      <th>7</th>\n",
       "      <td>-7.50</td>\n",
       "      <td>-2.75</td>\n",
       "      <td>6.75</td>\n",
       "    </tr>\n",
       "    <tr>\n",
       "      <th>8</th>\n",
       "      <td>-7.50</td>\n",
       "      <td>-2.50</td>\n",
       "      <td>7.00</td>\n",
       "    </tr>\n",
       "    <tr>\n",
       "      <th>9</th>\n",
       "      <td>-15.75</td>\n",
       "      <td>4.00</td>\n",
       "      <td>7.25</td>\n",
       "    </tr>\n",
       "  </tbody>\n",
       "</table>\n",
       "</div>"
      ],
      "text/plain": [
       "    East  North  Elevation\n",
       "0  -0.25  -1.00       5.00\n",
       "1  -7.25   2.50       5.25\n",
       "2  -9.00   3.75       5.50\n",
       "3 -10.00   3.75       5.75\n",
       "4 -10.00   4.00       6.00\n",
       "5  -7.25  -2.25       6.25\n",
       "6  -7.75  -2.75       6.50\n",
       "7  -7.50  -2.75       6.75\n",
       "8  -7.50  -2.50       7.00\n",
       "9 -15.75   4.00       7.25"
      ]
     },
     "execution_count": 15,
     "metadata": {},
     "output_type": "execute_result"
    }
   ],
   "source": [
    "df_myXYZ= pd.read_csv('myXYZ.csv')\n",
    "df_myXYZ.head(10)"
   ]
  },
  {
   "cell_type": "code",
   "execution_count": 19,
   "metadata": {},
   "outputs": [
    {
     "name": "stdout",
     "output_type": "stream",
     "text": [
      "\"East\",\"North\",\"Elevation\"\n",
      "-0.25,-1,5\n",
      "-7.25,2.5,5.25\n",
      "-9,3.75,5.5\n",
      "-10,3.75,5.75\n"
     ]
    }
   ],
   "source": [
    "!head -5 myXYZ.csv"
   ]
  },
  {
   "cell_type": "code",
   "execution_count": 18,
   "metadata": {},
   "outputs": [
    {
     "data": {
      "image/png": "[encoded data removed]",
      "text/plain": [
       "<Figure size 432x288 with 1 Axes>"
      ]
     },
     "metadata": {
      "needs_background": "light"
     },
     "output_type": "display_data"
    }
   ],
   "source": [
    "df_myXYZ.plot.scatter(x='East', y='North');"
   ]
  },
  {
   "cell_type": "code",
   "execution_count": 20,
   "metadata": {},
   "outputs": [],
   "source": [
    "eastlist= list(df_myXYZ['East']),\n",
    "northlist= list(df_myXYZ['North']),\n",
    "elevationlist= list(df_myXYZ['Elevation'])"
   ]
  },
  {
   "cell_type": "code",
   "execution_count": null,
   "metadata": {},
   "outputs": [],
   "source": [
    "ax= pt.axes(projection='3d')\n",
    "\n",
    "xdata= easlist\n",
    "ydata= northlist\n",
    "zdata= elevationlist\n",
    "ax.scatter3D(xdata, ydata, zdata, c=zd)"
   ]
  }
 ],
 "metadata": {
  "kernelspec": {
   "display_name": "Python 3",
   "language": "python",
   "name": "python3"
  },
  "language_info": {
   "codemirror_mode": {
    "name": "ipython",
    "version": 3
   },
   "file_extension": ".py",
   "mimetype": "text/x-python",
   "name": "python",
   "nbconvert_exporter": "python",
   "pygments_lexer": "ipython3",
   "version": "3.7.3"
  }
 },
 "nbformat": 4,
 "nbformat_minor": 4
}
