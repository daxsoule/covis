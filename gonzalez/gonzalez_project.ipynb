{
 "cells": [
  {
   "cell_type": "markdown",
   "metadata": {},
   "source": [
    "# COVIS_Project 3D data modeling & vizualization"
   ]
  },
  {
   "cell_type": "markdown",
   "metadata": {},
   "source": [
    " Step one: Edit your data "
   ]
  },
  {
   "cell_type": "markdown",
   "metadata": {},
   "source": [
    " Step two: Use Pandas to read the edited file into Pandas DataFrame"
   ]
  },
  {
   "cell_type": "markdown",
   "metadata": {},
   "source": [
    " Step three: Use Pandas to make a scatter plott that plost the positions on an xy plane and add color using elevations"
   ]
  },
  {
   "cell_type": "markdown",
   "metadata": {},
   "source": [
    " Step four: Plot the same dtaa using 3D vizualization. Use Matplotlib after taking the data into lists. "
   ]
  },
  {
   "cell_type": "code",
   "execution_count": 1,
   "metadata": {},
   "outputs": [],
   "source": [
    "import numpy as np\n",
    "import pandas as pd\n",
    "import matplotlib.pyplot as plt\n",
    "%matplotlib inline\n",
    "from mpl_toolkits import mplot3d\n"
   ]
  },
  {
   "cell_type": "markdown",
   "metadata": {},
   "source": [
    "In order to understand our data we need to stablish the values for each of our arrays, now here is an example of previous work of how to do that:"
   ]
  },
  {
   "cell_type": "code",
   "execution_count": 2,
   "metadata": {},
   "outputs": [
    {
     "name": "stdout",
     "output_type": "stream",
     "text": [
      "[[0 1 2 3 4]\n",
      " [0 1 2 3 4]\n",
      " [0 1 2 3 4]\n",
      " [0 1 2 3 4]\n",
      " [0 1 2 3 4]]\n"
     ]
    }
   ],
   "source": [
    "xvalues=np.array([0, 1, 2, 3, 4])\n",
    "yvalues=np.array([0, 1, 2, 3, 4])\n",
    "xx, yy = np.meshgrid(xvalues, yvalues)\n",
    "print(xx)"
   ]
  },
  {
   "cell_type": "code",
   "execution_count": 3,
   "metadata": {},
   "outputs": [],
   "source": [
    "def f(xvalues, yvalues):\n",
    "    return np.sin(xvalues) ** 10 + np.cos(10 + yvalues * xvalues) * np.cos(xvalues)"
   ]
  },
  {
   "cell_type": "code",
   "execution_count": 4,
   "metadata": {},
   "outputs": [],
   "source": [
    "zz = f(xx, yy)"
   ]
  },
  {
   "cell_type": "code",
   "execution_count": 5,
   "metadata": {},
   "outputs": [
    {
     "name": "stdout",
     "output_type": "stream",
     "text": [
      "[0 1 2 3 4 0 1 2 3 4 0 1 2 3 4 0 1 2 3 4 0 1 2 3 4]\n",
      "[0 0 0 0 0 1 1 1 1 1 2 2 2 2 2 3 3 3 3 3 4 4 4 4 4]\n",
      "[-0.83907153 -0.27536398  0.73559698  0.83067452  0.61008849 -0.83907153\n",
      "  0.18037951  0.03525287 -0.8983655  -0.02774267 -0.83907153  0.63392454\n",
      "  0.32951726  0.9480757  -0.36997707 -0.83907153  0.66828389  0.78494699\n",
      " -0.97881015  0.71525275 -0.83907153  0.25186773  0.11163131  0.98995372\n",
      " -0.36121995]\n"
     ]
    }
   ],
   "source": [
    "X = xx.flatten()\n",
    "Y = yy.flatten()\n",
    "Z = zz.flatten()\n",
    "print(X)\n",
    "print(Y)\n",
    "print(Z)"
   ]
  },
  {
   "cell_type": "code",
   "execution_count": 6,
   "metadata": {},
   "outputs": [
    {
     "data": {
      "text/html": [
       "<div>\n",
       "<style scoped>\n",
       "    .dataframe tbody tr th:only-of-type {\n",
       "        vertical-align: middle;\n",
       "    }\n",
       "\n",
       "    .dataframe tbody tr th {\n",
       "        vertical-align: top;\n",
       "    }\n",
       "\n",
       "    .dataframe thead th {\n",
       "        text-align: right;\n",
       "    }\n",
       "</style>\n",
       "<table border=\"1\" class=\"dataframe\">\n",
       "  <thead>\n",
       "    <tr style=\"text-align: right;\">\n",
       "      <th></th>\n",
       "      <th>x_value</th>\n",
       "      <th>y_value</th>\n",
       "      <th>z_value</th>\n",
       "    </tr>\n",
       "  </thead>\n",
       "  <tbody>\n",
       "    <tr>\n",
       "      <th>0</th>\n",
       "      <td>0.0</td>\n",
       "      <td>0.0</td>\n",
       "      <td>-0.839072</td>\n",
       "    </tr>\n",
       "    <tr>\n",
       "      <th>1</th>\n",
       "      <td>1.0</td>\n",
       "      <td>0.0</td>\n",
       "      <td>-0.275364</td>\n",
       "    </tr>\n",
       "    <tr>\n",
       "      <th>2</th>\n",
       "      <td>2.0</td>\n",
       "      <td>0.0</td>\n",
       "      <td>0.735597</td>\n",
       "    </tr>\n",
       "    <tr>\n",
       "      <th>3</th>\n",
       "      <td>3.0</td>\n",
       "      <td>0.0</td>\n",
       "      <td>0.830675</td>\n",
       "    </tr>\n",
       "    <tr>\n",
       "      <th>4</th>\n",
       "      <td>4.0</td>\n",
       "      <td>0.0</td>\n",
       "      <td>0.610088</td>\n",
       "    </tr>\n",
       "  </tbody>\n",
       "</table>\n",
       "</div>"
      ],
      "text/plain": [
       "   x_value  y_value   z_value\n",
       "0      0.0      0.0 -0.839072\n",
       "1      1.0      0.0 -0.275364\n",
       "2      2.0      0.0  0.735597\n",
       "3      3.0      0.0  0.830675\n",
       "4      4.0      0.0  0.610088"
      ]
     },
     "execution_count": 6,
     "metadata": {},
     "output_type": "execute_result"
    }
   ],
   "source": [
    "df = pd.DataFrame.from_dict(np.array([X,Y,Z]).T)\n",
    "df.columns = ['x_value','y_value','z_value']\n",
    "df['z_value'] = pd.to_numeric(df['z_value'])\n",
    "df.head()"
   ]
  },
  {
   "cell_type": "code",
   "execution_count": 7,
   "metadata": {},
   "outputs": [
    {
     "data": {
      "text/html": [
       "<div>\n",
       "<style scoped>\n",
       "    .dataframe tbody tr th:only-of-type {\n",
       "        vertical-align: middle;\n",
       "    }\n",
       "\n",
       "    .dataframe tbody tr th {\n",
       "        vertical-align: top;\n",
       "    }\n",
       "\n",
       "    .dataframe thead th {\n",
       "        text-align: right;\n",
       "    }\n",
       "</style>\n",
       "<table border=\"1\" class=\"dataframe\">\n",
       "  <thead>\n",
       "    <tr style=\"text-align: right;\">\n",
       "      <th></th>\n",
       "      <th>x_value</th>\n",
       "      <th>y_value</th>\n",
       "      <th>z_value</th>\n",
       "    </tr>\n",
       "  </thead>\n",
       "  <tbody>\n",
       "    <tr>\n",
       "      <th>count</th>\n",
       "      <td>25.000000</td>\n",
       "      <td>25.000000</td>\n",
       "      <td>25.000000</td>\n",
       "    </tr>\n",
       "    <tr>\n",
       "      <th>mean</th>\n",
       "      <td>2.000000</td>\n",
       "      <td>2.000000</td>\n",
       "      <td>0.028744</td>\n",
       "    </tr>\n",
       "    <tr>\n",
       "      <th>std</th>\n",
       "      <td>1.443376</td>\n",
       "      <td>1.443376</td>\n",
       "      <td>0.685726</td>\n",
       "    </tr>\n",
       "    <tr>\n",
       "      <th>min</th>\n",
       "      <td>0.000000</td>\n",
       "      <td>0.000000</td>\n",
       "      <td>-0.978810</td>\n",
       "    </tr>\n",
       "    <tr>\n",
       "      <th>25%</th>\n",
       "      <td>1.000000</td>\n",
       "      <td>1.000000</td>\n",
       "      <td>-0.839072</td>\n",
       "    </tr>\n",
       "    <tr>\n",
       "      <th>50%</th>\n",
       "      <td>2.000000</td>\n",
       "      <td>2.000000</td>\n",
       "      <td>0.111631</td>\n",
       "    </tr>\n",
       "    <tr>\n",
       "      <th>75%</th>\n",
       "      <td>3.000000</td>\n",
       "      <td>3.000000</td>\n",
       "      <td>0.668284</td>\n",
       "    </tr>\n",
       "    <tr>\n",
       "      <th>max</th>\n",
       "      <td>4.000000</td>\n",
       "      <td>4.000000</td>\n",
       "      <td>0.989954</td>\n",
       "    </tr>\n",
       "  </tbody>\n",
       "</table>\n",
       "</div>"
      ],
      "text/plain": [
       "         x_value    y_value    z_value\n",
       "count  25.000000  25.000000  25.000000\n",
       "mean    2.000000   2.000000   0.028744\n",
       "std     1.443376   1.443376   0.685726\n",
       "min     0.000000   0.000000  -0.978810\n",
       "25%     1.000000   1.000000  -0.839072\n",
       "50%     2.000000   2.000000   0.111631\n",
       "75%     3.000000   3.000000   0.668284\n",
       "max     4.000000   4.000000   0.989954"
      ]
     },
     "execution_count": 7,
     "metadata": {},
     "output_type": "execute_result"
    }
   ],
   "source": [
    "df.describe()"
   ]
  },
  {
   "cell_type": "code",
   "execution_count": 8,
   "metadata": {},
   "outputs": [
    {
     "data": {
      "image/png": "[encoded data removed]",
      "text/plain": [
       "<Figure size 432x288 with 2 Axes>"
      ]
     },
     "metadata": {
      "needs_background": "light"
     },
     "output_type": "display_data"
    }
   ],
   "source": [
    "df.plot.scatter(x='x_value', y='y_value', c='z_value', colormap='viridis');"
   ]
  },
  {
   "cell_type": "markdown",
   "metadata": {},
   "source": [
    "Next we are gonna set the size of our resolution"
   ]
  },
  {
   "cell_type": "code",
   "execution_count": 9,
   "metadata": {},
   "outputs": [],
   "source": [
    "dx, dy = 0.05, 0.05"
   ]
  },
  {
   "cell_type": "markdown",
   "metadata": {},
   "source": [
    "Next we are going to generate values for three dimentional lines"
   ]
  },
  {
   "cell_type": "code",
   "execution_count": 16,
   "metadata": {},
   "outputs": [
    {
     "data": {
      "text/plain": [
       "[<mpl_toolkits.mplot3d.art3d.Line3D at 0x7febe5f92240>]"
      ]
     },
     "execution_count": 16,
     "metadata": {},
     "output_type": "execute_result"
    }
   ],
   "source": [
    "zline = np.linspace(0, 15, 1000)\n",
    "xline = np.sin(zline)\n",
    "yline = np.cos(zline)\n",
    "ax.plot3D(xline, yline, zline, 'gray')"
   ]
  },
  {
   "cell_type": "code",
   "execution_count": 18,
   "metadata": {},
   "outputs": [
    {
     "name": "stdout",
     "output_type": "stream",
     "text": [
      "head: cannot open '../skills_building/practice_data/actualbathy.csv' for reading: No such file or directory\n"
     ]
    }
   ],
   "source": [
    "!head ../skills_building/practice_data/actualbathy.csv"
   ]
  },
  {
   "cell_type": "code",
   "execution_count": 46,
   "metadata": {},
   "outputs": [
    {
     "name": "stdout",
     "output_type": "stream",
     "text": [
      "[0 0 0 0 0 1 1 1 1 1 2 2 2 2 2 3 3 3 3 3 4 4 4 4 4]\n"
     ]
    }
   ],
   "source": [
    "y2=yy.flatten()\n",
    "print(y2)"
   ]
  },
  {
   "cell_type": "code",
   "execution_count": 47,
   "metadata": {},
   "outputs": [
    {
     "data": {
      "text/html": [
       "<div>\n",
       "<style scoped>\n",
       "    .dataframe tbody tr th:only-of-type {\n",
       "        vertical-align: middle;\n",
       "    }\n",
       "\n",
       "    .dataframe tbody tr th {\n",
       "        vertical-align: top;\n",
       "    }\n",
       "\n",
       "    .dataframe thead th {\n",
       "        text-align: right;\n",
       "    }\n",
       "</style>\n",
       "<table border=\"1\" class=\"dataframe\">\n",
       "  <thead>\n",
       "    <tr style=\"text-align: right;\">\n",
       "      <th></th>\n",
       "      <th>x</th>\n",
       "      <th>y</th>\n",
       "      <th>z</th>\n",
       "    </tr>\n",
       "  </thead>\n",
       "  <tbody>\n",
       "    <tr>\n",
       "      <th>0</th>\n",
       "      <td>0</td>\n",
       "      <td>0</td>\n",
       "      <td>-0.839072</td>\n",
       "    </tr>\n",
       "    <tr>\n",
       "      <th>1</th>\n",
       "      <td>1</td>\n",
       "      <td>0</td>\n",
       "      <td>-0.275364</td>\n",
       "    </tr>\n",
       "    <tr>\n",
       "      <th>2</th>\n",
       "      <td>2</td>\n",
       "      <td>0</td>\n",
       "      <td>0.735597</td>\n",
       "    </tr>\n",
       "    <tr>\n",
       "      <th>3</th>\n",
       "      <td>3</td>\n",
       "      <td>0</td>\n",
       "      <td>0.830675</td>\n",
       "    </tr>\n",
       "    <tr>\n",
       "      <th>4</th>\n",
       "      <td>4</td>\n",
       "      <td>0</td>\n",
       "      <td>0.610088</td>\n",
       "    </tr>\n",
       "    <tr>\n",
       "      <th>5</th>\n",
       "      <td>0</td>\n",
       "      <td>1</td>\n",
       "      <td>-0.839072</td>\n",
       "    </tr>\n",
       "    <tr>\n",
       "      <th>6</th>\n",
       "      <td>1</td>\n",
       "      <td>1</td>\n",
       "      <td>0.180380</td>\n",
       "    </tr>\n",
       "    <tr>\n",
       "      <th>7</th>\n",
       "      <td>2</td>\n",
       "      <td>1</td>\n",
       "      <td>0.035253</td>\n",
       "    </tr>\n",
       "    <tr>\n",
       "      <th>8</th>\n",
       "      <td>3</td>\n",
       "      <td>1</td>\n",
       "      <td>-0.898366</td>\n",
       "    </tr>\n",
       "    <tr>\n",
       "      <th>9</th>\n",
       "      <td>4</td>\n",
       "      <td>1</td>\n",
       "      <td>-0.027743</td>\n",
       "    </tr>\n",
       "    <tr>\n",
       "      <th>10</th>\n",
       "      <td>0</td>\n",
       "      <td>2</td>\n",
       "      <td>-0.839072</td>\n",
       "    </tr>\n",
       "    <tr>\n",
       "      <th>11</th>\n",
       "      <td>1</td>\n",
       "      <td>2</td>\n",
       "      <td>0.633925</td>\n",
       "    </tr>\n",
       "    <tr>\n",
       "      <th>12</th>\n",
       "      <td>2</td>\n",
       "      <td>2</td>\n",
       "      <td>0.329517</td>\n",
       "    </tr>\n",
       "    <tr>\n",
       "      <th>13</th>\n",
       "      <td>3</td>\n",
       "      <td>2</td>\n",
       "      <td>0.948076</td>\n",
       "    </tr>\n",
       "    <tr>\n",
       "      <th>14</th>\n",
       "      <td>4</td>\n",
       "      <td>2</td>\n",
       "      <td>-0.369977</td>\n",
       "    </tr>\n",
       "    <tr>\n",
       "      <th>15</th>\n",
       "      <td>0</td>\n",
       "      <td>3</td>\n",
       "      <td>-0.839072</td>\n",
       "    </tr>\n",
       "    <tr>\n",
       "      <th>16</th>\n",
       "      <td>1</td>\n",
       "      <td>3</td>\n",
       "      <td>0.668284</td>\n",
       "    </tr>\n",
       "    <tr>\n",
       "      <th>17</th>\n",
       "      <td>2</td>\n",
       "      <td>3</td>\n",
       "      <td>0.784947</td>\n",
       "    </tr>\n",
       "    <tr>\n",
       "      <th>18</th>\n",
       "      <td>3</td>\n",
       "      <td>3</td>\n",
       "      <td>-0.978810</td>\n",
       "    </tr>\n",
       "    <tr>\n",
       "      <th>19</th>\n",
       "      <td>4</td>\n",
       "      <td>3</td>\n",
       "      <td>0.715253</td>\n",
       "    </tr>\n",
       "    <tr>\n",
       "      <th>20</th>\n",
       "      <td>0</td>\n",
       "      <td>4</td>\n",
       "      <td>-0.839072</td>\n",
       "    </tr>\n",
       "    <tr>\n",
       "      <th>21</th>\n",
       "      <td>1</td>\n",
       "      <td>4</td>\n",
       "      <td>0.251868</td>\n",
       "    </tr>\n",
       "    <tr>\n",
       "      <th>22</th>\n",
       "      <td>2</td>\n",
       "      <td>4</td>\n",
       "      <td>0.111631</td>\n",
       "    </tr>\n",
       "    <tr>\n",
       "      <th>23</th>\n",
       "      <td>3</td>\n",
       "      <td>4</td>\n",
       "      <td>0.989954</td>\n",
       "    </tr>\n",
       "    <tr>\n",
       "      <th>24</th>\n",
       "      <td>4</td>\n",
       "      <td>4</td>\n",
       "      <td>-0.361220</td>\n",
       "    </tr>\n",
       "  </tbody>\n",
       "</table>\n",
       "</div>"
      ],
      "text/plain": [
       "    x  y         z\n",
       "0   0  0 -0.839072\n",
       "1   1  0 -0.275364\n",
       "2   2  0  0.735597\n",
       "3   3  0  0.830675\n",
       "4   4  0  0.610088\n",
       "5   0  1 -0.839072\n",
       "6   1  1  0.180380\n",
       "7   2  1  0.035253\n",
       "8   3  1 -0.898366\n",
       "9   4  1 -0.027743\n",
       "10  0  2 -0.839072\n",
       "11  1  2  0.633925\n",
       "12  2  2  0.329517\n",
       "13  3  2  0.948076\n",
       "14  4  2 -0.369977\n",
       "15  0  3 -0.839072\n",
       "16  1  3  0.668284\n",
       "17  2  3  0.784947\n",
       "18  3  3 -0.978810\n",
       "19  4  3  0.715253\n",
       "20  0  4 -0.839072\n",
       "21  1  4  0.251868\n",
       "22  2  4  0.111631\n",
       "23  3  4  0.989954\n",
       "24  4  4 -0.361220"
      ]
     },
     "execution_count": 47,
     "metadata": {},
     "output_type": "execute_result"
    }
   ],
   "source": [
    "data = {'x':x2,\n",
    "       'y':y2,\n",
    "       'z':z2}\n",
    "df=pd.DataFrame(data)\n",
    "df"
   ]
  },
  {
   "cell_type": "code",
   "execution_count": 50,
   "metadata": {},
   "outputs": [
    {
     "data": {
      "image/png": "[encoded data removed]",
      "text/plain": [
       "<Figure size 432x288 with 1 Axes>"
      ]
     },
     "metadata": {
      "needs_background": "light"
     },
     "output_type": "display_data"
    }
   ],
   "source": [
    "df.plot(kind ='scatter',x='x',y='y',color='orange')\n",
    "plt.savefig('Q4plot.png')"
   ]
  },
  {
   "cell_type": "code",
   "execution_count": 52,
   "metadata": {},
   "outputs": [
    {
     "data": {
      "image/png": "[encoded data removed]",
      "text/plain": [
       "<Figure size 432x288 with 2 Axes>"
      ]
     },
     "metadata": {
      "needs_background": "light"
     },
     "output_type": "display_data"
    }
   ],
   "source": [
    "df.plot.scatter(x='x',y='y',c='z', colormap='viridis')\n",
    "plt.savefig('q5plot.png')"
   ]
  },
  {
   "cell_type": "code",
   "execution_count": 53,
   "metadata": {},
   "outputs": [
    {
     "name": "stdout",
     "output_type": "stream",
     "text": [
      "\"EAST\",\"NORTH\",\"ELEVATION\"\n",
      "-35,-25,9.32108797751026\n",
      "-35,-24.75,9.35678729763397\n",
      "-35,-24.5,9.39248661775767\n",
      "-35,-24.25,9.42818593788138\n"
     ]
    }
   ],
   "source": [
    "!head -5 actualbathy.csv"
   ]
  },
  {
   "cell_type": "markdown",
   "metadata": {},
   "source": [
    "The next step is to open our data in the DataFreame"
   ]
  },
  {
   "cell_type": "code",
   "execution_count": 25,
   "metadata": {},
   "outputs": [
    {
     "data": {
      "text/html": [
       "<div>\n",
       "<style scoped>\n",
       "    .dataframe tbody tr th:only-of-type {\n",
       "        vertical-align: middle;\n",
       "    }\n",
       "\n",
       "    .dataframe tbody tr th {\n",
       "        vertical-align: top;\n",
       "    }\n",
       "\n",
       "    .dataframe thead th {\n",
       "        text-align: right;\n",
       "    }\n",
       "</style>\n",
       "<table border=\"1\" class=\"dataframe\">\n",
       "  <thead>\n",
       "    <tr style=\"text-align: right;\">\n",
       "      <th></th>\n",
       "      <th>EAST</th>\n",
       "      <th>NORTH</th>\n",
       "      <th>ELEVATION</th>\n",
       "    </tr>\n",
       "  </thead>\n",
       "  <tbody>\n",
       "    <tr>\n",
       "      <th>0</th>\n",
       "      <td>-35.0</td>\n",
       "      <td>-25.00</td>\n",
       "      <td>9.321088</td>\n",
       "    </tr>\n",
       "    <tr>\n",
       "      <th>1</th>\n",
       "      <td>-35.0</td>\n",
       "      <td>-24.75</td>\n",
       "      <td>9.356787</td>\n",
       "    </tr>\n",
       "    <tr>\n",
       "      <th>2</th>\n",
       "      <td>-35.0</td>\n",
       "      <td>-24.50</td>\n",
       "      <td>9.392487</td>\n",
       "    </tr>\n",
       "    <tr>\n",
       "      <th>3</th>\n",
       "      <td>-35.0</td>\n",
       "      <td>-24.25</td>\n",
       "      <td>9.428186</td>\n",
       "    </tr>\n",
       "    <tr>\n",
       "      <th>4</th>\n",
       "      <td>-35.0</td>\n",
       "      <td>-24.00</td>\n",
       "      <td>9.504512</td>\n",
       "    </tr>\n",
       "    <tr>\n",
       "      <th>5</th>\n",
       "      <td>-35.0</td>\n",
       "      <td>-23.75</td>\n",
       "      <td>9.448359</td>\n",
       "    </tr>\n",
       "    <tr>\n",
       "      <th>6</th>\n",
       "      <td>-35.0</td>\n",
       "      <td>-23.50</td>\n",
       "      <td>9.429514</td>\n",
       "    </tr>\n",
       "    <tr>\n",
       "      <th>7</th>\n",
       "      <td>-35.0</td>\n",
       "      <td>-23.25</td>\n",
       "      <td>9.426695</td>\n",
       "    </tr>\n",
       "    <tr>\n",
       "      <th>8</th>\n",
       "      <td>-35.0</td>\n",
       "      <td>-23.00</td>\n",
       "      <td>9.418625</td>\n",
       "    </tr>\n",
       "    <tr>\n",
       "      <th>9</th>\n",
       "      <td>-35.0</td>\n",
       "      <td>-22.75</td>\n",
       "      <td>9.467676</td>\n",
       "    </tr>\n",
       "    <tr>\n",
       "      <th>10</th>\n",
       "      <td>-35.0</td>\n",
       "      <td>-22.50</td>\n",
       "      <td>9.564936</td>\n",
       "    </tr>\n",
       "    <tr>\n",
       "      <th>11</th>\n",
       "      <td>-35.0</td>\n",
       "      <td>-22.25</td>\n",
       "      <td>9.662196</td>\n",
       "    </tr>\n",
       "    <tr>\n",
       "      <th>12</th>\n",
       "      <td>-35.0</td>\n",
       "      <td>-22.00</td>\n",
       "      <td>9.784557</td>\n",
       "    </tr>\n",
       "    <tr>\n",
       "      <th>13</th>\n",
       "      <td>-35.0</td>\n",
       "      <td>-21.75</td>\n",
       "      <td>10.057811</td>\n",
       "    </tr>\n",
       "    <tr>\n",
       "      <th>14</th>\n",
       "      <td>-35.0</td>\n",
       "      <td>-21.50</td>\n",
       "      <td>10.292973</td>\n",
       "    </tr>\n",
       "    <tr>\n",
       "      <th>15</th>\n",
       "      <td>-35.0</td>\n",
       "      <td>-21.25</td>\n",
       "      <td>10.487155</td>\n",
       "    </tr>\n",
       "    <tr>\n",
       "      <th>16</th>\n",
       "      <td>-35.0</td>\n",
       "      <td>-21.00</td>\n",
       "      <td>10.668333</td>\n",
       "    </tr>\n",
       "    <tr>\n",
       "      <th>17</th>\n",
       "      <td>-35.0</td>\n",
       "      <td>-20.75</td>\n",
       "      <td>10.617747</td>\n",
       "    </tr>\n",
       "    <tr>\n",
       "      <th>18</th>\n",
       "      <td>-35.0</td>\n",
       "      <td>-20.50</td>\n",
       "      <td>10.567161</td>\n",
       "    </tr>\n",
       "    <tr>\n",
       "      <th>19</th>\n",
       "      <td>-35.0</td>\n",
       "      <td>-20.25</td>\n",
       "      <td>10.534653</td>\n",
       "    </tr>\n",
       "    <tr>\n",
       "      <th>20</th>\n",
       "      <td>-35.0</td>\n",
       "      <td>-20.00</td>\n",
       "      <td>10.534797</td>\n",
       "    </tr>\n",
       "    <tr>\n",
       "      <th>21</th>\n",
       "      <td>-35.0</td>\n",
       "      <td>-19.75</td>\n",
       "      <td>10.580331</td>\n",
       "    </tr>\n",
       "    <tr>\n",
       "      <th>22</th>\n",
       "      <td>-35.0</td>\n",
       "      <td>-19.50</td>\n",
       "      <td>10.627578</td>\n",
       "    </tr>\n",
       "    <tr>\n",
       "      <th>23</th>\n",
       "      <td>-35.0</td>\n",
       "      <td>-19.25</td>\n",
       "      <td>10.674825</td>\n",
       "    </tr>\n",
       "    <tr>\n",
       "      <th>24</th>\n",
       "      <td>-35.0</td>\n",
       "      <td>-19.00</td>\n",
       "      <td>10.711510</td>\n",
       "    </tr>\n",
       "    <tr>\n",
       "      <th>25</th>\n",
       "      <td>-35.0</td>\n",
       "      <td>-18.75</td>\n",
       "      <td>10.654998</td>\n",
       "    </tr>\n",
       "    <tr>\n",
       "      <th>26</th>\n",
       "      <td>-35.0</td>\n",
       "      <td>-18.50</td>\n",
       "      <td>10.590237</td>\n",
       "    </tr>\n",
       "    <tr>\n",
       "      <th>27</th>\n",
       "      <td>-35.0</td>\n",
       "      <td>-18.25</td>\n",
       "      <td>10.525598</td>\n",
       "    </tr>\n",
       "    <tr>\n",
       "      <th>28</th>\n",
       "      <td>-35.0</td>\n",
       "      <td>-18.00</td>\n",
       "      <td>10.475669</td>\n",
       "    </tr>\n",
       "    <tr>\n",
       "      <th>29</th>\n",
       "      <td>-35.0</td>\n",
       "      <td>-17.75</td>\n",
       "      <td>10.513254</td>\n",
       "    </tr>\n",
       "    <tr>\n",
       "      <th>...</th>\n",
       "      <td>...</td>\n",
       "      <td>...</td>\n",
       "      <td>...</td>\n",
       "    </tr>\n",
       "    <tr>\n",
       "      <th>19451</th>\n",
       "      <td>5.0</td>\n",
       "      <td>-2.25</td>\n",
       "      <td>2.299344</td>\n",
       "    </tr>\n",
       "    <tr>\n",
       "      <th>19452</th>\n",
       "      <td>5.0</td>\n",
       "      <td>-2.00</td>\n",
       "      <td>2.311492</td>\n",
       "    </tr>\n",
       "    <tr>\n",
       "      <th>19453</th>\n",
       "      <td>5.0</td>\n",
       "      <td>-1.75</td>\n",
       "      <td>2.323639</td>\n",
       "    </tr>\n",
       "    <tr>\n",
       "      <th>19454</th>\n",
       "      <td>5.0</td>\n",
       "      <td>-1.50</td>\n",
       "      <td>2.346609</td>\n",
       "    </tr>\n",
       "    <tr>\n",
       "      <th>19455</th>\n",
       "      <td>5.0</td>\n",
       "      <td>-1.25</td>\n",
       "      <td>2.373113</td>\n",
       "    </tr>\n",
       "    <tr>\n",
       "      <th>19456</th>\n",
       "      <td>5.0</td>\n",
       "      <td>-1.00</td>\n",
       "      <td>2.392576</td>\n",
       "    </tr>\n",
       "    <tr>\n",
       "      <th>19457</th>\n",
       "      <td>5.0</td>\n",
       "      <td>-0.75</td>\n",
       "      <td>2.373425</td>\n",
       "    </tr>\n",
       "    <tr>\n",
       "      <th>19458</th>\n",
       "      <td>5.0</td>\n",
       "      <td>-0.50</td>\n",
       "      <td>2.354274</td>\n",
       "    </tr>\n",
       "    <tr>\n",
       "      <th>19459</th>\n",
       "      <td>5.0</td>\n",
       "      <td>-0.25</td>\n",
       "      <td>2.340350</td>\n",
       "    </tr>\n",
       "    <tr>\n",
       "      <th>19460</th>\n",
       "      <td>5.0</td>\n",
       "      <td>0.00</td>\n",
       "      <td>2.355088</td>\n",
       "    </tr>\n",
       "    <tr>\n",
       "      <th>19461</th>\n",
       "      <td>5.0</td>\n",
       "      <td>0.25</td>\n",
       "      <td>2.374189</td>\n",
       "    </tr>\n",
       "    <tr>\n",
       "      <th>19462</th>\n",
       "      <td>5.0</td>\n",
       "      <td>0.50</td>\n",
       "      <td>2.396803</td>\n",
       "    </tr>\n",
       "    <tr>\n",
       "      <th>19463</th>\n",
       "      <td>5.0</td>\n",
       "      <td>0.75</td>\n",
       "      <td>2.419458</td>\n",
       "    </tr>\n",
       "    <tr>\n",
       "      <th>19464</th>\n",
       "      <td>5.0</td>\n",
       "      <td>1.00</td>\n",
       "      <td>2.442974</td>\n",
       "    </tr>\n",
       "    <tr>\n",
       "      <th>19465</th>\n",
       "      <td>5.0</td>\n",
       "      <td>1.25</td>\n",
       "      <td>2.467007</td>\n",
       "    </tr>\n",
       "    <tr>\n",
       "      <th>19466</th>\n",
       "      <td>5.0</td>\n",
       "      <td>1.50</td>\n",
       "      <td>2.491041</td>\n",
       "    </tr>\n",
       "    <tr>\n",
       "      <th>19467</th>\n",
       "      <td>5.0</td>\n",
       "      <td>1.75</td>\n",
       "      <td>2.514898</td>\n",
       "    </tr>\n",
       "    <tr>\n",
       "      <th>19468</th>\n",
       "      <td>5.0</td>\n",
       "      <td>2.00</td>\n",
       "      <td>2.505977</td>\n",
       "    </tr>\n",
       "    <tr>\n",
       "      <th>19469</th>\n",
       "      <td>5.0</td>\n",
       "      <td>2.25</td>\n",
       "      <td>2.497056</td>\n",
       "    </tr>\n",
       "    <tr>\n",
       "      <th>19470</th>\n",
       "      <td>5.0</td>\n",
       "      <td>2.50</td>\n",
       "      <td>2.495488</td>\n",
       "    </tr>\n",
       "    <tr>\n",
       "      <th>19471</th>\n",
       "      <td>5.0</td>\n",
       "      <td>2.75</td>\n",
       "      <td>2.497117</td>\n",
       "    </tr>\n",
       "    <tr>\n",
       "      <th>19472</th>\n",
       "      <td>5.0</td>\n",
       "      <td>3.00</td>\n",
       "      <td>2.543742</td>\n",
       "    </tr>\n",
       "    <tr>\n",
       "      <th>19473</th>\n",
       "      <td>5.0</td>\n",
       "      <td>3.25</td>\n",
       "      <td>2.591921</td>\n",
       "    </tr>\n",
       "    <tr>\n",
       "      <th>19474</th>\n",
       "      <td>5.0</td>\n",
       "      <td>3.50</td>\n",
       "      <td>2.633927</td>\n",
       "    </tr>\n",
       "    <tr>\n",
       "      <th>19475</th>\n",
       "      <td>5.0</td>\n",
       "      <td>3.75</td>\n",
       "      <td>2.675932</td>\n",
       "    </tr>\n",
       "    <tr>\n",
       "      <th>19476</th>\n",
       "      <td>5.0</td>\n",
       "      <td>4.00</td>\n",
       "      <td>2.710687</td>\n",
       "    </tr>\n",
       "    <tr>\n",
       "      <th>19477</th>\n",
       "      <td>5.0</td>\n",
       "      <td>4.25</td>\n",
       "      <td>2.729047</td>\n",
       "    </tr>\n",
       "    <tr>\n",
       "      <th>19478</th>\n",
       "      <td>5.0</td>\n",
       "      <td>4.50</td>\n",
       "      <td>2.745627</td>\n",
       "    </tr>\n",
       "    <tr>\n",
       "      <th>19479</th>\n",
       "      <td>5.0</td>\n",
       "      <td>4.75</td>\n",
       "      <td>2.762208</td>\n",
       "    </tr>\n",
       "    <tr>\n",
       "      <th>19480</th>\n",
       "      <td>5.0</td>\n",
       "      <td>5.00</td>\n",
       "      <td>2.766418</td>\n",
       "    </tr>\n",
       "  </tbody>\n",
       "</table>\n",
       "<p>19481 rows × 3 columns</p>\n",
       "</div>"
      ],
      "text/plain": [
       "       EAST  NORTH  ELEVATION\n",
       "0     -35.0 -25.00   9.321088\n",
       "1     -35.0 -24.75   9.356787\n",
       "2     -35.0 -24.50   9.392487\n",
       "3     -35.0 -24.25   9.428186\n",
       "4     -35.0 -24.00   9.504512\n",
       "...     ...    ...        ...\n",
       "19476   5.0   4.00   2.710687\n",
       "19477   5.0   4.25   2.729047\n",
       "19478   5.0   4.50   2.745627\n",
       "19479   5.0   4.75   2.762208\n",
       "19480   5.0   5.00   2.766418\n",
       "\n",
       "[19481 rows x 3 columns]"
      ]
     },
     "execution_count": 25,
     "metadata": {},
     "output_type": "execute_result"
    }
   ],
   "source": [
    "df_bathy = pd.read_csv('actualbathy.csv')\n",
    "df_bathy"
   ]
  },
  {
   "cell_type": "code",
   "execution_count": 26,
   "metadata": {},
   "outputs": [
    {
     "name": "stdout",
     "output_type": "stream",
     "text": [
      "<class 'pandas.core.frame.DataFrame'>\n",
      "RangeIndex: 25 entries, 0 to 24\n",
      "Data columns (total 3 columns):\n",
      "x_value    25 non-null float64\n",
      "y_value    25 non-null float64\n",
      "z_value    25 non-null float64\n",
      "dtypes: float64(3)\n",
      "memory usage: 728.0 bytes\n"
     ]
    }
   ],
   "source": [
    "df.info()"
   ]
  },
  {
   "cell_type": "code",
   "execution_count": 27,
   "metadata": {},
   "outputs": [
    {
     "data": {
      "image/png": "[encoded data removed]",
      "text/plain": [
       "<Figure size 432x288 with 2 Axes>"
      ]
     },
     "metadata": {
      "needs_background": "light"
     },
     "output_type": "display_data"
    }
   ],
   "source": [
    "df_bathy.plot.scatter(x='EAST', y='NORTH', c='ELEVATION', colormap='viridis');\n",
    "plt.savefig('Q9plot.png')"
   ]
  },
  {
   "cell_type": "code",
   "execution_count": 28,
   "metadata": {},
   "outputs": [],
   "source": [
    "eastlist = list(df_bathy['EAST']),\n",
    "northlist = list(df_bathy['NORTH']),\n",
    "elevationlist = list(df_bathy['ELEVATION'])"
   ]
  },
  {
   "cell_type": "code",
   "execution_count": 29,
   "metadata": {},
   "outputs": [
    {
     "data": {
      "text/html": [
       "<div>\n",
       "<style scoped>\n",
       "    .dataframe tbody tr th:only-of-type {\n",
       "        vertical-align: middle;\n",
       "    }\n",
       "\n",
       "    .dataframe tbody tr th {\n",
       "        vertical-align: top;\n",
       "    }\n",
       "\n",
       "    .dataframe thead th {\n",
       "        text-align: right;\n",
       "    }\n",
       "</style>\n",
       "<table border=\"1\" class=\"dataframe\">\n",
       "  <thead>\n",
       "    <tr style=\"text-align: right;\">\n",
       "      <th></th>\n",
       "      <th>x_value</th>\n",
       "      <th>y_value</th>\n",
       "      <th>z_value</th>\n",
       "    </tr>\n",
       "  </thead>\n",
       "  <tbody>\n",
       "    <tr>\n",
       "      <th>0</th>\n",
       "      <td>0.0</td>\n",
       "      <td>0.0</td>\n",
       "      <td>-0.839072</td>\n",
       "    </tr>\n",
       "    <tr>\n",
       "      <th>1</th>\n",
       "      <td>1.0</td>\n",
       "      <td>0.0</td>\n",
       "      <td>-0.275364</td>\n",
       "    </tr>\n",
       "    <tr>\n",
       "      <th>2</th>\n",
       "      <td>2.0</td>\n",
       "      <td>0.0</td>\n",
       "      <td>0.735597</td>\n",
       "    </tr>\n",
       "    <tr>\n",
       "      <th>3</th>\n",
       "      <td>3.0</td>\n",
       "      <td>0.0</td>\n",
       "      <td>0.830675</td>\n",
       "    </tr>\n",
       "    <tr>\n",
       "      <th>4</th>\n",
       "      <td>4.0</td>\n",
       "      <td>0.0</td>\n",
       "      <td>0.610088</td>\n",
       "    </tr>\n",
       "  </tbody>\n",
       "</table>\n",
       "</div>"
      ],
      "text/plain": [
       "   x_value  y_value   z_value\n",
       "0      0.0      0.0 -0.839072\n",
       "1      1.0      0.0 -0.275364\n",
       "2      2.0      0.0  0.735597\n",
       "3      3.0      0.0  0.830675\n",
       "4      4.0      0.0  0.610088"
      ]
     },
     "execution_count": 29,
     "metadata": {},
     "output_type": "execute_result"
    }
   ],
   "source": [
    "df = pd.DataFrame.from_dict(np.array([X,Y,Z]).T)\n",
    "df.columns = ['x_value','y_value','z_value']\n",
    "df['z_value'] = pd.to_numeric(df['z_value'])\n",
    "df.head()"
   ]
  },
  {
   "cell_type": "code",
   "execution_count": 30,
   "metadata": {},
   "outputs": [
    {
     "data": {
      "image/png": "[encoded data removed]",
      "text/plain": [
       "<Figure size 432x288 with 1 Axes>"
      ]
     },
     "metadata": {
      "needs_background": "light"
     },
     "output_type": "display_data"
    }
   ],
   "source": [
    "ax = plt.axes(projection='3d')\n",
    "\n",
    "xdata= eastlist\n",
    "ydata= northlist\n",
    "zdata= elevationlist\n",
    "ax.scatter3D(xdata, ydata, zdata, c=zdata, cmap='viridis');\n",
    "plt.savefig('A10plot.png')"
   ]
  },
  {
   "cell_type": "code",
   "execution_count": null,
   "metadata": {},
   "outputs": [],
   "source": [
    "df_covis_location_bar= pd.read_csv('actualbathy.csv')\n",
    "df_bathy"
   ]
  },
  {
   "cell_type": "code",
   "execution_count": 31,
   "metadata": {},
   "outputs": [
    {
     "data": {
      "text/plain": [
       "2"
      ]
     },
     "execution_count": 31,
     "metadata": {},
     "output_type": "execute_result"
    }
   ],
   "source": [
    "1+1"
   ]
  },
  {
   "cell_type": "code",
   "execution_count": null,
   "metadata": {},
   "outputs": [],
   "source": []
  }
 ],
 "metadata": {
  "kernelspec": {
   "display_name": "Python 3",
   "language": "python",
   "name": "python3"
  },
  "language_info": {
   "codemirror_mode": {
    "name": "ipython",
    "version": 3
   },
   "file_extension": ".py",
   "mimetype": "text/x-python",
   "name": "python",
   "nbconvert_exporter": "python",
   "pygments_lexer": "ipython3",
   "version": "3.7.3"
  }
 },
 "nbformat": 4,
 "nbformat_minor": 4
}
