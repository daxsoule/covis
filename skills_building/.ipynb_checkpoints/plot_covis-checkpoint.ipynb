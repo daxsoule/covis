{
 "cells": [
  {
   "cell_type": "markdown",
   "metadata": {},
   "source": [
    "## Assignment 1"
   ]
  },
  {
   "cell_type": "markdown",
   "metadata": {},
   "source": [
    "First import pandas, hvplot.pandas, numpy, and "
   ]
  },
  {
   "cell_type": "code",
   "execution_count": null,
   "metadata": {},
   "outputs": [],
   "source": [
    "import pandas as pd\n",
    "import hvplot.pandas\n",
    "import numpy as np\n",
    "#import matplotlib.dates as dates\n",
    "#import warnings\n",
    "#warnings.filterwarnings('ignore')"
   ]
  },
  {
   "cell_type": "markdown",
   "metadata": {},
   "source": [
    "### 1.1. Create two 2D arrays representing coordinates x, y on the cartesian plan\n",
    "Both should cover the range (-2, 2) and have 100 points in each direction"
   ]
  },
  {
   "cell_type": "code",
   "execution_count": null,
   "metadata": {},
   "outputs": [],
   "source": []
  },
  {
   "cell_type": "markdown",
   "metadata": {},
   "source": [
    "Problem 1: Line plots\n",
    "In this problem, we will plot some daily weather data from a NOAA station in Millbrook, NY. A full description of this dataset is available at: https://www.ncdc.noaa.gov/data-access/land-based-station-data\n",
    "\n",
    "The cell below uses pandas to download the data and populate a bunch of numpy arrays (t_daily_min, t_daily_max, etc.) Run the cell and then use the numpy arrays to try to re-create the plot you see."
   ]
  },
  {
   "cell_type": "code",
   "execution_count": null,
   "metadata": {},
   "outputs": [],
   "source": [
    "import urllib\n",
    "import pandas as pd\n",
    "\n",
    "header_url = 'ftp://ftp.ncdc.noaa.gov/pub/data/uscrn/products/daily01/HEADERS.txt'\n",
    "with urllib.request.urlopen(header_url) as response:\n",
    "    data = response.read().decode('utf-8')\n",
    "lines = data.split('\\n')\n",
    "headers = lines[1].split(' ')\n",
    "\n",
    "ftp_base = 'ftp://ftp.ncdc.noaa.gov/pub/data/uscrn/products/daily01/'\n",
    "dframes = []\n",
    "for year in range(2016, 2019):\n",
    "    data_url = f'{year}/CRND0103-{year}-NY_Millbrook_3_W.txt'               \n",
    "    df = pd.read_csv(ftp_base + data_url, parse_dates=[1],\n",
    "                     names=headers, header=None, sep='\\s+',\n",
    "                     na_values=[-9999.0, -99.0])\n",
    "    dframes.append(df)\n",
    "\n",
    "df = pd.concat(dframes)\n",
    "df = df.set_index('LST_DATE')\n",
    "\n",
    "#########################################################\n",
    "#### BELOW ARE THE VARIABLES YOU SHOULD USE IN THE PLOTS!\n",
    "#### (numpy arrays) \n",
    "#### NO PANDAS ALLOWED!\n",
    "#########################################################\n",
    "\n",
    "t_daily_min = df.T_DAILY_MIN.values\n",
    "t_daily_max = df.T_DAILY_MAX.values\n",
    "t_daily_mean = df.T_DAILY_MEAN.values\n",
    "p_daily_calc = df.P_DAILY_CALC.values\n",
    "soil_moisture_5 = df.SOIL_MOISTURE_5_DAILY.values\n",
    "soil_moisture_10 = df.SOIL_MOISTURE_10_DAILY.values\n",
    "soil_moisture_20 = df.SOIL_MOISTURE_20_DAILY.values\n",
    "soil_moisture_50 = df.SOIL_MOISTURE_50_DAILY.values\n",
    "soil_moisture_100 = df.SOIL_MOISTURE_100_DAILY.values\n",
    "date = df.index.values"
   ]
  },
  {
   "cell_type": "code",
   "execution_count": null,
   "metadata": {},
   "outputs": [],
   "source": [
    "df.head()"
   ]
  },
  {
   "cell_type": "code",
   "execution_count": null,
   "metadata": {},
   "outputs": [],
   "source": []
  }
 ],
 "metadata": {
  "kernelspec": {
   "display_name": "Python 3",
   "language": "python",
   "name": "python3"
  },
  "language_info": {
   "codemirror_mode": {
    "name": "ipython",
    "version": 3
   },
   "file_extension": ".py",
   "mimetype": "text/x-python",
   "name": "python",
   "nbconvert_exporter": "python",
   "pygments_lexer": "ipython3",
   "version": "3.6.6"
  }
 },
 "nbformat": 4,
 "nbformat_minor": 2
}
