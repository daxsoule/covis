{
 "cells": [
  {
   "cell_type": "markdown",
   "metadata": {},
   "source": [
    "# Guide to Using Jupyter Notebooks\n",
    "In this lecture we will be going over the basics of the Jupyter (previously called iPython Notebooks).\n",
    "\n",
    "For a complete User Manual check out the [Bryn Mawr College Computer Science Guide](https://athena.brynmawr.edu/jupyter/hub/dblank/public/Jupyter%20Notebook%20Users%20Manual.ipynb).\n",
    "\n",
    "Most of the breakdown will actually occur in the presentation corresponding to this Notebook. So please refer to either the presentation or the full User Manual linked above."
   ]
  },
  {
   "cell_type": "code",
   "execution_count": null,
   "metadata": {},
   "outputs": [],
   "source": [
    "from IPython.display import Image\n",
    "Image(url = \"https://jupyter.org/assets/main-logo.svg\", width=400)"
   ]
  },
  {
   "cell_type": "markdown",
   "metadata": {},
   "source": [
    "## Web based Application developed on GitHub\n",
    "### &emsp;&emsp; -Live Code\n",
    "### &emsp;&emsp; -Equations \n",
    "### &emsp;&emsp; -Visualization \n",
    "### &emsp;&emsp; -Rich text \n",
    "![title](images/Crone_CUNY_Queens.034.jpeg)"
   ]
  },
  {
   "cell_type": "code",
   "execution_count": null,
   "metadata": {},
   "outputs": [],
   "source": []
  }
 ],
 "metadata": {
  "kernelspec": {
   "display_name": "Python 3",
   "language": "python",
   "name": "python3"
  },
  "language_info": {
   "codemirror_mode": {
    "name": "ipython",
    "version": 3
   },
   "file_extension": ".py",
   "mimetype": "text/x-python",
   "name": "python",
   "nbconvert_exporter": "python",
   "pygments_lexer": "ipython3",
   "version": "3.6.6"
  }
 },
 "nbformat": 4,
 "nbformat_minor": 2
}
