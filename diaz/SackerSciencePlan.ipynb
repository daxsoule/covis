{
 "cells": [
  {
   "cell_type": "markdown",
   "metadata": {},
   "source": [
    "# Science Plan\n",
    "\n",
    "Objective - test hypothesis that weather events can affect the bottom currents that control the bending and rise heights of Hydrothermal plumes "
   ]
  },
  {
   "cell_type": "code",
   "execution_count": null,
   "metadata": {},
   "outputs": [],
   "source": [
    "import numpy as np\n",
    "import matplotlib.pyplot as plt\n",
    "%matplotlib inline\n",
    "from mpl_toolkits import mplot3d\n",
    "import pandas as pd\n",
    "from datetime import datetime\n",
    "import hvplot.pandas\n",
    "import holoviews as hv\n",
    "from holoviews import dim, opts\n",
    "hv.extension('bokeh')"
   ]
  },
  {
   "cell_type": "markdown",
   "metadata": {},
   "source": [
    "## Step One - Find Some Data\n",
    "\n",
    "* Check out the loaded zip file. It contains plume bending data (direction of bending and magnitude of bending), vertical velocity in the plume, a vent temperature data file, and some weather data.  Note these files contain data for two time frames - Oct 2010 and Oct to Dec 2011. \n",
    "    i. BendData*.txt - these two files are the basic bending data - three columns = {direction as angle from north, bending magnitude as angle from vertical, julian date}\n",
    "    ii. Other files are .mat format so Dax or I may need to help with these. I’ll try to load more information on them soon.\n",
    "* I also loaded two powerpoints of talks that came out of the pilot study.  Some of the material is irrelevant.\n",
    "* I don’t have a handy tidal data file -- bottom current and pressure from tides -- but this should exist at least as model data\n",
    "* At Ocean Networks Canada’s NEPTUNE observatory, they had current meters (ADCP) at a regional circulation mooring about 1 km N to NE of the COVIS site that collected data in Oct 2010 and in late 2011 to early 2012. \n",
    "* I did include the weather data I found. This came from the NOAA and National Weather Center’s records.  Feel free to do your own hunt for data!\n",
    "* At some point, you might want the actual grids of COVIS data.  Right now most data is in Matlab’s .mat format and takes a bit of processing to get images, centerlines, and bending data.  But this will be useful to lengthen the data series (COVIS took data in Oct 2010 and form Oct 2011 to some time in late 2014 or early 2015).\n",
    "\n"
   ]
  },
  {
   "cell_type": "markdown",
   "metadata": {},
   "source": [
    "## Plume Bending Data\n",
    "\n",
    "**2010**"
   ]
  },
  {
   "cell_type": "code",
   "execution_count": null,
   "metadata": {},
   "outputs": [],
   "source": [
    "!echo 'direction,deg_from_vert,jday' | cat - ~jovyan/data/covis_data/BendData2010Oct.txt > ~jovyan/data/covis_data/temp.txt\n",
    "!sed 's/  /,/g' ~jovyan/data/covis_data/temp.txt > ~jovyan/data/covis_data/bend_data2010.csv"
   ]
  },
  {
   "cell_type": "code",
   "execution_count": null,
   "metadata": {},
   "outputs": [],
   "source": [
    "path = '/home/jovyan/data/covis_data/bend_data2010.csv'\n",
    "df_bd2010 = pd.read_csv(path, sep=\",\")\n",
    "df_bd2010['year'] = '2010'\n",
    "df_bd2010['datetime'] = pd.to_datetime(df_bd2010.year, format='%Y') + pd.to_timedelta(df_bd2010.jday - 1, unit='d')\n",
    "df_bd2010['datetime'] = df_bd2010['datetime'].dt.round('1s')\n",
    "df_bd2010 = df_bd2010.set_index('datetime')\n",
    "df_bd2010.drop(['jday', 'year'], axis=1,inplace=True)\n",
    "df_bd2010 = df_bd2010.rename_axis(None)\n",
    "df_bd2010"
   ]
  },
  {
   "cell_type": "code",
   "execution_count": null,
   "metadata": {},
   "outputs": [],
   "source": [
    "r = df_bd2010['r_value'] = 1\n",
    "theta = df_bd2010['direction'] + 270\n",
    "phi = 90 - df_bd2010['deg_from_vert']\n",
    "df_bd2010['north (x)'] = r * np.sin(theta) * np.cos(phi)\n",
    "df_bd2010['east (y)'] = r * np.sin(theta) * np.sin(phi)\n",
    "df_bd2010['vertical (z)'] = r * np.cos(theta)\n",
    "df_bd2010"
   ]
  },
  {
   "cell_type": "markdown",
   "metadata": {},
   "source": [
    "**2011**"
   ]
  },
  {
   "cell_type": "code",
   "execution_count": null,
   "metadata": {},
   "outputs": [],
   "source": [
    "!echo 'direction,deg_from_vert,jday' | cat - ~jovyan/data/covis_data/BendData2011OctDec.txt > ~jovyan/data/covis_data/temp2.txt\n",
    "!sed 's/  /,/g' ~jovyan/data/covis_data/temp2.txt > ~jovyan/data/covis_data/bend_data2011.csv"
   ]
  },
  {
   "cell_type": "code",
   "execution_count": null,
   "metadata": {},
   "outputs": [],
   "source": [
    "path = '/home/jovyan/data/covis_data/bend_data2011.csv'\n",
    "df_bd2011 = pd.read_csv(path, sep=\",\")\n",
    "df_bd2011['year'] = '2011'\n",
    "df_bd2011['datetime'] = pd.to_datetime(df_bd2011.year, format='%Y') + pd.to_timedelta(df_bd2011.jday - 1, unit='d')\n",
    "df_bd2011['datetime'] = df_bd2011['datetime'].dt.round('1s')\n",
    "df_bd2011 = df_bd2011.set_index('datetime')\n",
    "df_bd2011.drop(['jday', 'year'], axis=1,inplace=True)\n",
    "df_bd2011 = df_bd2011.rename_axis(None)\n",
    "df_bd2011"
   ]
  },
  {
   "cell_type": "code",
   "execution_count": null,
   "metadata": {},
   "outputs": [],
   "source": [
    "r = df_bd2011['r_value'] = 1\n",
    "theta = df_bd2011['direction'] + 270\n",
    "phi = 90 - df_bd2011['deg_from_vert']\n",
    "df_bd2011['north (x)'] = r * np.sin(theta) * np.cos(phi)\n",
    "df_bd2011['east (y)'] = r * np.sin(theta) * np.sin(phi)\n",
    "df_bd2011['vertical (z)'] = r * np.cos(theta)\n",
    "df_bd2011.head(3)"
   ]
  },
  {
   "cell_type": "markdown",
   "metadata": {},
   "source": [
    "## Centerline Vertical Flow Rate \n",
    "\n",
    "7 variables (Year, Month, Day, Hour, Minute, Second, Flow rate)\n",
    "\n",
    "separator = single blank space\n",
    "\n",
    "Notes:\n",
    "1. Time is given as a vector here.  This was the simplest conversion from the internal Matlab datenum. \n",
    "2. Flow rate is in m/s. Values should all be <1 m/s.\n",
    "3. Several rows contain only the values \"NaN\" which is a Matlab code for Not a Number.  These represent missing data.\n",
    "4. The data in this file is from a diffent set of files than the BendData so the times will not match but be offset by 20-40 minutes.  And there will be missing values (maybe more even than the NaN's represent) as the Doppler data can only be interpretated when the plume is near vertical.\n",
    "\n",
    "Data is from COVIS data collected at Grotto Vent in the MEF."
   ]
  },
  {
   "cell_type": "code",
   "execution_count": null,
   "metadata": {},
   "outputs": [],
   "source": [
    "!echo 'year month day hour minute second flowrate' | cat - ~jovyan/data/covis_data/centerline_vertical_flow_rate_2010.txt > ~jovyan/data/covis_data/temp.txt\n",
    "!sed 's/ /,/g' ~jovyan/data/covis_data/temp.txt > ~jovyan/data/covis_data/temp1.txt\n",
    "!sed 's/,,,,,,,,,,,,,/,/g' ~jovyan/data/covis_data/temp1.txt > ~jovyan/data/covis_data/temp2.txt\n",
    "!sed 's/,,,/,/g' ~jovyan/data/covis_data/temp2.txt > ~jovyan/data/covis_data/temp3.txt\n",
    "!sed 's/^,//' <~jovyan/data/covis_data/temp3.txt >~jovyan/data/covis_data/centerline_vertical_flow_rate_2010.csv\n",
    "!rm ~jovyan/data/covis_data/temp*"
   ]
  },
  {
   "cell_type": "code",
   "execution_count": null,
   "metadata": {},
   "outputs": [],
   "source": [
    "path = '/home/jovyan/data/covis_data/centerline_vertical_flow_rate_2010.csv'\n",
    "df_cvfr2010 = pd.read_csv(path, sep=\",\", engine='python')\n",
    "df_cvfr2010= df_cvfr2010.dropna()\n",
    "df_cvfr2010['year']= df_cvfr2010['year'].round(0).astype(int).astype(str)\n",
    "df_cvfr2010['month']= df_cvfr2010['month'].round(0).astype(int).astype(str).str.pad(width=2, side='left', fillchar='0')\n",
    "df_cvfr2010['day']= df_cvfr2010['day'].round(0).astype(int).astype(str).str.pad(width=2, side='left', fillchar='0')\n",
    "df_cvfr2010['hour']= df_cvfr2010['hour'].round(0).astype(int).astype(str).str.pad(width=2, side='left', fillchar='0')\n",
    "df_cvfr2010['minute']=df_cvfr2010['minute'].round(0).astype(int).astype(str).str.pad(width=2, side='left', fillchar='0')\n",
    "df_cvfr2010['second']= df_cvfr2010['second'].round(0).astype(int).astype(str)\n",
    "df_cvfr2010['datetime'] = df_cvfr2010['year'] + df_cvfr2010['month'] + df_cvfr2010['day'] +\\\n",
    "'T' + df_cvfr2010['hour']+ ':' + df_cvfr2010['minute']\n",
    "df_cvfr2010['datetime'] = pd.to_datetime(df_cvfr2010['datetime'])\n",
    "df_cvfr2010 = df_cvfr2010.set_index('datetime')\n",
    "df_cvfr2010 = df_cvfr2010[['flowrate']]\n",
    "df_cvfr2010 = df_cvfr2010.rename_axis(None)\n",
    "df_cvfr2010"
   ]
  },
  {
   "cell_type": "markdown",
   "metadata": {},
   "source": [
    "## Ras Data\n",
    "\n",
    "7 variables (Year, Month, Day, Hour, Minute, Second, Temperature)\n",
    "\n",
    "separator = single blank space\n",
    "\n",
    "Notes:\n",
    "1. Time is given as a vector here.  This was the simplest conversion from the internal Matlab datenum. \n",
    "2. Temperature is in degrees C. Temperature is averaged at 15 minute intervals starting at 15 minutes after the hour.\n",
    "3. This data is from the RAS instument's inflow temperature sensor.\n",
    "4. The RAS is a water sampling instrument that takes samples when a user request or inflow temperature sensor exceeds a given value. The temperature sensor is under a \"hood\" that keeps the ambient ocean bottom waters from mixing with the discharging diffuse fluids.  \n",
    "\n",
    "I don't expect these data to match up with the COVIS data but you never know.\n",
    "\n"
   ]
  },
  {
   "cell_type": "code",
   "execution_count": null,
   "metadata": {},
   "outputs": [],
   "source": [
    "!rm ~jovyan/data/covis_data/rasdata_2010.csv\n",
    "!echo 'year,month,day,hour,minute,second,temp' | cat - ~jovyan/data/covis_data/rasdata_2010.txt > ~jovyan/data/covis_data/temp.txt\n",
    "!sed 's/   /,/g' ~jovyan/data/covis_data/temp.txt > ~jovyan/data/covis_data/temp1.txt\n",
    "!sed 's/^,//' <~jovyan/data/covis_data/temp1.txt >~jovyan/data/covis_data/rasdata_2010.csv\n",
    "!rm ~jovyan/data/covis_data/temp*"
   ]
  },
  {
   "cell_type": "code",
   "execution_count": null,
   "metadata": {},
   "outputs": [],
   "source": [
    "path = '/home/jovyan/data/covis_data/rasdata_2010.csv'\n",
    "df_ras2010 = pd.read_csv(path, sep=\",\")\n",
    "df_ras2010['year']= df_ras2010['year'].astype(int).astype(str)\n",
    "df_ras2010['month']= df_ras2010['month'].astype(int).astype(str).str.pad(width=2, side='left', fillchar='0')\n",
    "df_ras2010['day']= df_ras2010['day'].astype(int).astype(str).str.pad(width=2, side='left', fillchar='0')\n",
    "df_ras2010['hour']= df_ras2010['hour'].astype(int).astype(str).str.pad(width=2, side='left', fillchar='0')\n",
    "df_ras2010['minute']=df_ras2010['minute'].astype(int).astype(str).str.pad(width=2, side='left', fillchar='0')\n",
    "df_ras2010['datetime'] = df_ras2010['year'] + df_ras2010['month'] + df_ras2010['day'] +\\\n",
    "'T' + df_ras2010['hour']+ ':' + df_ras2010['minute']\n",
    "df_ras2010['datetime'] = pd.to_datetime(df_ras2010['datetime'])\n",
    "df_ras2010 = df_ras2010.set_index('datetime')\n",
    "df_ras2010 = df_ras2010[['temp']]\n",
    "df_ras2010 = df_ras2010.rename_axis(None)\n",
    "df_ras2010"
   ]
  },
  {
   "cell_type": "markdown",
   "metadata": {},
   "source": [
    "## Weather Data\n",
    "\n",
    "(weather_data_for_plotting*.txt files)\n",
    "\n",
    " An explanation of the variable names can be found at https://www.ndbc.noaa.gov/measdes.shtml\n",
    "\n",
    "13 variables (Year, Month, Day, Hour, Minute, Seconds, Julian day, wave height, wind direction, wind speed, wind gust speed, atmospheric pressure, air temperature)\n",
    "\n",
    "separator = single blank space\n",
    "\n",
    "Notes:\n",
    "1. Time is given both as a vector (from original data file probably) and as a Julian day.\n",
    "2. No information on other units by m/s likely for speeds.  Rest should match the NOAA information.  \n",
    "3. I probably still have the original NOAA data files for these buoys. I'll see if I can match data files to the time periods; my directories seemed a little confused. "
   ]
  },
  {
   "cell_type": "markdown",
   "metadata": {},
   "source": [
    "**2010 C46036**"
   ]
  },
  {
   "cell_type": "code",
   "execution_count": null,
   "metadata": {},
   "outputs": [],
   "source": [
    "!rm ~jovyan/data/covis_data/weather_data_for_plotting_2010_C46036.csv\n",
    "!echo 'year,month,day,hour,minute,seconds,jday,wv_height,wnd_dir,wnd_spd,wnd_gspd,atm_prs,air_temp' | cat - ~jovyan/data/covis_data/weather_data_for_plotting_2010_C46036.txt > ~jovyan/data/covis_data/temp.txt\n",
    "!sed 's/   /,/g' ~jovyan/data/covis_data/temp.txt > ~jovyan/data/covis_data/temp1.txt\n",
    "!sed 's/^,//' <~jovyan/data/covis_data/temp1.txt >~jovyan/data/covis_data/weather_data_for_plotting_2010_C46036.csv\n",
    "!rm ~jovyan/data/covis_data/temp*"
   ]
  },
  {
   "cell_type": "code",
   "execution_count": null,
   "metadata": {},
   "outputs": [],
   "source": [
    "path = '/home/jovyan/data/covis_data/weather_data_for_plotting_2010_C46036.csv' \n",
    "df_wd2010c46036 = pd.read_csv(path, sep=\",\")\n",
    "df_wd2010c46036['year']= df_wd2010c46036['year'].astype(int).astype(str)\n",
    "df_wd2010c46036['month']= df_wd2010c46036['month'].astype(int).astype(str).str.pad(width=2, side='left', fillchar='0')\n",
    "df_wd2010c46036['day']= df_wd2010c46036['day'].astype(int).astype(str).str.pad(width=2, side='left', fillchar='0')\n",
    "df_wd2010c46036['hour']= df_wd2010c46036['hour'].astype(int).astype(str).str.pad(width=2, side='left', fillchar='0')\n",
    "df_wd2010c46036['minute']=df_wd2010c46036['minute'].astype(int).astype(str).str.pad(width=2, side='left', fillchar='0')\n",
    "df_wd2010c46036['datetime'] = df_wd2010c46036['year'] + df_wd2010c46036['month'] + df_wd2010c46036['day'] +\\\n",
    "'T' + df_wd2010c46036['hour']+ ':' + df_wd2010c46036['minute']\n",
    "df_wd2010c46036['datetime'] = pd.to_datetime(df_wd2010c46036['datetime'])\n",
    "df_wd2010c46036 = df_wd2010c46036.set_index('datetime')\n",
    "df_wd2010c46036 = df_wd2010c46036[['jday', 'wv_height', 'wnd_dir', 'wnd_spd', 'wnd_gspd', 'atm_prs', 'air_temp']]\n",
    "df_wd2010c46036 = df_wd2010c46036.rename_axis(None)\n",
    "df_wd2010c46036"
   ]
  },
  {
   "cell_type": "markdown",
   "metadata": {},
   "source": [
    "**2011 C46036**"
   ]
  },
  {
   "cell_type": "code",
   "execution_count": null,
   "metadata": {},
   "outputs": [],
   "source": [
    "!rm ~jovyan/data/covis_data/weather_data_for_plotting_2011_C46036.csv\n",
    "!echo 'year,month,day,hour,minute,seconds,jday,wv_height,wnd_dir,wnd_spd,wnd_gspd,atm_prs,air_temp' | cat - ~jovyan/data/covis_data/weather_data_for_plotting_2011_C46036.txt > ~jovyan/data/covis_data/temp.txt\n",
    "!sed 's/   /,/g' ~jovyan/data/covis_data/temp.txt > ~jovyan/data/covis_data/temp1.txt\n",
    "!sed 's/^,//' <~jovyan/data/covis_data/temp1.txt >~jovyan/data/covis_data/weather_data_for_plotting_2011_C46036.csv\n",
    "!rm ~jovyan/data/covis_data/temp*"
   ]
  },
  {
   "cell_type": "code",
   "execution_count": null,
   "metadata": {},
   "outputs": [],
   "source": [
    "path = '/home/jovyan/data/covis_data/weather_data_for_plotting_2011_C46036.csv'\n",
    "df_wd2011c46036 = pd.read_csv(path, sep=\",\")\n",
    "df_wd2011c46036['year']= df_wd2011c46036['year'].astype(int).astype(str)\n",
    "df_wd2011c46036['month']= df_wd2011c46036['month'].astype(int).astype(str).str.pad(width=2, side='left', fillchar='0')\n",
    "df_wd2011c46036['day']= df_wd2011c46036['day'].astype(int).astype(str).str.pad(width=2, side='left', fillchar='0')\n",
    "df_wd2011c46036['hour']= df_wd2011c46036['hour'].astype(int).astype(str).str.pad(width=2, side='left', fillchar='0')\n",
    "df_wd2011c46036['minute']=df_wd2011c46036['minute'].astype(int).astype(str).str.pad(width=2, side='left', fillchar='0')\n",
    "df_wd2011c46036['datetime'] = df_wd2011c46036['year'] + df_wd2011c46036['month'] + df_wd2011c46036['day'] +\\\n",
    "'T' + df_wd2011c46036['hour']+ ':' + df_wd2011c46036['minute']\n",
    "df_wd2011c46036['datetime'] = pd.to_datetime(df_wd2011c46036['datetime'])\n",
    "df_wd2011c46036 = df_wd2011c46036.set_index('datetime')\n",
    "df_wd2011c46036 = df_wd2011c46036[['jday', 'wv_height', 'wnd_dir', 'wnd_spd', 'wnd_gspd', 'atm_prs', 'air_temp']]\n",
    "df_wd20110c46036 = df_wd2011c46036.rename_axis(None)\n",
    "df_wd2011c46036"
   ]
  },
  {
   "cell_type": "markdown",
   "metadata": {},
   "source": [
    "**2010 Tillamook**"
   ]
  },
  {
   "cell_type": "code",
   "execution_count": null,
   "metadata": {},
   "outputs": [],
   "source": [
    "!head ~jovyan/data/covis_data/weather_data_for_plotting_2010_Tillamook.txt"
   ]
  },
  {
   "cell_type": "code",
   "execution_count": null,
   "metadata": {},
   "outputs": [],
   "source": [
    "!rm ~jovyan/data/covis_data/weather_data_for_plotting_2010_Tillamook.csv\n",
    "!echo 'year,month,day,hour,minute,seconds,jday,wv_height,wnd_dir,wnd_spd,wnd_gspd,atm_prs,air_temp' | cat - ~jovyan/data/covis_data/weather_data_for_plotting_2010_Tillamook.txt > ~jovyan/data/covis_data/temp.txt\n",
    "!sed 's/   /,/g' ~jovyan/data/covis_data/temp.txt > ~jovyan/data/covis_data/temp1.txt\n",
    "!sed 's/,,,,/,/g' ~jovyan/data/covis_data/temp1.txt > ~jovyan/data/covis_data/temp2.txt\n",
    "!sed 's/^,//' <~jovyan/data/covis_data/temp2.txt >~jovyan/data/covis_data/weather_data_for_plotting_2010_Tillamook.csv\n",
    "!rm ~jovyan/data/covis_data/temp*\n",
    "!head ~jovyan/data/covis_data/weather_data_for_plotting_2010_Tillamook.csv"
   ]
  },
  {
   "cell_type": "code",
   "execution_count": null,
   "metadata": {},
   "outputs": [],
   "source": [
    "path = '/home/jovyan/data/covis_data/weather_data_for_plotting_2010_Tillamook.csv' \n",
    "df_wd2010Tillamook = pd.read_csv(path, sep=\",\")\n",
    "df_wd2010Tillamook['year']= df_wd2010Tillamook['year'].astype(int).astype(str)\n",
    "df_wd2010Tillamook['month']= df_wd2010Tillamook['month'].astype(int).astype(str).str.pad(width=2, side='left', fillchar='0')\n",
    "df_wd2010Tillamook['day']= df_wd2010Tillamook['day'].astype(int).astype(str).str.pad(width=2, side='left', fillchar='0')\n",
    "df_wd2010Tillamook['hour']= df_wd2010Tillamook['hour'].astype(int).astype(str).str.pad(width=2, side='left', fillchar='0')\n",
    "df_wd2010Tillamook['minute']=df_wd2010Tillamook['minute'].astype(int).astype(str).str.pad(width=2, side='left', fillchar='0')\n",
    "df_wd2010Tillamook['wv_height'] = df_wd2010Tillamook['wv_height'].astype('float64')\n",
    "df_wd2010Tillamook['wnd_dir'] = df_wd2010Tillamook['wnd_dir'].astype('float64')\n",
    "df_wd2010Tillamook['wnd_spd'] = df_wd2010Tillamook['wnd_spd'].astype('float64')\n",
    "df_wd2010Tillamook['wnd_gspd'] = df_wd2010Tillamook['wnd_gspd'].astype('float64')\n",
    "df_wd2010Tillamook['atm_prs'] = df_wd2010Tillamook['atm_prs'].astype('float64')\n",
    "df_wd2010Tillamook['air_temp'] = df_wd2010Tillamook['air_temp'].astype('float64')\n",
    "df_wd2010Tillamook['datetime'] = df_wd2010Tillamook['year'] + df_wd2010Tillamook['month'] + df_wd2010Tillamook['day'] +\\\n",
    "'T' + df_wd2010Tillamook['hour']+ ':' + df_wd2010Tillamook['minute']\n",
    "df_wd2010Tillamook['datetime'] = pd.to_datetime(df_wd2010Tillamook['datetime'])\n",
    "df_wd2010Tillamook = df_wd2010Tillamook.set_index('datetime')\n",
    "df_wd2010Tillamook = df_wd2010Tillamook[['jday', 'wv_height', 'wnd_dir', 'wnd_spd', 'wnd_gspd', 'atm_prs', 'air_temp']]\n",
    "df_wd2010Tillamook = df_wd2010Tillamook.rename_axis(None)\n",
    "df_wd2010Tillamook"
   ]
  },
  {
   "cell_type": "markdown",
   "metadata": {},
   "source": [
    "**2011 Tillamook**"
   ]
  },
  {
   "cell_type": "code",
   "execution_count": null,
   "metadata": {},
   "outputs": [],
   "source": [
    "!head ~jovyan/data/covis_data/weather_data_for_plotting_2011_Tillamook.txt"
   ]
  },
  {
   "cell_type": "code",
   "execution_count": null,
   "metadata": {},
   "outputs": [],
   "source": [
    "!rm ~jovyan/data/covis_data/weather_data_for_plotting_2011_Tillamook.csv\n",
    "!echo 'year,month,day,hour,minute,seconds,jday,wv_height,wnd_dir,wnd_spd,wnd_gspd,atm_prs,air_temp' | cat - ~jovyan/data/covis_data/weather_data_for_plotting_2011_Tillamook.txt > ~jovyan/data/covis_data/temp.txt\n",
    "!sed 's/   /,/g' ~jovyan/data/covis_data/temp.txt > ~jovyan/data/covis_data/temp1.txt\n",
    "!sed 's/,,,,/,/g' ~jovyan/data/covis_data/temp1.txt > ~jovyan/data/covis_data/temp2.txt\n",
    "!sed 's/  /,/g' ~jovyan/data/covis_data/temp2.txt > ~jovyan/data/covis_data/temp3.txt\n",
    "!sed 's/^,//' <~jovyan/data/covis_data/temp3.txt >~jovyan/data/covis_data/weather_data_for_plotting_2011_Tillamook.csv\n",
    "!rm ~jovyan/data/covis_data/temp*\n",
    "!head ~jovyan/data/covis_data/weather_data_for_plotting_2011_Tillamook.csv"
   ]
  },
  {
   "cell_type": "code",
   "execution_count": null,
   "metadata": {},
   "outputs": [],
   "source": [
    "path = '/home/jovyan/data/covis_data/weather_data_for_plotting_2011_Tillamook.csv' \n",
    "df_wd2011Tillamook = pd.read_csv(path, sep=\",\", engine='python')\n",
    "df_wd2011Tillamook= df_wd2011Tillamook.dropna()\n",
    "df_wd2011Tillamook['year']= df_wd2011Tillamook['year'].astype(int).astype(str)\n",
    "df_wd2011Tillamook['month']= df_wd2011Tillamook['month'].astype(int).astype(str).str.pad(width=2, side='left', fillchar='0')\n",
    "df_wd2011Tillamook['day']= df_wd2011Tillamook['day'].astype(int).astype(str).str.pad(width=2, side='left', fillchar='0')\n",
    "df_wd2011Tillamook['hour']= df_wd2011Tillamook['hour'].astype(int).astype(str).str.pad(width=2, side='left', fillchar='0')\n",
    "df_wd2011Tillamook['minute']=df_wd2011Tillamook['minute'].astype(int).astype(str).str.pad(width=2, side='left', fillchar='0')\n",
    "df_wd2011Tillamook['wv_height'] = df_wd2011Tillamook['wv_height'].astype('float64')\n",
    "df_wd2011Tillamook['wnd_dir'] = df_wd2011Tillamook['wnd_dir'].astype('float64')\n",
    "df_wd2011Tillamook['wnd_spd'] = df_wd2011Tillamook['wnd_spd'].astype('float64')\n",
    "df_wd2011Tillamook['wnd_gspd'] = df_wd2011Tillamook['wnd_gspd'].astype('float64')\n",
    "df_wd2011Tillamook['atm_prs'] = df_wd2011Tillamook['atm_prs'].astype('float64')\n",
    "df_wd2011Tillamook['air_temp'] = df_wd2011Tillamook['air_temp'].astype('float64')\n",
    "df_wd2011Tillamook['datetime'] = df_wd2011Tillamook['year'] + df_wd2011Tillamook['month'] + df_wd2011Tillamook['day'] +\\\n",
    "'T' + df_wd2011Tillamook['hour']+ ':' + df_wd2011Tillamook['minute']\n",
    "df_wd2011Tillamook['datetime'] = pd.to_datetime(df_wd2011Tillamook['datetime'])\n",
    "df_wd2011Tillamook = df_wd2011Tillamook.set_index('datetime')\n",
    "df_wd2011Tillamook = df_wd2011Tillamook[['jday', 'wv_height', 'wnd_dir', 'wnd_spd', 'wnd_gspd', 'atm_prs', 'air_temp']]\n",
    "df_wd2011Tillamook = df_wd2011Tillamook.rename_axis(None)\n",
    "df_wd2011Tillamook"
   ]
  },
  {
   "cell_type": "markdown",
   "metadata": {},
   "source": [
    "## Step Two - Plot The Data\n",
    "* What patterns do you see?  \n",
    "* What else can you do with this data?\n",
    "* Do the different data sets correlate?\n",
    "\n",
    "**Plume Bending Data**\n",
    "\n",
    "**Time series of direction and magnitude:**\n",
    "For current data, the magnitude would be a speed.  For the plumes, what we have is an angle from the vertical.  So for the other plots, we will need to assume a distance over which that angle applies.\n",
    "\n",
    "**2010 Direction**"
   ]
  },
  {
   "cell_type": "code",
   "execution_count": null,
   "metadata": {},
   "outputs": [],
   "source": [
    "df_bd2010.hvplot(x = 'index', y= 'direction') "
   ]
  },
  {
   "cell_type": "markdown",
   "metadata": {},
   "source": [
    "**2010 Degrees from Vertical**"
   ]
  },
  {
   "cell_type": "code",
   "execution_count": null,
   "metadata": {},
   "outputs": [],
   "source": [
    "df_bd2010.hvplot(x = 'index', y= 'deg_from_vert', color= 'darkorange')"
   ]
  },
  {
   "cell_type": "markdown",
   "metadata": {},
   "source": [
    "**2010 Direction and Degrees from Vertical**"
   ]
  },
  {
   "cell_type": "code",
   "execution_count": null,
   "metadata": {},
   "outputs": [],
   "source": [
    "df_bd2010.hvplot(x = 'index', y= 'direction')  * df_bd2010.hvplot(x = 'index', y= 'deg_from_vert')"
   ]
  },
  {
   "cell_type": "markdown",
   "metadata": {},
   "source": [
    "**2011 Direction**"
   ]
  },
  {
   "cell_type": "code",
   "execution_count": null,
   "metadata": {},
   "outputs": [],
   "source": [
    "df_bd2011.hvplot(x = 'index', y= 'direction') "
   ]
  },
  {
   "cell_type": "markdown",
   "metadata": {},
   "source": [
    "**2011 Degrees from Vertical**"
   ]
  },
  {
   "cell_type": "code",
   "execution_count": null,
   "metadata": {},
   "outputs": [],
   "source": [
    "df_bd2011.hvplot(x = 'index', y= 'deg_from_vert', color= 'darkorange') "
   ]
  },
  {
   "cell_type": "markdown",
   "metadata": {},
   "source": [
    "**2011 Direction and Degrees from Vertical**"
   ]
  },
  {
   "cell_type": "code",
   "execution_count": null,
   "metadata": {},
   "outputs": [],
   "source": [
    "df_bd2011.hvplot(x = 'index', y= 'direction') * df_bd2011.hvplot(x = 'index', y= 'deg_from_vert') "
   ]
  },
  {
   "cell_type": "markdown",
   "metadata": {},
   "source": [
    "**Time series of East and North components:**  \n",
    "For current information (direction and speed), this is a straightforward conversion using the standard polar coordinate equations with the direction as the angle and the speed as the range.  Note, however, that all our directions are angles from North (+y axis direction) and that python is likely to define angles relative to the +x or -y axis, so you may need to apply a correction before using polar coordinates.  For plumes, you need the 3D polar coordinates (two angles and a range). The direction is the azimuth or angle in the 2D plane while the bending magnitude is the angle from vertical.  You will need to assume a “unit” height.\n",
    "\n",
    "**2010 North**"
   ]
  },
  {
   "cell_type": "code",
   "execution_count": null,
   "metadata": {},
   "outputs": [],
   "source": [
    "df_bd2010.hvplot(x = 'index', y= 'north (x)')"
   ]
  },
  {
   "cell_type": "markdown",
   "metadata": {},
   "source": [
    "**2010 East**"
   ]
  },
  {
   "cell_type": "code",
   "execution_count": null,
   "metadata": {},
   "outputs": [],
   "source": [
    "df_bd2010.hvplot(x = 'index', y= 'east (y)', color= 'darkorange')"
   ]
  },
  {
   "cell_type": "markdown",
   "metadata": {},
   "source": [
    "**2010 North and East**"
   ]
  },
  {
   "cell_type": "code",
   "execution_count": null,
   "metadata": {},
   "outputs": [],
   "source": [
    "df_bd2010.hvplot(x = 'index', y= 'north (x)') * df_bd2010.hvplot(x = 'index', y= 'east (y)')"
   ]
  },
  {
   "cell_type": "markdown",
   "metadata": {},
   "source": [
    "**2011 North**"
   ]
  },
  {
   "cell_type": "code",
   "execution_count": null,
   "metadata": {},
   "outputs": [],
   "source": [
    "df_bd2011.hvplot(x = 'index', y= 'north (x)')"
   ]
  },
  {
   "cell_type": "markdown",
   "metadata": {},
   "source": [
    "**2011 East**"
   ]
  },
  {
   "cell_type": "code",
   "execution_count": null,
   "metadata": {},
   "outputs": [],
   "source": [
    "df_bd2011.hvplot(x = 'index', y= 'east (y)', color= 'darkorange')"
   ]
  },
  {
   "cell_type": "markdown",
   "metadata": {},
   "source": [
    "**2011 North and East**"
   ]
  },
  {
   "cell_type": "code",
   "execution_count": null,
   "metadata": {},
   "outputs": [],
   "source": [
    "df_bd2011.hvplot(x = 'index', y= 'north (x)') * df_bd2011.hvplot(x = 'index', y= 'east (y)')"
   ]
  },
  {
   "cell_type": "markdown",
   "metadata": {},
   "source": [
    "**Centerline Vertical Flow Rate**"
   ]
  },
  {
   "cell_type": "code",
   "execution_count": null,
   "metadata": {},
   "outputs": [],
   "source": [
    "df_cvfr2010.hvplot(x = 'index', y= 'flowrate')"
   ]
  },
  {
   "cell_type": "markdown",
   "metadata": {},
   "source": [
    "**Ras Data**"
   ]
  },
  {
   "cell_type": "code",
   "execution_count": null,
   "metadata": {},
   "outputs": [],
   "source": [
    "df_ras2010.hvplot(x = 'index', y= 'temp')"
   ]
  },
  {
   "cell_type": "markdown",
   "metadata": {},
   "source": [
    "**Weather Data**\n",
    "\n",
    "**Weather Data 2010 C46036:**\n",
    "\n",
    "1. Wave Height"
   ]
  },
  {
   "cell_type": "code",
   "execution_count": null,
   "metadata": {},
   "outputs": [],
   "source": [
    "df_wd2010c46036.hvplot(x = 'index', y= ['wv_height'])"
   ]
  },
  {
   "cell_type": "markdown",
   "metadata": {},
   "source": [
    "2. Wind Direction"
   ]
  },
  {
   "cell_type": "code",
   "execution_count": null,
   "metadata": {},
   "outputs": [],
   "source": [
    "df_wd2010c46036.hvplot(x = 'index', y= ['wnd_dir'])"
   ]
  },
  {
   "cell_type": "markdown",
   "metadata": {},
   "source": [
    "3. Wind Speed"
   ]
  },
  {
   "cell_type": "code",
   "execution_count": null,
   "metadata": {},
   "outputs": [],
   "source": [
    "df_wd2010c46036.hvplot(x = 'index', y= ['wnd_spd'])"
   ]
  },
  {
   "cell_type": "markdown",
   "metadata": {},
   "source": [
    "4. Wind Gust Speed"
   ]
  },
  {
   "cell_type": "code",
   "execution_count": null,
   "metadata": {},
   "outputs": [],
   "source": [
    "df_wd2010c46036.hvplot(x = 'index', y= ['wnd_gspd'])"
   ]
  },
  {
   "cell_type": "markdown",
   "metadata": {},
   "source": [
    "5. Atmospheric Pressure"
   ]
  },
  {
   "cell_type": "code",
   "execution_count": null,
   "metadata": {},
   "outputs": [],
   "source": [
    "df_wd2010c46036.hvplot(x = 'index', y= ['atm_prs'])"
   ]
  },
  {
   "cell_type": "markdown",
   "metadata": {},
   "source": [
    "6. Air Temperature"
   ]
  },
  {
   "cell_type": "code",
   "execution_count": null,
   "metadata": {},
   "outputs": [],
   "source": [
    "df_wd2010c46036.hvplot(x = 'index', y= ['air_temp'])"
   ]
  },
  {
   "cell_type": "markdown",
   "metadata": {},
   "source": [
    "7. All Variables"
   ]
  },
  {
   "cell_type": "code",
   "execution_count": null,
   "metadata": {},
   "outputs": [],
   "source": [
    "df_wd2010c46036.hvplot(x='index', y=['wv_height',  'wnd_dir', 'wnd_spd', 'wnd_gspd', 'atm_prs', 'air_temp'], \n",
    "                width=350, height=300, subplots=True, shared_axes=False, title= 'wd2010c46036').cols(2)"
   ]
  },
  {
   "cell_type": "markdown",
   "metadata": {},
   "source": [
    "**Weather Data 2011 C46036:**\n",
    "\n",
    "1. Wave Height"
   ]
  },
  {
   "cell_type": "code",
   "execution_count": null,
   "metadata": {},
   "outputs": [],
   "source": [
    "df_wd2011c46036.hvplot(x = 'datetime', y= ['wv_height'])"
   ]
  },
  {
   "cell_type": "markdown",
   "metadata": {},
   "source": [
    "2. Wind Direction"
   ]
  },
  {
   "cell_type": "code",
   "execution_count": null,
   "metadata": {},
   "outputs": [],
   "source": [
    "df_wd2011c46036.hvplot(x = 'datetime', y= ['wnd_dir'])"
   ]
  },
  {
   "cell_type": "markdown",
   "metadata": {},
   "source": [
    "3. Wind Speed"
   ]
  },
  {
   "cell_type": "code",
   "execution_count": null,
   "metadata": {},
   "outputs": [],
   "source": [
    "df_wd2011c46036.hvplot(x = 'datetime', y= ['wnd_spd'])"
   ]
  },
  {
   "cell_type": "markdown",
   "metadata": {},
   "source": [
    "4. Wind Gust Speed"
   ]
  },
  {
   "cell_type": "code",
   "execution_count": null,
   "metadata": {},
   "outputs": [],
   "source": [
    "df_wd2011c46036.hvplot(x = 'datetime', y= ['wnd_gspd'])"
   ]
  },
  {
   "cell_type": "markdown",
   "metadata": {},
   "source": [
    "5. Atmospheric Pressure"
   ]
  },
  {
   "cell_type": "code",
   "execution_count": null,
   "metadata": {},
   "outputs": [],
   "source": [
    "df_wd2011c46036.hvplot(x = 'datetime', y= ['atm_prs'])"
   ]
  },
  {
   "cell_type": "markdown",
   "metadata": {},
   "source": [
    "6. Air Temperature"
   ]
  },
  {
   "cell_type": "code",
   "execution_count": null,
   "metadata": {},
   "outputs": [],
   "source": [
    "df_wd2011c46036.hvplot(x = 'datetime', y= ['air_temp'])"
   ]
  },
  {
   "cell_type": "markdown",
   "metadata": {},
   "source": [
    "7. All Variables"
   ]
  },
  {
   "cell_type": "code",
   "execution_count": null,
   "metadata": {},
   "outputs": [],
   "source": [
    "df_wd2011c46036.hvplot(x='datetime', y=['wv_height',  'wnd_dir', 'wnd_spd', 'wnd_gspd', 'atm_prs', 'air_temp'], \n",
    "                width=350, height=300, subplots=True, shared_axes=False, title= 'wd2011c46036').cols(2)"
   ]
  },
  {
   "cell_type": "markdown",
   "metadata": {},
   "source": [
    "**Weather Data 2010 Tillamook:**\n",
    "1. Wind Direction"
   ]
  },
  {
   "cell_type": "code",
   "execution_count": null,
   "metadata": {},
   "outputs": [],
   "source": [
    "df_wd2010Tillamook.hvplot(x = 'index' , y= ['wnd_dir'])"
   ]
  },
  {
   "cell_type": "markdown",
   "metadata": {},
   "source": [
    "2. Wind Speed"
   ]
  },
  {
   "cell_type": "code",
   "execution_count": null,
   "metadata": {},
   "outputs": [],
   "source": [
    "df_wd2010Tillamook.hvplot(x = 'index' , y= ['wnd_spd'])"
   ]
  },
  {
   "cell_type": "markdown",
   "metadata": {},
   "source": [
    "3. Wind Gust Speed"
   ]
  },
  {
   "cell_type": "code",
   "execution_count": null,
   "metadata": {},
   "outputs": [],
   "source": [
    "df_wd2010Tillamook.hvplot(x = 'index', y= ['wnd_gspd'])"
   ]
  },
  {
   "cell_type": "markdown",
   "metadata": {},
   "source": [
    "4. Air Temperature"
   ]
  },
  {
   "cell_type": "code",
   "execution_count": null,
   "metadata": {},
   "outputs": [],
   "source": [
    "df_wd2010Tillamook.hvplot(x = 'index', y= ['air_temp'])"
   ]
  },
  {
   "cell_type": "markdown",
   "metadata": {},
   "source": [
    "5. All Variables"
   ]
  },
  {
   "cell_type": "code",
   "execution_count": null,
   "metadata": {},
   "outputs": [],
   "source": [
    "df_wd2010Tillamook.hvplot(x='index', y=['wv_height',  'wnd_dir', 'wnd_spd', 'wnd_gspd', 'atm_prs', 'air_temp'], \n",
    "                width=350, height=300, subplots=True, shared_axes=False, title= 'wd2010Tillamook').cols(2)"
   ]
  },
  {
   "cell_type": "markdown",
   "metadata": {},
   "source": [
    "**Weather Data 2011 Tillamook:**\n",
    "\n",
    "1. Wind Direction"
   ]
  },
  {
   "cell_type": "code",
   "execution_count": null,
   "metadata": {},
   "outputs": [],
   "source": [
    "df_wd2011Tillamook.hvplot(x = 'index', y= ['wnd_dir'])"
   ]
  },
  {
   "cell_type": "markdown",
   "metadata": {},
   "source": [
    "2. Wind Speed"
   ]
  },
  {
   "cell_type": "code",
   "execution_count": null,
   "metadata": {},
   "outputs": [],
   "source": [
    "df_wd2011Tillamook.hvplot(x = 'index', y= ['wnd_spd'])"
   ]
  },
  {
   "cell_type": "markdown",
   "metadata": {},
   "source": [
    "3. Wind Gust Speed"
   ]
  },
  {
   "cell_type": "code",
   "execution_count": null,
   "metadata": {},
   "outputs": [],
   "source": [
    "df_wd2011Tillamook.hvplot(x = 'index', y= ['wnd_gspd'])"
   ]
  },
  {
   "cell_type": "markdown",
   "metadata": {},
   "source": [
    "4. Air Temperature"
   ]
  },
  {
   "cell_type": "code",
   "execution_count": null,
   "metadata": {},
   "outputs": [],
   "source": [
    "df_wd2011Tillamook.hvplot(x = 'index', y= ['air_temp'])"
   ]
  },
  {
   "cell_type": "markdown",
   "metadata": {},
   "source": [
    "5. All Variables"
   ]
  },
  {
   "cell_type": "code",
   "execution_count": null,
   "metadata": {},
   "outputs": [],
   "source": [
    "df_wd2011Tillamook.hvplot(x='index', y=['wv_height',  'wnd_dir', 'wnd_spd', 'wnd_gspd', 'atm_prs', 'air_temp'], \n",
    "                width=350, height=300, subplots=True, shared_axes=False, title= 'wd2011T').cols(2)"
   ]
  },
  {
   "cell_type": "markdown",
   "metadata": {},
   "source": [
    "## Step Three - Statistical Tests\n",
    "\n",
    "The goal here is to use statistical tests to identify or confirm correlations and common patterns.  Correlation tests include the correlation coefficient (sometimes known as R2) and cross-correlation. Correlation coefficients test if variables shift value in sync.  Cross-correlation compares pairs of time series and tests for consistent long-term patterns.  We will also look for periodicities.\n",
    "\n",
    "Issues:\n",
    "* Both correlation coefficient estimation and cross-correlation computation assume that the values in the different datasets correspond … here it would be in time.  So we will need to do some interpolation to get our time series onto similar sampling times.\n",
    "* Most estimators of periodicity assume regular or uniform spacing of the data. There are, however, methods for working with data with gaps.\n",
    "* Periodicity estimates also change with the length of the data set.  So we will need to think about how to best compare the 2010 and 2011 data sets given the short 2010 record.\n",
    "\n",
    "1. Extract timing information for the various data sets, especially start time, stop time, and time intervals.  We need both the typical (not necessarily average) time step as well as some information on the number and size of data gaps.  We will use this to determine how to proceed with the correlation steps.  In particular, it will be useful to know which data are sampled at similar or faster rates than the plume bending data.\n"
   ]
  },
  {
   "cell_type": "markdown",
   "metadata": {},
   "source": [
    "*df_times shows the start time, end time, and typical time interval for each data set. All values were gathered from just looking through the data. As a result, the time intervals for the bend data I am unsure about due to the data sets having a high variability regarding the times data was taken.* ***I am unsure on whether there's a way to get them through Python.***"
   ]
  },
  {
   "cell_type": "code",
   "execution_count": null,
   "metadata": {},
   "outputs": [],
   "source": [
    "times = {'Bending Data 2010':['2010-09-29 15:30:17','2010-10-25 00:08:03','unsure, highly variable'],\n",
    "        'Bending Data 2011':['2011-09-27 00:00:38','2011-12-30 21:00:40','3 hours but highly variable'],\n",
    "        'Centerline Vertical Flow Rate':['2010-09-30 20:31:00','2010-10-25 21:25:00','6 hours'],\n",
    "        'Ras Data':['2010-10-04 20:45:00','2010-10-27 08:15:00','45-60 minutes'],\n",
    "        'Weather Data 2010 C':['2010-09-30 23:43:00','2010-10-31 23:43:00','hourly'],\n",
    "        'Weather Data 2011 C':['2011-09-25 23:43:00','2011-12-31 23:43:00','hourly'],\n",
    "        'Weather Data 2010 T':['2010-09-29 00:07:00','2010-11-01 23:51:00','20 minutes'],\n",
    "        'Weather Data 2011 T':['2010-10-01 00:10:00','2013-12-01 23:55:00','20 minutes']}\n",
    "df_times = pd.DataFrame(times,index = ['start time','end time','time interval'])\n",
    "df_times"
   ]
  },
  {
   "cell_type": "markdown",
   "metadata": {},
   "source": [
    "*df_nanvalues shows the number of NaN values for each column in the weather data. The other data sets were excluded due to there being no NaN values (you can also exclude the C46036 weather data for the same reason).* ***I am currently unsure how to find the size of each data gap.***"
   ]
  },
  {
   "cell_type": "code",
   "execution_count": null,
   "metadata": {},
   "outputs": [],
   "source": [
    "nanvalues = {'Weather Data 2010 C':[df_wd2010c46036['wv_height'].isna().sum(),df_wd2010c46036['wnd_dir'].isna().sum(),df_wd2010c46036['wnd_spd'].isna().sum(),df_wd2010c46036['wnd_gspd'].isna().sum(),df_wd2010c46036['atm_prs'].isna().sum(),df_wd2010c46036['air_temp'].isna().sum()],\n",
    "        'Weather Data 2011 C':[df_wd2011c46036['wv_height'].isna().sum(),df_wd2011c46036['wnd_dir'].isna().sum(),df_wd2011c46036['wnd_spd'].isna().sum(),df_wd2011c46036['wnd_gspd'].isna().sum(),df_wd2011c46036['atm_prs'].isna().sum(),df_wd2011c46036['air_temp'].isna().sum()],\n",
    "        'Weather Data 2010 T':[df_wd2010Tillamook['wv_height'].isna().sum(),df_wd2010Tillamook['wnd_dir'].isna().sum(),df_wd2010Tillamook['wnd_spd'].isna().sum(),df_wd2010Tillamook['wnd_gspd'].isna().sum(),df_wd2010Tillamook['atm_prs'].isna().sum(),df_wd2010Tillamook['air_temp'].isna().sum()],\n",
    "        'Weather Data 2011 T':[df_wd2011Tillamook['wv_height'].isna().sum(),df_wd2011Tillamook['wnd_dir'].isna().sum(),df_wd2011Tillamook['wnd_spd'].isna().sum(),df_wd2011Tillamook['wnd_gspd'].isna().sum(),df_wd2011Tillamook['atm_prs'].isna().sum(),df_wd2011Tillamook['air_temp'].isna().sum()]}\n",
    "df_nanvalues = pd.DataFrame(nanvalues,index = ['nan values wv_height','nan values wnd_dir','nan values wnd_spd','nan values wnd_gspd','nan values atm_prs','nan values air_temp'])\n",
    "df_nanvalues"
   ]
  },
  {
   "cell_type": "markdown",
   "metadata": {},
   "source": [
    "2. Estimate some basic statistics for key data sets: means, standard deviations, obvious trends.  This will be useful in defining what extreme bending means if nothing else."
   ]
  },
  {
   "cell_type": "markdown",
   "metadata": {},
   "source": [
    "*df_bdstats and df_wdstats show the means and standard deviations for all columns of data for the bending data and weather data respectively. The Centerline Vertical Flow Rate and Ras Data were excluded for the time being*"
   ]
  },
  {
   "cell_type": "markdown",
   "metadata": {},
   "source": [
    "Bending Data"
   ]
  },
  {
   "cell_type": "code",
   "execution_count": null,
   "metadata": {},
   "outputs": [],
   "source": [
    "bdstats = {'Bending Data 2010':[df_bd2010['direction'].mean(),df_bd2010['deg_from_vert'].mean(),df_bd2010['direction'].std(),df_bd2010['deg_from_vert'].std()],\n",
    "        'Bending Data 2011':[df_bd2011['direction'].mean(),df_bd2011['deg_from_vert'].mean(),df_bd2011['direction'].std(),df_bd2011['deg_from_vert'].std()]}\n",
    "df_bdstats = pd.DataFrame(bdstats,index = ['mean direction','mean degrees from vertical','direction standard deviation','degrees from vertical standard deviation'])\n",
    "df_bdstats"
   ]
  },
  {
   "cell_type": "markdown",
   "metadata": {},
   "source": [
    "Weather Data"
   ]
  },
  {
   "cell_type": "code",
   "execution_count": null,
   "metadata": {},
   "outputs": [],
   "source": [
    "wdstats = {'Weather Data 2010 C':[df_wd2010c46036['wv_height'].mean(),df_wd2010c46036['wnd_dir'].mean(),df_wd2010c46036['wnd_spd'].mean(),df_wd2010c46036['wnd_gspd'].mean(),df_wd2010c46036['atm_prs'].mean(),df_wd2010c46036['air_temp'].mean(),\n",
    "                                  df_wd2010c46036['wv_height'].std(),df_wd2010c46036['wnd_dir'].std(),df_wd2010c46036['wnd_spd'].std(),df_wd2010c46036['wnd_gspd'].std(),df_wd2010c46036['atm_prs'].std(),df_wd2010c46036['air_temp'].std()],\n",
    "           'Weather Data 2011 C':[df_wd2011c46036['wv_height'].mean(),df_wd2011c46036['wnd_dir'].mean(),df_wd2011c46036['wnd_spd'].mean(),df_wd2011c46036['wnd_gspd'].mean(),df_wd2011c46036['atm_prs'].mean(),df_wd2011c46036['air_temp'].mean(),\n",
    "                                  df_wd2011c46036['wv_height'].std(),df_wd2011c46036['wnd_dir'].std(),df_wd2011c46036['wnd_spd'].std(),df_wd2011c46036['wnd_gspd'].std(),df_wd2011c46036['atm_prs'].std(),df_wd2011c46036['air_temp'].std()],\n",
    "           'Weather Data 2010 T':[np.nan,df_wd2010Tillamook['wnd_dir'].mean(),df_wd2010Tillamook['wnd_spd'].mean(),df_wd2010Tillamook['wnd_gspd'].mean(),np.nan,df_wd2010Tillamook['air_temp'].mean(),\n",
    "                                  np.nan,df_wd2010Tillamook['wnd_dir'].std(),df_wd2010Tillamook['wnd_spd'].std(),df_wd2010Tillamook['wnd_gspd'].std(),np.nan,df_wd2010Tillamook['air_temp'].std()],\n",
    "           'Weather Data 2011 T':[df_wd2011Tillamook['wv_height'].mean(),df_wd2011Tillamook['wnd_dir'].mean(),df_wd2011Tillamook['wnd_spd'].mean(),df_wd2011Tillamook['wnd_gspd'].mean(),df_wd2011Tillamook['atm_prs'].mean(),df_wd2011Tillamook['air_temp'].mean(),\n",
    "                                  df_wd2011Tillamook['wv_height'].std(),df_wd2011Tillamook['wnd_dir'].std(),df_wd2011Tillamook['wnd_spd'].std(),df_wd2011Tillamook['wnd_gspd'].std(),df_wd2011Tillamook['atm_prs'].std(),df_wd2011Tillamook['air_temp'].std()]}\n",
    "df_wdstats = pd.DataFrame(wdstats,index = ['mean wave height','mean wind direction','mean wind speed','mean wind gust speed','mean atmospheric pressue','mean air temperature', 'wave height standard deviation','wind direction standard deviation','wind speed standard deviation','wind gust speed standard deviation','atmospheric pressure standard deviation','air temperature standard deviation'])\n",
    "df_wdstats"
   ]
  },
  {
   "cell_type": "markdown",
   "metadata": {},
   "source": [
    "3. Identify which data sets are key. Which data sets are central to the goals or questions?  Which data sets seem to have common features, patterns, or trends?  This may require plotting data together in ways or combinations that have not yet seemed obvious.\n",
    "\n",
    "4. Interpolate data onto a common time sampling scheme.  All the COVIS data should be at similar but not necessarily identical times: the vertical velocity data will be offset about 20-40 minutes later than the bending data and may have more gaps.  I don't remember about the weather data and each buoy may be different.  I forget what else there is that I gave you.  I think there is some relevant data that we have not yet pulled from its repository."
   ]
  },
  {
   "cell_type": "markdown",
   "metadata": {},
   "source": [
    "*As a test, result is a dataframe that combines the data in df_bd2010 with df_wd2010c46036 into a single dataframe. This also combines the datetimes from each data set and a graph was made to plot both data sets with this single index.* ***The main issue at the moment is that neither of the seperate dataframes have values that match on any datetime, so, for example, where df_bd2010 has data, df_wd2010c46036 shows a NaN values and I am unsure how to make it so you can use the combined dataframe to find a correlation coefficient (a quick test done previously resulted in the correlation coefficient = NaN)***"
   ]
  },
  {
   "cell_type": "code",
   "execution_count": null,
   "metadata": {},
   "outputs": [],
   "source": [
    "result = df_bd2010.join(df_wd2010c46036, how='outer')\n",
    "result"
   ]
  },
  {
   "cell_type": "code",
   "execution_count": null,
   "metadata": {},
   "outputs": [],
   "source": [
    "fig = plt.figure(figsize=(20, 10))\n",
    "ax1 = fig.add_subplot(111)\n",
    "ax1.plot(result.index, result['direction'])\n",
    "ax1.set_ylabel('direction')\n",
    "\n",
    "ax2 = ax1.twinx()\n",
    "ax2.plot(result.index, result['wv_height'], 'r-')\n",
    "ax2.set_ylabel('wv_height', color='r')\n",
    "for tl in ax2.get_yticklabels():\n",
    "    tl.set_color('r')"
   ]
  },
  {
   "cell_type": "markdown",
   "metadata": {},
   "source": [
    "5. So you might think a little about what information you'd like to have but don't.\n",
    "\n",
    "6. Once interpolated to a common sampling, you can estimate the correlation coefficient.  This expects a linear pattern so it might or might not pick up on all relationships that exist.  Also, some of the directions in the bending data are not correct.  So I need to get you an updated data file soon. But you can figure out how  to do this with the existing data while I figure out the problems with the old data.\n",
    "\n",
    "7. Cross-correlation is the next step after that.\n",
    "\n",
    "8. Then we need to figure out about periodicities.  The Lomb-Scargle method is the best one for this data.  I think it exists in python but we will need to track that information down.\n",
    "\n",
    "9. Another things to think about is the definition of a weather event.  What is a storm? How will it appear in the data? What does that mean about what we expect to find in the bending data."
   ]
  }
 ],
 "metadata": {
  "kernelspec": {
   "display_name": "Python 3",
   "language": "python",
   "name": "python3"
  },
  "language_info": {
   "codemirror_mode": {
    "name": "ipython",
    "version": 3
   },
   "file_extension": ".py",
   "mimetype": "text/x-python",
   "name": "python",
   "nbconvert_exporter": "python",
   "pygments_lexer": "ipython3",
   "version": "3.7.3"
  }
 },
 "nbformat": 4,
 "nbformat_minor": 4
}
