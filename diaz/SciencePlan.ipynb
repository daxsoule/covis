{
 "cells": [
  {
   "cell_type": "code",
   "execution_count": null,
   "metadata": {},
   "outputs": [],
   "source": [
    "import numpy as np\n",
    "import matplotlib.pyplot as plt\n",
    "%matplotlib inline\n",
    "from mpl_toolkits import mplot3d\n",
    "import pandas as pd\n",
    "from datetime import datetime"
   ]
  },
  {
   "cell_type": "markdown",
   "metadata": {},
   "source": [
    "Data Collection"
   ]
  },
  {
   "cell_type": "code",
   "execution_count": null,
   "metadata": {},
   "outputs": [],
   "source": [
    "df_Bend2010 = pd.read_csv('BendData2010.txt', sep=\"  \", header=None, engine='python')\n",
    "df_Bend2010.columns = [\"Direction\", \"Angle from Vertical\", \"Julian Day\"]\n",
    "df_Bend2010"
   ]
  },
  {
   "cell_type": "code",
   "execution_count": null,
   "metadata": {},
   "outputs": [],
   "source": [
    "df_Bend2011 = pd.read_csv('BendData2011.txt', sep=\"  \", header=None, engine='python')\n",
    "df_Bend2011.columns = [\"Direction\", \"Angle from Vertical\", \"Julian Day\"]\n",
    "df_Bend2011"
   ]
  },
  {
   "cell_type": "code",
   "execution_count": null,
   "metadata": {},
   "outputs": [],
   "source": [
    "df_CVFR2010 = pd.read_csv('CenterlineVerticalFlowRate2010.csv', sep=\",\", header=None, engine='python', usecols = [6,7,8])\n",
    "df_CVFR2010.columns = [\"Date\", \"Time\", \"Flow Rate\"]\n",
    "df_CVFR2010['Date Time'] = df_CVFR2010['Date'] + ' ' + df_CVFR2010['Time']\n",
    "df_CVFR2010[\"Date Time\"] = pd.to_datetime(df_CVFR2010[\"Date Time\"])\n",
    "df_CVFR2010 = df_CVFR2010.drop([\"Date\", \"Time\"], axis=1)\n",
    "df_CVFR2010 = df_CVFR2010.set_index('Date Time')\n",
    "df_CVFR2010"
   ]
  },
  {
   "cell_type": "code",
   "execution_count": null,
   "metadata": {},
   "outputs": [],
   "source": [
    "df_RAS2010 = pd.read_csv('RasData2010.csv', sep=\",\", header=None, engine='python', usecols = [6,7,8])\n",
    "df_RAS2010.columns = [\"Date\", \"Time\", \"Temperature\"]\n",
    "df_RAS2010['Date Time'] = df_RAS2010['Date'] + ' ' + df_RAS2010['Time']\n",
    "df_RAS2010[\"Date Time\"] = pd.to_datetime(df_RAS2010[\"Date Time\"])\n",
    "df_RAS2010 = df_RAS2010.drop([\"Date\", \"Time\"], axis=1)\n",
    "df_RAS2010 = df_RAS2010.set_index('Date Time')\n",
    "df_RAS2010"
   ]
  },
  {
   "cell_type": "code",
   "execution_count": null,
   "metadata": {},
   "outputs": [],
   "source": [
    "df_WD2010C = pd.read_csv('WeatherC2010.csv', sep=\",\", header=None, engine='python', usecols = [6,7,8,9,10,11,12,13,14,15])\n",
    "df_WD2010C.columns = [\"Date\", \"Time\", \"Julian Day\", \"Wave Height\", \"Wind Direction\", \"Wind Speed\", \"Wind Gust Speed\", \"Atmospheric Pressure\",\"Air Temperature\"]\n",
    "df_WD2010C['Date Time'] = df_WD2010C['Date'] + ' ' + df_WD2010C['Time']\n",
    "df_WD2010C[\"Date Time\"] = pd.to_datetime(df_WD2010C[\"Date Time\"])\n",
    "df_WD2010C = df_WD2010C.drop([\"Date\", \"Time\"], axis=1)\n",
    "df_WD2010C = df_WD2010C.set_index('Date Time')\n",
    "df_WD2010C"
   ]
  },
  {
   "cell_type": "code",
   "execution_count": null,
   "metadata": {},
   "outputs": [],
   "source": [
    "df_WD2011C = pd.read_csv('WeatherC2011.csv', sep=\",\", header=None, engine='python', usecols = [6,7,8,9,10,11,12,13,14,15])\n",
    "df_WD2011C.columns = [\"Date\", \"Time\", \"Julian Day\", \"Wave Height\", \"Wind Direction\", \"Wind Speed\", \"Wind Gust Speed\", \"Atmospheric Pressure\",\"Air Temperature\"]\n",
    "df_WD2011C['Date Time'] = df_WD2011C['Date'] + ' ' + df_WD2011C['Time']\n",
    "df_WD2011C[\"Date Time\"] = pd.to_datetime(df_WD2011C[\"Date Time\"])\n",
    "df_WD2011C = df_WD2011C.drop([\"Date\", \"Time\"], axis=1)\n",
    "df_WD2011C = df_WD2011C.set_index('Date Time')\n",
    "df_WD2011C"
   ]
  },
  {
   "cell_type": "code",
   "execution_count": null,
   "metadata": {},
   "outputs": [],
   "source": [
    "df_WD2010T = pd.read_csv('WeatherT2010.csv', sep=\",\", header=None, engine='python', usecols = [6,7,8,9,10,11,12,13,14,15])\n",
    "df_WD2010T.columns = [\"Date\", \"Time\", \"Julian Day\", \"Wave Height\", \"Wind Direction\", \"Wind Speed\", \"Wind Gust Speed\", \"Atmospheric Pressure\",\"Air Temperature\"]\n",
    "df_WD2010T['Date Time'] = df_WD2010T['Date'] + ' ' + df_WD2010T['Time']\n",
    "df_WD2010T[\"Date Time\"] = pd.to_datetime(df_WD2010T[\"Date Time\"])\n",
    "df_WD2010T = df_WD2010T.drop([\"Date\", \"Time\"], axis=1)\n",
    "df_WD2010T = df_WD2010T.set_index('Date Time')\n",
    "df_WD2010T"
   ]
  },
  {
   "cell_type": "code",
   "execution_count": null,
   "metadata": {},
   "outputs": [],
   "source": [
    "df_WD2011T = pd.read_csv('WeatherT2011.csv', sep=\",\", header=None, engine='python', usecols = [6,7,8,9,10,11,12,13,14,15])\n",
    "df_WD2011T.columns = [\"Date\", \"Time\", \"Julian Day\", \"Wave Height\", \"Wind Direction\", \"Wind Speed\", \"Wind Gust Speed\", \"Atmospheric Pressure\",\"Air Temperature\"]\n",
    "df_WD2011T['Date Time'] = df_WD2011T['Date'] + ' ' + df_WD2011T['Time']\n",
    "df_WD2011T[\"Date Time\"] = pd.to_datetime(df_WD2011T[\"Date Time\"])\n",
    "df_WD2011T = df_WD2011T.drop([\"Date\", \"Time\"], axis=1)\n",
    "df_WD2011T = df_WD2011T.set_index('Date Time')\n",
    "df_WD2011T"
   ]
  },
  {
   "cell_type": "markdown",
   "metadata": {},
   "source": [
    "Plots"
   ]
  },
  {
   "cell_type": "code",
   "execution_count": null,
   "metadata": {},
   "outputs": [],
   "source": [
    "DirPlot2010 = df_Bend2010.plot(kind='line',x='Julian Day',y=\"Direction\",color='blue')\n",
    "DirPlot2010.set_title(\"Direction of Bending\")\n",
    "DirPlot2010.set_xlabel('Julian Day')\n",
    "DirPlot2010.set_ylabel('Direction (Degrees from North)')"
   ]
  },
  {
   "cell_type": "code",
   "execution_count": null,
   "metadata": {},
   "outputs": [],
   "source": [
    "AFVPlot2010 = df_Bend2010.plot(kind='line',x='Julian Day',y=\"Angle from Vertical\",color='red')\n",
    "AFVPlot2010.set_title(\"Bending Angle from Vertical\")\n",
    "AFVPlot2010.set_xlabel('Julian Day')\n",
    "AFVPlot2010.set_ylabel('Angle from Vertical (Degrees)')"
   ]
  },
  {
   "cell_type": "code",
   "execution_count": null,
   "metadata": {},
   "outputs": [],
   "source": [
    "DirAFVPlot2010 = df_Bend2010.plot(kind='line',x='Julian Day',y=[\"Direction\", \"Angle from Vertical\"],color=['blue','green'])\n",
    "DirAFVPlot2010.set_title(\"Plume Bending Data 2010\")\n",
    "DirAFVPlot2010.set_xlabel('Julian Day')\n",
    "DirAFVPlot2010.set_ylabel('Degrees')"
   ]
  },
  {
   "cell_type": "code",
   "execution_count": null,
   "metadata": {},
   "outputs": [],
   "source": [
    "CVFRPlot = df_CVFR2010.plot(kind='line',color='black')\n",
    "CVFRPlot.set_title(\"Centerline Vertical Flow Rate\")\n",
    "CVFRPlot.set_xlabel('Date Time')\n",
    "CVFRPlot.set_ylabel('Flow Rate (m/s)')"
   ]
  },
  {
   "cell_type": "code",
   "execution_count": null,
   "metadata": {},
   "outputs": [],
   "source": [
    "RASPlot = df_RAS2010.plot(kind='line',color='black')\n",
    "RASPlot.set_title(\"RAS Temperature\")\n",
    "RASPlot.set_xlabel('Date Time')\n",
    "RASPlot.set_ylabel('Temperature (°C)')"
   ]
  },
  {
   "cell_type": "code",
   "execution_count": null,
   "metadata": {},
   "outputs": [],
   "source": [
    "WH2010CPlot = df_WD2010C.plot(kind='line',color='black', y='Wave Height')\n",
    "WH2010CPlot.set_title(\"Wave Height 2010 at C46036\")\n",
    "WH2010CPlot.set_xlabel('Date Time')\n",
    "WH2010CPlot.set_ylabel('Wave Height')"
   ]
  },
  {
   "cell_type": "code",
   "execution_count": null,
   "metadata": {},
   "outputs": [],
   "source": [
    "WDir2010CPlot = df_WD2010C.plot(kind='line',color='black', y='Wind Direction')\n",
    "WDir2010CPlot.set_title(\"Wind Direction 2010 at C46036\")\n",
    "WDir2010CPlot.set_xlabel('Date Time')\n",
    "WDir2010CPlot.set_ylabel('Wind Direction')"
   ]
  },
  {
   "cell_type": "code",
   "execution_count": null,
   "metadata": {},
   "outputs": [],
   "source": [
    "WS2010CPlot = df_WD2010C.plot(kind='line',color='black', y='Wind Speed')\n",
    "WS2010CPlot.set_title(\"Wind Speed 2010 at C46036\")\n",
    "WS2010CPlot.set_xlabel('Date Time')\n",
    "WS2010CPlot.set_ylabel('Wind Speed (m/s)')"
   ]
  },
  {
   "cell_type": "code",
   "execution_count": null,
   "metadata": {},
   "outputs": [],
   "source": [
    "WGS2010CPlot = df_WD2010C.plot(kind='line',color='black', y='Wind Gust Speed')\n",
    "WGS2010CPlot.set_title(\"Wind Gust Speed 2010 at C46036\")\n",
    "WGS2010CPlot.set_xlabel('Date Time')\n",
    "WGS2010CPlot.set_ylabel('Wind Gust Speed (m/s)')"
   ]
  },
  {
   "cell_type": "code",
   "execution_count": null,
   "metadata": {},
   "outputs": [],
   "source": [
    "AP2010CPlot = df_WD2010C.plot(kind='line',color='black', y='Atmospheric Pressure')\n",
    "AP2010CPlot.set_title(\"Atmospheric Pressure 2010 at C46036\")\n",
    "AP2010CPlot.set_xlabel('Date Time')\n",
    "AP2010CPlot.set_ylabel('Atmospheric Pressure')"
   ]
  },
  {
   "cell_type": "code",
   "execution_count": null,
   "metadata": {},
   "outputs": [],
   "source": [
    "AT2010CPlot = df_WD2010C.plot(kind='line',color='black', y='Air Temperature')\n",
    "AT2010CPlot.set_title(\"Air Temperature 2010 at C46036\")\n",
    "AT2010CPlot.set_xlabel('Date Time')\n",
    "AT2010CPlot.set_ylabel('Air Temperature')"
   ]
  },
  {
   "cell_type": "code",
   "execution_count": null,
   "metadata": {},
   "outputs": [],
   "source": [
    "WH2011CPlot = df_WD2011C.plot(kind='line',color='black', y='Wave Height')\n",
    "WH2011CPlot.set_title(\"Wave Height 2011 at C46036\")\n",
    "WH2011CPlot.set_xlabel('Date Time')\n",
    "WH2011CPlot.set_ylabel('Wave Height')"
   ]
  },
  {
   "cell_type": "code",
   "execution_count": null,
   "metadata": {},
   "outputs": [],
   "source": [
    "WDir2011CPlot = df_WD2011C.plot(kind='line',color='black', y='Wind Direction')\n",
    "WDir2011CPlot.set_title(\"Wind Direction 2011 at C46036\")\n",
    "WDir2011CPlot.set_xlabel('Date Time')\n",
    "WDir2011CPlot.set_ylabel('Wind Direction')"
   ]
  },
  {
   "cell_type": "code",
   "execution_count": null,
   "metadata": {},
   "outputs": [],
   "source": [
    "WS2011CPlot = df_WD2011C.plot(kind='line',color='black', y='Wind Speed')\n",
    "WS2011CPlot.set_title(\"Wind Speed 2011 at C46036\")\n",
    "WS2011CPlot.set_xlabel('Date Time')\n",
    "WS2011CPlot.set_ylabel('Wind Speed (m/s)')"
   ]
  },
  {
   "cell_type": "code",
   "execution_count": null,
   "metadata": {},
   "outputs": [],
   "source": [
    "WGS2011CPlot = df_WD2011C.plot(kind='line',color='black', y='Wind Gust Speed')\n",
    "WGS2011CPlot.set_title(\"Wind Gust Speed 2011 at C46036\")\n",
    "WGS2011CPlot.set_xlabel('Date Time')\n",
    "WGS2011CPlot.set_ylabel('Wind Gust Speed (m/s)')"
   ]
  },
  {
   "cell_type": "code",
   "execution_count": null,
   "metadata": {},
   "outputs": [],
   "source": [
    "AP2011CPlot = df_WD2011C.plot(kind='line',color='black', y='Atmospheric Pressure')\n",
    "AP2011CPlot.set_title(\"Atmospheric Pressure 2011 at C46036\")\n",
    "AP2011CPlot.set_xlabel('Date Time')\n",
    "AP2011CPlot.set_ylabel('Atmospheric Pressure')"
   ]
  },
  {
   "cell_type": "code",
   "execution_count": null,
   "metadata": {},
   "outputs": [],
   "source": [
    "AT2011CPlot = df_WD2011C.plot(kind='line',color='black', y='Air Temperature')\n",
    "AT2011CPlot.set_title(\"Air Temperature 2011 at C46036\")\n",
    "AT2011CPlot.set_xlabel('Date Time')\n",
    "AT2011CPlot.set_ylabel('Air Temperature')"
   ]
  },
  {
   "cell_type": "code",
   "execution_count": null,
   "metadata": {},
   "outputs": [],
   "source": [
    "WDir2010TPlot = df_WD2010T.plot(kind='line',color='black', y='Wind Direction')\n",
    "WDir2010TPlot.set_title(\"Wind Direction 2010 at Tillamook\")\n",
    "WDir2010TPlot.set_xlabel('Date Time')\n",
    "WDir2010TPlot.set_ylabel('Wind Direction')"
   ]
  },
  {
   "cell_type": "code",
   "execution_count": null,
   "metadata": {},
   "outputs": [],
   "source": [
    "WS2010TPlot = df_WD2010T.plot(kind='line',color='black', y='Wind Speed')\n",
    "WS2010TPlot.set_title(\"Wind Speed 2010 at Tillamook\")\n",
    "WS2010TPlot.set_xlabel('Date Time')\n",
    "WS2010TPlot.set_ylabel('Wind Speed (m/s)')"
   ]
  },
  {
   "cell_type": "code",
   "execution_count": null,
   "metadata": {},
   "outputs": [],
   "source": [
    "WGS2010TPlot = df_WD2010T.plot(kind='line',color='black', y='Wind Gust Speed')\n",
    "WGS2010TPlot.set_title(\"Wind Gust Speed 2010 at Tillamook\")\n",
    "WGS2010TPlot.set_xlabel('Date Time')\n",
    "WGS2010TPlot.set_ylabel('Wind Gust Speed (m/s)')"
   ]
  },
  {
   "cell_type": "code",
   "execution_count": null,
   "metadata": {},
   "outputs": [],
   "source": [
    "AT2010TPlot = df_WD2010T.plot(kind='line',color='black', y='Air Temperature')\n",
    "AT2010TPlot.set_title(\"Air Temperature 2010 at Tillamook\")\n",
    "AT2010TPlot.set_xlabel('Date Time')\n",
    "AT2010TPlot.set_ylabel('Air Temperature')"
   ]
  },
  {
   "cell_type": "code",
   "execution_count": null,
   "metadata": {},
   "outputs": [],
   "source": [
    "WDir2011TPlot = df_WD2011T.plot(kind='line',color='black', y='Wind Direction')\n",
    "WDir2011TPlot.set_title(\"Wind Direction 2011 at Tillamook\")\n",
    "WDir2011TPlot.set_xlabel('Date Time')\n",
    "WDir2011TPlot.set_ylabel('Wind Direction')"
   ]
  },
  {
   "cell_type": "code",
   "execution_count": null,
   "metadata": {},
   "outputs": [],
   "source": [
    "WS2011TPlot = df_WD2011T.plot(kind='line',color='black', y='Wind Speed')\n",
    "WS2011TPlot.set_title(\"Wind Speed 2011 at Tillamook\")\n",
    "WS2011TPlot.set_xlabel('Date Time')\n",
    "WS2011TPlot.set_ylabel('Wind Speed (m/s)')"
   ]
  },
  {
   "cell_type": "code",
   "execution_count": null,
   "metadata": {},
   "outputs": [],
   "source": [
    "WGS2011TPlot = df_WD2011T.plot(kind='line',color='black', y='Wind Gust Speed')\n",
    "WGS2011TPlot.set_title(\"Wind Gust Speed 2011 at Tillamook\")\n",
    "WGS2011TPlot.set_xlabel('Date Time')\n",
    "WGS2011TPlot.set_ylabel('Wind Gust Speed (m/s)')"
   ]
  },
  {
   "cell_type": "code",
   "execution_count": null,
   "metadata": {},
   "outputs": [],
   "source": [
    "AT2011TPlot = df_WD2011T.plot(kind='line',color='black', y='Air Temperature')\n",
    "AT2011TPlot.set_title(\"Air Temperature 2011 at Tillamook\")\n",
    "AT2011TPlot.set_xlabel('Date Time')\n",
    "AT2011TPlot.set_ylabel('Air Temperature')"
   ]
  },
  {
   "cell_type": "code",
   "execution_count": null,
   "metadata": {},
   "outputs": [],
   "source": [
    "times = {'Bending Data 2010':['2010-09-29 15:30:17','2010-10-25 00:08:03','unsure, highly variable'],\n",
    "        'Bending Data 2011':['2011-09-27 00:00:38','2011-12-30 21:00:40','3 hours but highly variable'],\n",
    "        'Centerline Vertical Flow Rate':['2010-09-30 20:31:00','2010-10-25 21:25:00','6 hours'],\n",
    "        'Ras Data':['2010-10-04 20:45:00','2010-10-27 08:15:00','45-60 minutes'],\n",
    "        'Weather Data 2010 C':['2010-09-30 23:43:00','2010-10-31 23:43:00','hourly'],\n",
    "        'Weather Data 2011 C':['2011-09-25 23:43:00','2011-12-31 23:43:00','hourly'],\n",
    "        'Weather Data 2010 T':['2010-09-29 00:07:00','2010-11-01 23:51:00','20 minutes'],\n",
    "        'Weather Data 2011 T':['2010-10-01 00:10:00','2013-12-01 23:55:00','20 minutes']}\n",
    "df_times = pd.DataFrame(times,index = ['start time','end time','time interval'])\n",
    "df_times"
   ]
  },
  {
   "cell_type": "code",
   "execution_count": null,
   "metadata": {},
   "outputs": [],
   "source": [
    "nanvalues = {'Weather Data 2010 C':[df_WD2010C['Wave Height'].isna().sum(),df_WD2010C['Wind Direction'].isna().sum(),df_WD2010C['Wind Speed'].isna().sum(),df_WD2010C['Wind Gust Speed'].isna().sum(),df_WD2010C['Atmospheric Pressure'].isna().sum(),df_WD2010C['Air Temperature'].isna().sum()],\n",
    "        'Weather Data 2011 C':[df_WD2011C['Wave Height'].isna().sum(),df_WD2011C['Wind Direction'].isna().sum(),df_WD2011C['Wind Speed'].isna().sum(),df_WD2011C['Wind Gust Speed'].isna().sum(),df_WD2011C['Atmospheric Pressure'].isna().sum(),df_WD2011C['Air Temperature'].isna().sum()],\n",
    "        'Weather Data 2010 T':[df_WD2010T['Wave Height'].isna().sum(),df_WD2010T['Wind Direction'].isna().sum(),df_WD2010T['Wind Speed'].isna().sum(),df_WD2010T['Wind Gust Speed'].isna().sum(),df_WD2010T['Atmospheric Pressure'].isna().sum(),df_WD2010T['Air Temperature'].isna().sum()],\n",
    "        'Weather Data 2011 T':[df_WD2011T['Wave Height'].isna().sum(),df_WD2011T['Wind Direction'].isna().sum(),df_WD2011T['Wind Speed'].isna().sum(),df_WD2011T['Wind Gust Speed'].isna().sum(),df_WD2011T['Atmospheric Pressure'].isna().sum(),df_WD2011T['Air Temperature'].isna().sum()]}\n",
    "df_nanvalues = pd.DataFrame(nanvalues,index = ['nan values Wave Height','nan values Wind Direction','nan values Wind Speed','nan values Wind Gust Speed','nan values Atmospheric Pressure','nan values Air Temperature'])\n",
    "df_nanvalues"
   ]
  },
  {
   "cell_type": "code",
   "execution_count": null,
   "metadata": {},
   "outputs": [],
   "source": [
    "bdstats = {'Bending Data 2010':[df_Bend2010['Direction'].mean(),df_Bend2010['Angle from Vertical'].mean(),df_Bend2010['Direction'].std(),df_Bend2010['Angle from Vertical'].std()],\n",
    "        'Bending Data 2011':[df_Bend2011['Direction'].mean(),df_Bend2011['Angle from Vertical'].mean(),df_Bend2011['Direction'].std(),df_Bend2011['Angle from Vertical'].std()]}\n",
    "df_bdstats = pd.DataFrame(bdstats,index = ['mean Direction','mean Angle from Vertical','Direction standard deviation','Angle from Vertical standard deviation'])\n",
    "df_bdstats"
   ]
  },
  {
   "cell_type": "code",
   "execution_count": null,
   "metadata": {},
   "outputs": [],
   "source": [
    "wdstats = {'Weather Data 2010 C':[df_wd2010c46036['wv_height'].mean(),df_wd2010c46036['wnd_dir'].mean(),df_wd2010c46036['wnd_spd'].mean(),df_wd2010c46036['wnd_gspd'].mean(),df_wd2010c46036['atm_prs'].mean(),df_wd2010c46036['air_temp'].mean(),\n",
    "                                  df_wd2010c46036['wv_height'].std(),df_wd2010c46036['wnd_dir'].std(),df_wd2010c46036['wnd_spd'].std(),df_wd2010c46036['wnd_gspd'].std(),df_wd2010c46036['atm_prs'].std(),df_wd2010c46036['air_temp'].std()],\n",
    "           'Weather Data 2011 C':[df_wd2011c46036['wv_height'].mean(),df_wd2011c46036['wnd_dir'].mean(),df_wd2011c46036['wnd_spd'].mean(),df_wd2011c46036['wnd_gspd'].mean(),df_wd2011c46036['atm_prs'].mean(),df_wd2011c46036['air_temp'].mean(),\n",
    "                                  df_wd2011c46036['wv_height'].std(),df_wd2011c46036['wnd_dir'].std(),df_wd2011c46036['wnd_spd'].std(),df_wd2011c46036['wnd_gspd'].std(),df_wd2011c46036['atm_prs'].std(),df_wd2011c46036['air_temp'].std()],\n",
    "           'Weather Data 2010 T':[np.nan,df_wd2010Tillamook['wnd_dir'].mean(),df_wd2010Tillamook['wnd_spd'].mean(),df_wd2010Tillamook['wnd_gspd'].mean(),np.nan,df_wd2010Tillamook['air_temp'].mean(),\n",
    "                                  np.nan,df_wd2010Tillamook['wnd_dir'].std(),df_wd2010Tillamook['wnd_spd'].std(),df_wd2010Tillamook['wnd_gspd'].std(),np.nan,df_wd2010Tillamook['air_temp'].std()],\n",
    "           'Weather Data 2011 T':[df_wd2011Tillamook['wv_height'].mean(),df_wd2011Tillamook['wnd_dir'].mean(),df_wd2011Tillamook['wnd_spd'].mean(),df_wd2011Tillamook['wnd_gspd'].mean(),df_wd2011Tillamook['atm_prs'].mean(),df_wd2011Tillamook['air_temp'].mean(),\n",
    "                                  df_wd2011Tillamook['wv_height'].std(),df_wd2011Tillamook['wnd_dir'].std(),df_wd2011Tillamook['wnd_spd'].std(),df_wd2011Tillamook['wnd_gspd'].std(),df_wd2011Tillamook['atm_prs'].std(),df_wd2011Tillamook['air_temp'].std()]}\n",
    "df_wdstats = pd.DataFrame(wdstats,index = ['mean wave height','mean wind direction','mean wind speed','mean wind gust speed','mean atmospheric pressue','mean air temperature', 'wave height standard deviation','wind direction standard deviation','wind speed standard deviation','wind gust speed standard deviation','atmospheric pressure standard deviation','air temperature standard deviation'])\n",
    "df_wdstats"
   ]
  }
 ],
 "metadata": {
  "kernelspec": {
   "display_name": "Python 3",
   "language": "python",
   "name": "python3"
  },
  "language_info": {
   "codemirror_mode": {
    "name": "ipython",
    "version": 3
   },
   "file_extension": ".py",
   "mimetype": "text/x-python",
   "name": "python",
   "nbconvert_exporter": "python",
   "pygments_lexer": "ipython3",
   "version": "3.7.3"
  }
 },
 "nbformat": 4,
 "nbformat_minor": 4
}
