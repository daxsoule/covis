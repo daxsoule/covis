{
 "cells": [
  {
   "cell_type": "code",
   "execution_count": null,
   "metadata": {},
   "outputs": [],
   "source": [
    "import numpy as np\n",
    "import matplotlib.pyplot as plt\n",
    "%matplotlib inline\n",
    "from mpl_toolkits import mplot3d\n",
    "import pandas as pd\n",
    "from datetime import datetime"
   ]
  },
  {
   "cell_type": "markdown",
   "metadata": {},
   "source": [
    "Data Collection"
   ]
  },
  {
   "cell_type": "code",
   "execution_count": null,
   "metadata": {},
   "outputs": [],
   "source": [
    "df_Bend2010 = pd.read_csv('BendData2010.txt', sep=\"  \", header=None, engine='python')\n",
    "df_Bend2010.columns = [\"Direction\", \"Angle from Vertical\", \"Julian Day\"]\n",
    "df_Bend2010"
   ]
  },
  {
   "cell_type": "code",
   "execution_count": null,
   "metadata": {},
   "outputs": [],
   "source": [
    "df_Bend2011 = pd.read_csv('BendData2011.txt', sep=\"  \", header=None, engine='python')\n",
    "df_Bend2011.columns = [\"Direction\", \"Angle from Vertical\", \"Julian Day\"]\n",
    "df_Bend2011"
   ]
  },
  {
   "cell_type": "code",
   "execution_count": null,
   "metadata": {},
   "outputs": [],
   "source": [
    "df_CVFR2010 = pd.read_csv('CenterlineVerticalFlowRate2010.csv', sep=\",\", header=None, engine='python', usecols = [6,7,8])\n",
    "df_CVFR2010.columns = [\"Date\", \"Time\", \"Flow Rate\"]\n",
    "df_CVFR2010['Date Time'] = df_CVFR2010['Date'] + ' ' + df_CVFR2010['Time']\n",
    "df_CVFR2010[\"Date Time\"] = pd.to_datetime(df_CVFR2010[\"Date Time\"])\n",
    "df_CVFR2010 = df_CVFR2010.drop([\"Date\", \"Time\"], axis=1)\n",
    "df_CVFR2010 = df_CVFR2010.set_index('Date Time')\n",
    "df_CVFR2010"
   ]
  },
  {
   "cell_type": "code",
   "execution_count": null,
   "metadata": {},
   "outputs": [],
   "source": [
    "df_RAS2010 = pd.read_csv('RasData2010.csv', sep=\",\", header=None, engine='python', usecols = [6,7,8])\n",
    "df_RAS2010.columns = [\"Date\", \"Time\", \"Temperature\"]\n",
    "df_RAS2010['Date Time'] = df_RAS2010['Date'] + ' ' + df_RAS2010['Time']\n",
    "df_RAS2010[\"Date Time\"] = pd.to_datetime(df_RAS2010[\"Date Time\"])\n",
    "df_RAS2010 = df_RAS2010.drop([\"Date\", \"Time\"], axis=1)\n",
    "df_RAS2010 = df_RAS2010.set_index('Date Time')\n",
    "df_RAS2010"
   ]
  },
  {
   "cell_type": "code",
   "execution_count": null,
   "metadata": {},
   "outputs": [],
   "source": [
    "df_WD2010C = pd.read_csv('WeatherC2010.csv', sep=\",\", header=None, engine='python', usecols = [6,7,8,9,10,11,12,13,14,15])\n",
    "df_WD2010C.columns = [\"Date\", \"Time\", \"Julian Day\", \"Wave Height\", \"Wind Direction\", \"Wind Speed\", \"Wind Gust Speed\", \"Atmospheric Pressure\",\"Air Temperature\"]\n",
    "df_WD2010C['Date Time'] = df_WD2010C['Date'] + ' ' + df_WD2010C['Time']\n",
    "df_WD2010C[\"Date Time\"] = pd.to_datetime(df_WD2010C[\"Date Time\"])\n",
    "df_WD2010C = df_WD2010C.drop([\"Date\", \"Time\"], axis=1)\n",
    "df_WD2010C = df_WD2010C.set_index('Date Time')\n",
    "df_WD2010C"
   ]
  },
  {
   "cell_type": "code",
   "execution_count": null,
   "metadata": {},
   "outputs": [],
   "source": [
    "df_WD2011C = pd.read_csv('WeatherC2011.csv', sep=\",\", header=None, engine='python', usecols = [6,7,8,9,10,11,12,13,14,15])\n",
    "df_WD2011C.columns = [\"Date\", \"Time\", \"Julian Day\", \"Wave Height\", \"Wind Direction\", \"Wind Speed\", \"Wind Gust Speed\", \"Atmospheric Pressure\",\"Air Temperature\"]\n",
    "df_WD2011C['Date Time'] = df_WD2011C['Date'] + ' ' + df_WD2011C['Time']\n",
    "df_WD2011C[\"Date Time\"] = pd.to_datetime(df_WD2011C[\"Date Time\"])\n",
    "df_WD2011C = df_WD2011C.drop([\"Date\", \"Time\"], axis=1)\n",
    "df_WD2011C = df_WD2011C.set_index('Date Time')\n",
    "df_WD2011C"
   ]
  },
  {
   "cell_type": "code",
   "execution_count": null,
   "metadata": {},
   "outputs": [],
   "source": [
    "df_WD2010T = pd.read_csv('WeatherT2010.csv', sep=\",\", header=None, engine='python', usecols = [6,7,8,9,10,11,12,13,14,15])\n",
    "df_WD2010T.columns = [\"Date\", \"Time\", \"Julian Day\", \"Wave Height\", \"Wind Direction\", \"Wind Speed\", \"Wind Gust Speed\", \"Atmospheric Pressure\",\"Air Temperature\"]\n",
    "df_WD2010T['Date Time'] = df_WD2010T['Date'] + ' ' + df_WD2010T['Time']\n",
    "df_WD2010T[\"Date Time\"] = pd.to_datetime(df_WD2010T[\"Date Time\"])\n",
    "df_WD2010T = df_WD2010T.drop([\"Date\", \"Time\"], axis=1)\n",
    "df_WD2010T = df_WD2010T.set_index('Date Time')\n",
    "df_WD2010T"
   ]
  },
  {
   "cell_type": "code",
   "execution_count": null,
   "metadata": {},
   "outputs": [],
   "source": [
    "df_WD2011T = pd.read_csv('WeatherT2011.csv', sep=\",\", header=None, engine='python', usecols = [6,7,8,9,10,11,12,13,14,15])\n",
    "df_WD2011T.columns = [\"Date\", \"Time\", \"Julian Day\", \"Wave Height\", \"Wind Direction\", \"Wind Speed\", \"Wind Gust Speed\", \"Atmospheric Pressure\",\"Air Temperature\"]\n",
    "df_WD2011T['Date Time'] = df_WD2011T['Date'] + ' ' + df_WD2011T['Time']\n",
    "df_WD2011T[\"Date Time\"] = pd.to_datetime(df_WD2011T[\"Date Time\"])\n",
    "df_WD2011T = df_WD2011T.drop([\"Date\", \"Time\"], axis=1)\n",
    "df_WD2011T = df_WD2011T.set_index('Date Time')\n",
    "df_WD2011T"
   ]
  },
  {
   "cell_type": "markdown",
   "metadata": {},
   "source": [
    "Plots"
   ]
  },
  {
   "cell_type": "code",
   "execution_count": null,
   "metadata": {},
   "outputs": [],
   "source": [
    "DirPlot2010 = df_Bend2010.plot(kind='line',x='Julian Day',y=\"Direction\",color='blue')\n",
    "DirPlot2010.set_title(\"Direction of Bending\")\n",
    "DirPlot2010.set_xlabel('Julian Day')\n",
    "DirPlot2010.set_ylabel('Direction (Degrees from North)')"
   ]
  },
  {
   "cell_type": "code",
   "execution_count": null,
   "metadata": {},
   "outputs": [],
   "source": [
    "AFVPlot2010 = df_Bend2010.plot(kind='line',x='Julian Day',y=\"Angle from Vertical\",color='red')\n",
    "AFVPlot2010.set_title(\"Bending Angle from Vertical\")\n",
    "AFVPlot2010.set_xlabel('Julian Day')\n",
    "AFVPlot2010.set_ylabel('Angle from Vertical (Degrees)')"
   ]
  },
  {
   "cell_type": "code",
   "execution_count": null,
   "metadata": {},
   "outputs": [],
   "source": [
    "DirAFVPlot2010 = df_Bend2010.plot(kind='line',x='Julian Day',y=[\"Direction\", \"Angle from Vertical\"],color=['blue','green'])\n",
    "DirAFVPlot2010.set_title(\"Plume Bending Data 2010\")\n",
    "DirAFVPlot2010.set_xlabel('Julian Day')\n",
    "DirAFVPlot2010.set_ylabel('Degrees')"
   ]
  },
  {
   "cell_type": "code",
   "execution_count": null,
   "metadata": {},
   "outputs": [],
   "source": [
    "CVFRPlot = df_CVFR2010.plot(kind='line',color='black')\n",
    "CVFRPlot.set_title(\"Centerline Vertical Flow Rate\")\n",
    "CVFRPlot.set_xlabel('Date Time')\n",
    "CVFRPlot.set_ylabel('Flow Rate (m/s)')"
   ]
  },
  {
   "cell_type": "code",
   "execution_count": null,
   "metadata": {},
   "outputs": [],
   "source": [
    "RASPlot = df_RAS2010.plot(kind='line',color='black')\n",
    "RASPlot.set_title(\"RAS Temperature\")\n",
    "RASPlot.set_xlabel('Date Time')\n",
    "RASPlot.set_ylabel('Temperature (°C)')"
   ]
  },
  {
   "cell_type": "code",
   "execution_count": null,
   "metadata": {},
   "outputs": [],
   "source": [
    "WH2010CPlot = df_WD2010C.plot(kind='line',color='black', y='Wave Height')\n",
    "WH2010CPlot.set_title(\"Wave Height 2010 at C46036\")\n",
    "WH2010CPlot.set_xlabel('Date Time')\n",
    "WH2010CPlot.set_ylabel('Wave Height')"
   ]
  },
  {
   "cell_type": "code",
   "execution_count": null,
   "metadata": {},
   "outputs": [],
   "source": [
    "WDir2010CPlot = df_WD2010C.plot(kind='line',color='black', y='Wind Direction')\n",
    "WDir2010CPlot.set_title(\"Wind Direction 2010 at C46036\")\n",
    "WDir2010CPlot.set_xlabel('Date Time')\n",
    "WDir2010CPlot.set_ylabel('Wind Direction')"
   ]
  },
  {
   "cell_type": "code",
   "execution_count": null,
   "metadata": {},
   "outputs": [],
   "source": [
    "WS2010CPlot = df_WD2010C.plot(kind='line',color='black', y='Wind Speed')\n",
    "WS2010CPlot.set_title(\"Wind Speed 2010 at C46036\")\n",
    "WS2010CPlot.set_xlabel('Date Time')\n",
    "WS2010CPlot.set_ylabel('Wind Speed (m/s)')"
   ]
  },
  {
   "cell_type": "code",
   "execution_count": null,
   "metadata": {},
   "outputs": [],
   "source": [
    "WGS2010CPlot = df_WD2010C.plot(kind='line',color='black', y='Wind Gust Speed')\n",
    "WGS2010CPlot.set_title(\"Wind Gust Speed 2010 at C46036\")\n",
    "WGS2010CPlot.set_xlabel('Date Time')\n",
    "WGS2010CPlot.set_ylabel('Wind Gust Speed (m/s)')"
   ]
  },
  {
   "cell_type": "code",
   "execution_count": null,
   "metadata": {},
   "outputs": [],
   "source": [
    "AP2010CPlot = df_WD2010C.plot(kind='line',color='black', y='Atmospheric Pressure')\n",
    "AP2010CPlot.set_title(\"Atmospheric Pressure 2010 at C46036\")\n",
    "AP2010CPlot.set_xlabel('Date Time')\n",
    "AP2010CPlot.set_ylabel('Atmospheric Pressure')"
   ]
  },
  {
   "cell_type": "code",
   "execution_count": null,
   "metadata": {},
   "outputs": [],
   "source": [
    "AT2010CPlot = df_WD2010C.plot(kind='line',color='black', y='Air Temperature')\n",
    "AT2010CPlot.set_title(\"Air Temperature 2010 at C46036\")\n",
    "AT2010CPlot.set_xlabel('Date Time')\n",
    "AT2010CPlot.set_ylabel('Air Temperature')"
   ]
  },
  {
   "cell_type": "code",
   "execution_count": null,
   "metadata": {},
   "outputs": [],
   "source": [
    "WH2011CPlot = df_WD2011C.plot(kind='line',color='black', y='Wave Height')\n",
    "WH2011CPlot.set_title(\"Wave Height 2011 at C46036\")\n",
    "WH2011CPlot.set_xlabel('Date Time')\n",
    "WH2011CPlot.set_ylabel('Wave Height')"
   ]
  },
  {
   "cell_type": "code",
   "execution_count": null,
   "metadata": {},
   "outputs": [],
   "source": [
    "WDir2011CPlot = df_WD2011C.plot(kind='line',color='black', y='Wind Direction')\n",
    "WDir2011CPlot.set_title(\"Wind Direction 2011 at C46036\")\n",
    "WDir2011CPlot.set_xlabel('Date Time')\n",
    "WDir2011CPlot.set_ylabel('Wind Direction')"
   ]
  },
  {
   "cell_type": "code",
   "execution_count": null,
   "metadata": {},
   "outputs": [],
   "source": [
    "WS2011CPlot = df_WD2011C.plot(kind='line',color='black', y='Wind Speed')\n",
    "WS2011CPlot.set_title(\"Wind Speed 2011 at C46036\")\n",
    "WS2011CPlot.set_xlabel('Date Time')\n",
    "WS2011CPlot.set_ylabel('Wind Speed (m/s)')"
   ]
  },
  {
   "cell_type": "code",
   "execution_count": null,
   "metadata": {},
   "outputs": [],
   "source": [
    "WGS2011CPlot = df_WD2011C.plot(kind='line',color='black', y='Wind Gust Speed')\n",
    "WGS2011CPlot.set_title(\"Wind Gust Speed 2011 at C46036\")\n",
    "WGS2011CPlot.set_xlabel('Date Time')\n",
    "WGS2011CPlot.set_ylabel('Wind Gust Speed (m/s)')"
   ]
  },
  {
   "cell_type": "code",
   "execution_count": null,
   "metadata": {},
   "outputs": [],
   "source": [
    "AP2011CPlot = df_WD2011C.plot(kind='line',color='black', y='Atmospheric Pressure')\n",
    "AP2011CPlot.set_title(\"Atmospheric Pressure 2011 at C46036\")\n",
    "AP2011CPlot.set_xlabel('Date Time')\n",
    "AP2011CPlot.set_ylabel('Atmospheric Pressure')"
   ]
  },
  {
   "cell_type": "code",
   "execution_count": null,
   "metadata": {},
   "outputs": [],
   "source": [
    "AT2011CPlot = df_WD2011C.plot(kind='line',color='black', y='Air Temperature')\n",
    "AT2011CPlot.set_title(\"Air Temperature 2011 at C46036\")\n",
    "AT2011CPlot.set_xlabel('Date Time')\n",
    "AT2011CPlot.set_ylabel('Air Temperature')"
   ]
  },
  {
   "cell_type": "code",
   "execution_count": null,
   "metadata": {},
   "outputs": [],
   "source": [
    "WDir2010TPlot = df_WD2010T.plot(kind='line',color='black', y='Wind Direction')\n",
    "WDir2010TPlot.set_title(\"Wind Direction 2010 at Tillamook\")\n",
    "WDir2010TPlot.set_xlabel('Date Time')\n",
    "WDir2010TPlot.set_ylabel('Wind Direction')"
   ]
  },
  {
   "cell_type": "code",
   "execution_count": null,
   "metadata": {},
   "outputs": [],
   "source": [
    "WS2010TPlot = df_WD2010T.plot(kind='line',color='black', y='Wind Speed')\n",
    "WS2010TPlot.set_title(\"Wind Speed 2010 at Tillamook\")\n",
    "WS2010TPlot.set_xlabel('Date Time')\n",
    "WS2010TPlot.set_ylabel('Wind Speed (m/s)')"
   ]
  },
  {
   "cell_type": "code",
   "execution_count": null,
   "metadata": {},
   "outputs": [],
   "source": [
    "WGS2010TPlot = df_WD2010T.plot(kind='line',color='black', y='Wind Gust Speed')\n",
    "WGS2010TPlot.set_title(\"Wind Gust Speed 2010 at Tillamook\")\n",
    "WGS2010TPlot.set_xlabel('Date Time')\n",
    "WGS2010TPlot.set_ylabel('Wind Gust Speed (m/s)')"
   ]
  },
  {
   "cell_type": "code",
   "execution_count": null,
   "metadata": {},
   "outputs": [],
   "source": [
    "AT2010TPlot = df_WD2010T.plot(kind='line',color='black', y='Air Temperature')\n",
    "AT2010TPlot.set_title(\"Air Temperature 2010 at Tillamook\")\n",
    "AT2010TPlot.set_xlabel('Date Time')\n",
    "AT2010TPlot.set_ylabel('Air Temperature')"
   ]
  },
  {
   "cell_type": "code",
   "execution_count": null,
   "metadata": {},
   "outputs": [],
   "source": [
    "WDir2011TPlot = df_WD2011T.plot(kind='line',color='black', y='Wind Direction')\n",
    "WDir2011TPlot.set_title(\"Wind Direction 2011 at Tillamook\")\n",
    "WDir2011TPlot.set_xlabel('Date Time')\n",
    "WDir2011TPlot.set_ylabel('Wind Direction')"
   ]
  },
  {
   "cell_type": "code",
   "execution_count": null,
   "metadata": {},
   "outputs": [],
   "source": [
    "WS2011TPlot = df_WD2011T.plot(kind='line',color='black', y='Wind Speed')\n",
    "WS2011TPlot.set_title(\"Wind Speed 2011 at Tillamook\")\n",
    "WS2011TPlot.set_xlabel('Date Time')\n",
    "WS2011TPlot.set_ylabel('Wind Speed (m/s)')"
   ]
  },
  {
   "cell_type": "code",
   "execution_count": null,
   "metadata": {},
   "outputs": [],
   "source": [
    "WGS2011TPlot = df_WD2011T.plot(kind='line',color='black', y='Wind Gust Speed')\n",
    "WGS2011TPlot.set_title(\"Wind Gust Speed 2011 at Tillamook\")\n",
    "WGS2011TPlot.set_xlabel('Date Time')\n",
    "WGS2011TPlot.set_ylabel('Wind Gust Speed (m/s)')"
   ]
  },
  {
   "cell_type": "code",
   "execution_count": null,
   "metadata": {},
   "outputs": [],
   "source": [
    "AT2011TPlot = df_WD2011T.plot(kind='line',color='black', y='Air Temperature')\n",
    "AT2011TPlot.set_title(\"Air Temperature 2011 at Tillamook\")\n",
    "AT2011TPlot.set_xlabel('Date Time')\n",
    "AT2011TPlot.set_ylabel('Air Temperature')"
   ]
  },
  {
   "cell_type": "code",
   "execution_count": null,
   "metadata": {},
   "outputs": [],
   "source": []
  }
 ],
 "metadata": {
  "kernelspec": {
   "display_name": "Python 3",
   "language": "python",
   "name": "python3"
  },
  "language_info": {
   "codemirror_mode": {
    "name": "ipython",
    "version": 3
   },
   "file_extension": ".py",
   "mimetype": "text/x-python",
   "name": "python",
   "nbconvert_exporter": "python",
   "pygments_lexer": "ipython3",
   "version": "3.7.3"
  }
 },
 "nbformat": 4,
 "nbformat_minor": 4
}
