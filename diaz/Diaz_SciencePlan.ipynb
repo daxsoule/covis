{
 "cells": [
  {
   "cell_type": "code",
   "execution_count": null,
   "metadata": {},
   "outputs": [],
   "source": [
    "import numpy as np\n",
    "import matplotlib.pyplot as plt\n",
    "%matplotlib inline\n",
    "from mpl_toolkits import mplot3d\n",
    "import pandas as pd\n",
    "from datetime import datetime"
   ]
  },
  {
   "cell_type": "markdown",
   "metadata": {},
   "source": [
    "Data Gathering"
   ]
  },
  {
   "cell_type": "code",
   "execution_count": null,
   "metadata": {},
   "outputs": [],
   "source": [
    "df_Bend2010 = pd.read_csv('BendData2010.txt', sep=\"  \", header=None, engine='python')\n",
    "df_Bend2010.columns = [\"Direction\", \"Angle from Vertical\", \"Julian Day\"]\n",
    "df_Bend2010"
   ]
  },
  {
   "cell_type": "code",
   "execution_count": null,
   "metadata": {},
   "outputs": [],
   "source": [
    "df_Bend2011 = pd.read_csv('BendData2011.txt', sep=\"  \", header=None, engine='python')\n",
    "df_Bend2011.columns = [\"Direction\", \"Angle from Vertical\", \"Julian Day\"]\n",
    "df_Bend2011"
   ]
  },
  {
   "cell_type": "code",
   "execution_count": null,
   "metadata": {},
   "outputs": [],
   "source": []
  },
  {
   "cell_type": "code",
   "execution_count": null,
   "metadata": {},
   "outputs": [],
   "source": [
    "df_CVFR2010 = pd.read_csv('CenterlineVerticalFlowRate2010.csv', sep=\",\", header=None, engine='python', usecols = [6,7,8])\n",
    "df_CVFR2010.columns = [\"Date\", \"Time\", \"Flow Rate\"]\n",
    "df_CVFR2010['Date Time'] = df_CVFR2010['Date'] + ' ' + df_CVFR2010['Time']\n",
    "df_CVFR2010[\"Date Time\"] = pd.to_datetime(df_CVFR2010[\"Date Time\"])\n",
    "df_CVFR2010 = df_CVFR2010.drop([\"Date\", \"Time\"], axis=1)\n",
    "df_CVFR2010 = df_CVFR2010.set_index('Date Time')\n",
    "df_CVFR2010"
   ]
  },
  {
   "cell_type": "code",
   "execution_count": null,
   "metadata": {},
   "outputs": [],
   "source": [
    "df_RAS2010 = pd.read_csv('RasData2010.csv', sep=\",\", header=None, engine='python', usecols = [6,7,8])\n",
    "df_RAS2010.columns = [\"Date\", \"Time\", \"Temperature\"]\n",
    "df_RAS2010['Date Time'] = df_RAS2010['Date'] + ' ' + df_RAS2010['Time']\n",
    "df_RAS2010[\"Date Time\"] = pd.to_datetime(df_RAS2010[\"Date Time\"])\n",
    "df_RAS2010 = df_RAS2010.drop([\"Date\", \"Time\"], axis=1)\n",
    "df_RAS2010 = df_RAS2010.set_index('Date Time')\n",
    "df_RAS2010"
   ]
  },
  {
   "cell_type": "code",
   "execution_count": null,
   "metadata": {},
   "outputs": [],
   "source": []
  },
  {
   "cell_type": "code",
   "execution_count": null,
   "metadata": {},
   "outputs": [],
   "source": [
    "df_WD2010C = pd.read_csv('WeatherC2010.csv', sep=\",\", header=None, engine='python', usecols = [6,7,8,9,10,11,12,13,14,15])\n",
    "df_WD2010C.columns = [\"Date\", \"Time\", \"Julian Day\", \"Wave Height\", \"Wind Direction\", \"Wind Speed\", \"Wind Gust Speed\", \"Atmospheric Pressure\",\"Air Temperature\"]\n",
    "df_WD2010C['Date Time'] = df_WD2010C['Date'] + ' ' + df_WD2010C['Time']\n",
    "df_WD2010C[\"Date Time\"] = pd.to_datetime(df_WD2010C[\"Date Time\"])\n",
    "df_WD2010C = df_WD2010C.drop([\"Date\", \"Time\"], axis=1)\n",
    "df_WD2010C = df_WD2010C.set_index('Date Time')\n",
    "df_WD2010C"
   ]
  },
  {
   "cell_type": "code",
   "execution_count": null,
   "metadata": {},
   "outputs": [],
   "source": [
    "df_WD2011C = pd.read_csv('WeatherC2011.csv', sep=\",\", header=None, engine='python', usecols = [6,7,8,9,10,11,12,13,14,15])\n",
    "df_WD2011C.columns = [\"Date\", \"Time\", \"Julian Day\", \"Wave Height\", \"Wind Direction\", \"Wind Speed\", \"Wind Gust Speed\", \"Atmospheric Pressure\",\"Air Temperature\"]\n",
    "df_WD2011C['Date Time'] = df_WD2011C['Date'] + ' ' + df_WD2011C['Time']\n",
    "df_WD2011C[\"Date Time\"] = pd.to_datetime(df_WD2011C[\"Date Time\"])\n",
    "df_WD2011C = df_WD2011C.drop([\"Date\", \"Time\"], axis=1)\n",
    "df_WD2011C = df_WD2011C.set_index('Date Time')\n",
    "df_WD2011C"
   ]
  },
  {
   "cell_type": "code",
   "execution_count": null,
   "metadata": {},
   "outputs": [],
   "source": [
    "df_WD2010T = pd.read_csv('WeatherT2010.csv', sep=\",\", header=None, engine='python', usecols = [6,7,8,9,10,11,12,13,14,15])\n",
    "df_WD2010T.columns = [\"Date\", \"Time\", \"Julian Day\", \"Wave Height\", \"Wind Direction\", \"Wind Speed\", \"Wind Gust Speed\", \"Atmospheric Pressure\",\"Air Temperature\"]\n",
    "df_WD2010T['Date Time'] = df_WD2010T['Date'] + ' ' + df_WD2010T['Time']\n",
    "df_WD2010T[\"Date Time\"] = pd.to_datetime(df_WD2010T[\"Date Time\"])\n",
    "df_WD2010T = df_WD2010T.drop([\"Date\", \"Time\"], axis=1)\n",
    "df_WD2010T = df_WD2010T.set_index('Date Time')\n",
    "df_WD2010T"
   ]
  },
  {
   "cell_type": "code",
   "execution_count": null,
   "metadata": {},
   "outputs": [],
   "source": [
    "df_WD2011T = pd.read_csv('WeatherT2011.csv', sep=\",\", header=None, engine='python', usecols = [6,7,8,9,10,11,12,13,14,15])\n",
    "df_WD2011T.columns = [\"Date\", \"Time\", \"Julian Day\", \"Wave Height\", \"Wind Direction\", \"Wind Speed\", \"Wind Gust Speed\", \"Atmospheric Pressure\",\"Air Temperature\"]\n",
    "df_WD2011T['Date Time'] = df_WD2011T['Date'] + ' ' + df_WD2011T['Time']\n",
    "df_WD2011T[\"Date Time\"] = pd.to_datetime(df_WD2011T[\"Date Time\"])\n",
    "df_WD2011T = df_WD2011T.drop([\"Date\", \"Time\"], axis=1)\n",
    "df_WD2011T = df_WD2011T.set_index('Date Time')\n",
    "df_WD2011T"
   ]
  },
  {
   "cell_type": "code",
   "execution_count": null,
   "metadata": {},
   "outputs": [],
   "source": [
    "DirPlot2010 = df_Bend2010.plot(kind='line',x='Julian Day',y=\"Direction\",color='red')\n",
    "DirPlot2010.set_title(\"Direction of Bending\")\n",
    "DirPlot2010.set_xlabel('Julian Day')\n",
    "DirPlot2010.set_ylabel('Direction (Degrees from North)')"
   ]
  },
  {
   "cell_type": "code",
   "execution_count": null,
   "metadata": {},
   "outputs": [],
   "source": [
    "AFVPlot2010 = df_Bend2010.plot(kind='line',x='Julian Day',y=\"Angle from Vertical\",color='red')\n",
    "AFVPlot2010.set_title(\"Bending Angle from Vertical\")\n",
    "AFVPlot2010.set_xlabel('Julian Day')\n",
    "AFVPlot2010.set_ylabel('Angle from Vertical (Degress)')"
   ]
  },
  {
   "cell_type": "code",
   "execution_count": null,
   "metadata": {},
   "outputs": [],
   "source": [
    "DirAFVPlot2010 = df_Bend2010.plot(kind='line',x='Julian Day',y=[\"Direction\", \"Angle from Vertical\"],color=['blue','green'])\n",
    "DirAFVPlot2010.set_title(\"Plume Bending Data 2010\")\n",
    "DirAFVPlot2010.set_xlabel('Julian Day')\n",
    "DirAFVPlot2010.set_ylabel('Degress')"
   ]
  }
 ],
 "metadata": {
  "kernelspec": {
   "display_name": "Python 3",
   "language": "python",
   "name": "python3"
  },
  "language_info": {
   "codemirror_mode": {
    "name": "ipython",
    "version": 3
   },
   "file_extension": ".py",
   "mimetype": "text/x-python",
   "name": "python",
   "nbconvert_exporter": "python",
   "pygments_lexer": "ipython3",
   "version": "3.7.3"
  }
 },
 "nbformat": 4,
 "nbformat_minor": 4
}
